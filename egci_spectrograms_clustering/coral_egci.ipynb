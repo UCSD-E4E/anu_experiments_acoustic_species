{
 "cells": [
  {
   "cell_type": "code",
   "execution_count": 1,
   "id": "8e1078ce",
   "metadata": {},
   "outputs": [
    {
     "name": "stderr",
     "output_type": "stream",
     "text": [
      "2025-07-25 09:41:18.332612: E external/local_xla/xla/stream_executor/cuda/cuda_fft.cc:479] Unable to register cuFFT factory: Attempting to register factory for plugin cuFFT when one has already been registered\n",
      "2025-07-25 09:41:18.352762: E external/local_xla/xla/stream_executor/cuda/cuda_dnn.cc:10575] Unable to register cuDNN factory: Attempting to register factory for plugin cuDNN when one has already been registered\n",
      "2025-07-25 09:41:18.352795: E external/local_xla/xla/stream_executor/cuda/cuda_blas.cc:1442] Unable to register cuBLAS factory: Attempting to register factory for plugin cuBLAS when one has already been registered\n",
      "2025-07-25 09:41:18.366110: I tensorflow/core/platform/cpu_feature_guard.cc:210] This TensorFlow binary is optimized to use available CPU instructions in performance-critical operations.\n",
      "To enable the following instructions: AVX2 FMA, in other operations, rebuild TensorFlow with the appropriate compiler flags.\n",
      "2025-07-25 09:41:19.215335: W tensorflow/compiler/tf2tensorrt/utils/py_utils.cc:38] TF-TRT Warning: Could not find TensorRT\n"
     ]
    }
   ],
   "source": [
    "# imports\n",
    "import librosa, os\n",
    "from scipy.linalg import svd, toeplitz\n",
    "from scipy.stats import zscore\n",
    "import numpy as np\n",
    "from scipy.stats import entropy\n",
    "from statsmodels.tsa.stattools import acf\n",
    "\n",
    "from tqdm.notebook import tqdm\n",
    "from random import sample\n",
    "import seaborn as sns\n",
    "import pandas as pd\n",
    "import matplotlib.pyplot as plt\n",
    "from multiprocessing import Pool\n",
    "from sklearn import svm, neighbors, model_selection\n",
    "from statistics import mean\n",
    "from sklearn.metrics import classification_report\n",
    "\n",
    "from pyha_analyzer import PyhaTrainer, PyhaTrainingArguments, extractors\n"
   ]
  },
  {
   "cell_type": "code",
   "execution_count": 2,
   "id": "86ca85f5",
   "metadata": {},
   "outputs": [],
   "source": [
    "lag = 512\n",
    "\n",
    "# juan colonna entropy\n",
    "\n",
    "def Entropy(p1):\n",
    "    p1 = p1/np.sum(p1)\n",
    "    return entropy(p1)/np.log(len(p1))\n",
    "# EGCI calculation from https://github.com/juancolonna/EGCI/blob/master/Example_of_EGCI_calculation.ipynb\n",
    "\n",
    "def JSD(p):\n",
    "    n = len(p)\n",
    "    q = np.ones(n)/n # Uniform reference\n",
    "    p = np.asarray(p)\n",
    "    q = np.asarray(q)\n",
    "    p = p/p.sum() # normalize\n",
    "    m = (p + q) / 2\n",
    "    jensen0 = -2*((((n+1)/n)*np.log(n+1)-2*np.log(2*n) + np.log(n))**(-1))\n",
    "    return jensen0*(entropy(p, m) + entropy(q, m)) / 2\n",
    "\n",
    "def EGCI(x):\n",
    "    x = zscore(x)\n",
    "    \n",
    "    # Algorithm steps \n",
    "    rxx = acf(x, nlags=lag, adjusted=True, fft=True) #https://github.com/blue-yonder/tsfresh/issues/902\n",
    "    Sxx = toeplitz(rxx)\n",
    "    U, s, Vt = np.linalg.svd(Sxx) #svd(Sxx)\n",
    "    \n",
    "    print(JSD(s))\n",
    "    \n",
    "    return Entropy(s), Entropy(s)*JSD(s) \n",
    "\n",
    "def process_data(data):\n",
    "    path = data[\"filepath\"]\n",
    "    \n",
    "    if (\".WAV\" not in path) and (\".wav\" not in path):\n",
    "        print(\"directory found\")\n",
    "        return None\n",
    "    \n",
    "    i = 0\n",
    "    audio, sr = librosa.load(path, sr=data['sample_rate'], duration=5, offset=i)\n",
    "\n",
    "    \n",
    "    if librosa.get_duration(y = audio, sr = sr) == 0:\n",
    "        return None\n",
    "    \n",
    "    h, c = EGCI(audio)\n",
    "\n",
    "    \n",
    "    \n",
    "    output_data = {\n",
    "            \"path\": path,\n",
    "            \"offset_s\": 0,\n",
    "            \"sr\": sr,\n",
    "            \"gt\": data['labels'],\n",
    "            \"site\": data['site_name'],\n",
    "            \"entropy\": h,\n",
    "            \"complexity\": c\n",
    "        }\n",
    "    return output_data"
   ]
  },
  {
   "cell_type": "code",
   "execution_count": 3,
   "id": "6858db6f",
   "metadata": {},
   "outputs": [
    {
     "name": "stdout",
     "output_type": "stream",
     "text": [
      "Site_A\n",
      "Site_B\n",
      "Site_C\n",
      "A_ND\n",
      "A_D\n",
      "Australia\n",
      "French_Polynesia\n",
      "Indonesia\n",
      "count: 44558\n"
     ]
    },
    {
     "data": {
      "application/vnd.jupyter.widget-view+json": {
       "model_id": "d09cfe7c2d704ab4b7f5ff5731b7e5db",
       "version_major": 2,
       "version_minor": 0
      },
      "text/plain": [
       "Casting to class labels:   0%|          | 0/44558 [00:00<?, ? examples/s]"
      ]
     },
     "metadata": {},
     "output_type": "display_data"
    },
    {
     "data": {
      "application/vnd.jupyter.widget-view+json": {
       "model_id": "609fc6d1c1b940a38d26a7b413ba7e14",
       "version_major": 2,
       "version_minor": 0
      },
      "text/plain": [
       "Filter:   0%|          | 0/44558 [00:00<?, ? examples/s]"
      ]
     },
     "metadata": {},
     "output_type": "display_data"
    },
    {
     "data": {
      "application/vnd.jupyter.widget-view+json": {
       "model_id": "67113ced8c62484bbe7699692c45e495",
       "version_major": 2,
       "version_minor": 0
      },
      "text/plain": [
       "Filter:   0%|          | 0/44558 [00:00<?, ? examples/s]"
      ]
     },
     "metadata": {},
     "output_type": "display_data"
    },
    {
     "data": {
      "application/vnd.jupyter.widget-view+json": {
       "model_id": "5ba74402eb4c42d19908da13b008f3ed",
       "version_major": 2,
       "version_minor": 0
      },
      "text/plain": [
       "Filter:   0%|          | 0/44558 [00:00<?, ? examples/s]"
      ]
     },
     "metadata": {},
     "output_type": "display_data"
    },
    {
     "data": {
      "application/vnd.jupyter.widget-view+json": {
       "model_id": "427c3eb6fadc4ad48d0735d7f3e399ec",
       "version_major": 2,
       "version_minor": 0
      },
      "text/plain": [
       "Filter:   0%|          | 0/44558 [00:00<?, ? examples/s]"
      ]
     },
     "metadata": {},
     "output_type": "display_data"
    },
    {
     "data": {
      "application/vnd.jupyter.widget-view+json": {
       "model_id": "4b2681c27bfc423aaa4d2134d5fa16e1",
       "version_major": 2,
       "version_minor": 0
      },
      "text/plain": [
       "Filter:   0%|          | 0/44558 [00:00<?, ? examples/s]"
      ]
     },
     "metadata": {},
     "output_type": "display_data"
    },
    {
     "data": {
      "application/vnd.jupyter.widget-view+json": {
       "model_id": "c189c4a3a48d45288722cbe5e10721a3",
       "version_major": 2,
       "version_minor": 0
      },
      "text/plain": [
       "Filter:   0%|          | 0/44558 [00:00<?, ? examples/s]"
      ]
     },
     "metadata": {},
     "output_type": "display_data"
    },
    {
     "data": {
      "application/vnd.jupyter.widget-view+json": {
       "model_id": "925d03a45930460a9af633e30c3bff21",
       "version_major": 2,
       "version_minor": 0
      },
      "text/plain": [
       "Filter:   0%|          | 0/44558 [00:00<?, ? examples/s]"
      ]
     },
     "metadata": {},
     "output_type": "display_data"
    },
    {
     "data": {
      "application/vnd.jupyter.widget-view+json": {
       "model_id": "e6c7bff070a74bfa92112556cd54e889",
       "version_major": 2,
       "version_minor": 0
      },
      "text/plain": [
       "Filter:   0%|          | 0/44558 [00:00<?, ? examples/s]"
      ]
     },
     "metadata": {},
     "output_type": "display_data"
    },
    {
     "data": {
      "application/vnd.jupyter.widget-view+json": {
       "model_id": "1ea79d84144641d7b761967fd4f251e8",
       "version_major": 2,
       "version_minor": 0
      },
      "text/plain": [
       "Casting the dataset:   0%|          | 0/140 [00:00<?, ? examples/s]"
      ]
     },
     "metadata": {},
     "output_type": "display_data"
    },
    {
     "data": {
      "application/vnd.jupyter.widget-view+json": {
       "model_id": "367ceac1b5dc4334a65f1d98681571db",
       "version_major": 2,
       "version_minor": 0
      },
      "text/plain": [
       "Casting the dataset:   0%|          | 0/18 [00:00<?, ? examples/s]"
      ]
     },
     "metadata": {},
     "output_type": "display_data"
    },
    {
     "data": {
      "application/vnd.jupyter.widget-view+json": {
       "model_id": "a3a7c89917104b69b809b77db527659a",
       "version_major": 2,
       "version_minor": 0
      },
      "text/plain": [
       "Casting the dataset:   0%|          | 0/42 [00:00<?, ? examples/s]"
      ]
     },
     "metadata": {},
     "output_type": "display_data"
    }
   ],
   "source": [
    "# getting all the wavs\n",
    "\n",
    "audio_path = \"/home/a.jajodia.229/acoustic/local_data/coral\"\n",
    "\n",
    "coralreef_extractor = extractors.MultiCoralReef()\n",
    "coral_ads = coralreef_extractor(\"/home/a.jajodia.229/acoustic/local_data/coral\", sampling = True)"
   ]
  },
  {
   "cell_type": "code",
   "execution_count": 4,
   "id": "c5772c96",
   "metadata": {},
   "outputs": [],
   "source": [
    "def process_data(data):    \n",
    "    \n",
    "    data = coral_ads['train'][0]\n",
    "\n",
    "    path = data['filepath']\n",
    "\n",
    "    audio, sr = librosa.load(path, sr=data['sample_rate'], duration=5)\n",
    "\n",
    "\n",
    "\n",
    "    h, c = EGCI(audio)\n",
    "    \n",
    "    \n",
    "\n"
   ]
  },
  {
   "cell_type": "code",
   "execution_count": null,
   "id": "380e138e",
   "metadata": {},
   "outputs": [],
   "source": []
  },
  {
   "cell_type": "code",
   "execution_count": 5,
   "id": "43586517",
   "metadata": {},
   "outputs": [],
   "source": [
    "df = coral_ads['train'][0:100]"
   ]
  },
  {
   "cell_type": "code",
   "execution_count": 6,
   "id": "46b8d07b",
   "metadata": {},
   "outputs": [],
   "source": [
    "df = pd.DataFrame.from_records(df)\n",
    "df['site_name'] = df.apply(lambda row: coral_ads['train'].features['site'].names[row['site']], axis = 1)"
   ]
  },
  {
   "cell_type": "code",
   "execution_count": 7,
   "id": "073eb3ae",
   "metadata": {},
   "outputs": [],
   "source": [
    "def process_data_multiprocess(paths, process_data_func=process_data,  processes=8, sample=1000):\n",
    "    # sample = paths.sample(sample)\n",
    "    sample = paths\n",
    "    \n",
    "    samples = list(sample.T.to_dict().values())\n",
    "    \n",
    "    with Pool(processes) as p:\n",
    "        data = list(tqdm(p.imap(process_data_func, samples)))\n",
    "    return data"
   ]
  },
  {
   "cell_type": "code",
   "execution_count": 8,
   "id": "e9c6bb00",
   "metadata": {},
   "outputs": [
    {
     "data": {
      "application/vnd.microsoft.datawrangler.viewer.v0+json": {
       "columns": [
        {
         "name": "index",
         "rawType": "int64",
         "type": "integer"
        },
        {
         "name": "audio",
         "rawType": "object",
         "type": "unknown"
        },
        {
         "name": "audio_in",
         "rawType": "object",
         "type": "unknown"
        },
        {
         "name": "dataset",
         "rawType": "object",
         "type": "string"
        },
        {
         "name": "filepath",
         "rawType": "object",
         "type": "string"
        },
        {
         "name": "labels",
         "rawType": "object",
         "type": "unknown"
        },
        {
         "name": "sample_rate",
         "rawType": "int64",
         "type": "integer"
        },
        {
         "name": "site",
         "rawType": "int64",
         "type": "integer"
        },
        {
         "name": "site_name",
         "rawType": "object",
         "type": "string"
        }
       ],
       "ref": "dc1dec6b-bb2d-469f-97e8-90b82cffebc4",
       "rows": [
        [
         "0",
         "<datasets.features._torchcodec.AudioDecoder object at 0x737f08ac8cd0>",
         "{'array': '/home/a.jajodia.229/acoustic/local_data/coral/Paola/A_ND/Februrary_March2024/20240301_005500.WAV', 'sampling_rate': 48000}",
         "Paola",
         "/home/a.jajodia.229/acoustic/local_data/coral/Paola/A_ND/Februrary_March2024/20240301_005500.WAV",
         "[0, 1, 0]",
         "48000",
         "1",
         "A_ND"
        ],
        [
         "1",
         "<datasets.features._torchcodec.AudioDecoder object at 0x738024f1a390>",
         "{'array': '/home/a.jajodia.229/acoustic/local_data/coral/Williams_et_al_2024/Indonesia/Unknown/BoF5.0532D.671907872.180831.NT0621.wav', 'sampling_rate': 48000}",
         "Williams_et_al_2024",
         "/home/a.jajodia.229/acoustic/local_data/coral/Williams_et_al_2024/Indonesia/Unknown/BoF5.0532D.671907872.180831.NT0621.wav",
         "[0, 0, 1]",
         "48000",
         "4",
         "Indonesia"
        ],
        [
         "2",
         "<datasets.features._torchcodec.AudioDecoder object at 0x737f08ad7fd0>",
         "{'array': '/home/a.jajodia.229/acoustic/local_data/coral/Williams_et_al_2024/Australia/Unknown/SiteAdeployment1.805322778.181023203726.wav', 'sampling_rate': 48000}",
         "Williams_et_al_2024",
         "/home/a.jajodia.229/acoustic/local_data/coral/Williams_et_al_2024/Australia/Unknown/SiteAdeployment1.805322778.181023203726.wav",
         "[0, 0, 1]",
         "48000",
         "2",
         "Australia"
        ],
        [
         "3",
         "<datasets.features._torchcodec.AudioDecoder object at 0x737f06170c90>",
         "{'array': '/home/a.jajodia.229/acoustic/local_data/coral/Williams_et_al_2024/Indonesia/Unknown/SaF3.1733D.805322778.180829.NT1743.wav', 'sampling_rate': 48000}",
         "Williams_et_al_2024",
         "/home/a.jajodia.229/acoustic/local_data/coral/Williams_et_al_2024/Indonesia/Unknown/SaF3.1733D.805322778.180829.NT1743.wav",
         "[0, 0, 1]",
         "48000",
         "4",
         "Indonesia"
        ],
        [
         "4",
         "<datasets.features._torchcodec.AudioDecoder object at 0x737f08ad7350>",
         "{'array': '/home/a.jajodia.229/acoustic/local_data/coral/Williams_et_al_2024/Australia/Unknown/SiteAdeployment2.1678278701.181030201250.wav', 'sampling_rate': 48000}",
         "Williams_et_al_2024",
         "/home/a.jajodia.229/acoustic/local_data/coral/Williams_et_al_2024/Australia/Unknown/SiteAdeployment2.1678278701.181030201250.wav",
         "[0, 0, 1]",
         "48000",
         "2",
         "Australia"
        ],
        [
         "5",
         "<datasets.features._torchcodec.AudioDecoder object at 0x737f06a97490>",
         "{'array': '/home/a.jajodia.229/acoustic/local_data/coral/Paola/A_D/July 2024/20240716_083000.WAV', 'sampling_rate': 48000}",
         "Paola",
         "/home/a.jajodia.229/acoustic/local_data/coral/Paola/A_D/July 2024/20240716_083000.WAV",
         "[0, 1, 0]",
         "48000",
         "0",
         "A_D"
        ],
        [
         "6",
         "<datasets.features._torchcodec.AudioDecoder object at 0x737f06175a90>",
         "{'array': '/home/a.jajodia.229/acoustic/local_data/coral/Williams_et_al_2024/Indonesia/Unknown/BaN11.2330H.805322778.180906.NT0026.wav', 'sampling_rate': 48000}",
         "Williams_et_al_2024",
         "/home/a.jajodia.229/acoustic/local_data/coral/Williams_et_al_2024/Indonesia/Unknown/BaN11.2330H.805322778.180906.NT0026.wav",
         "[0, 0, 1]",
         "48000",
         "4",
         "Indonesia"
        ],
        [
         "7",
         "<datasets.features._torchcodec.AudioDecoder object at 0x737f06fd5890>",
         "{'array': '/home/a.jajodia.229/acoustic/local_data/coral/Paola/A_D/May 2025/20250317_234000.WAV', 'sampling_rate': 48000}",
         "Paola",
         "/home/a.jajodia.229/acoustic/local_data/coral/Paola/A_D/May 2025/20250317_234000.WAV",
         "[0, 1, 0]",
         "48000",
         "0",
         "A_D"
        ],
        [
         "8",
         "<datasets.features._torchcodec.AudioDecoder object at 0x737f06fd5ad0>",
         "{'array': '/home/a.jajodia.229/acoustic/local_data/coral/Williams_et_al_2024/Australia/Unknown/SiteAdeployment1.805322778.181023234726.wav', 'sampling_rate': 48000}",
         "Williams_et_al_2024",
         "/home/a.jajodia.229/acoustic/local_data/coral/Williams_et_al_2024/Australia/Unknown/SiteAdeployment1.805322778.181023234726.wav",
         "[0, 0, 1]",
         "48000",
         "2",
         "Australia"
        ],
        [
         "9",
         "<datasets.features._torchcodec.AudioDecoder object at 0x737f06fd5bd0>",
         "{'array': '/home/a.jajodia.229/acoustic/local_data/coral/Williams_et_al_2024/Indonesia/Unknown/BoF5.0532R.805322778.180831.NT0535.wav', 'sampling_rate': 48000}",
         "Williams_et_al_2024",
         "/home/a.jajodia.229/acoustic/local_data/coral/Williams_et_al_2024/Indonesia/Unknown/BoF5.0532R.805322778.180831.NT0535.wav",
         "[0, 0, 1]",
         "48000",
         "4",
         "Indonesia"
        ],
        [
         "10",
         "<datasets.features._torchcodec.AudioDecoder object at 0x737f06fd6050>",
         "{'array': '/home/a.jajodia.229/acoustic/local_data/coral/Lin_et_al_2021/Site_A/201706/SSK_Site_A_20170620_134000.wav', 'sampling_rate': 44100}",
         "Lin_et_al_2021",
         "/home/a.jajodia.229/acoustic/local_data/coral/Lin_et_al_2021/Site_A/201706/SSK_Site_A_20170620_134000.wav",
         "[0, 1, 0]",
         "44100",
         "5",
         "Site_A"
        ],
        [
         "11",
         "<datasets.features._torchcodec.AudioDecoder object at 0x737f06fd6150>",
         "{'array': '/home/a.jajodia.229/acoustic/local_data/coral/Williams_et_al_2024/Australia/Unknown/SiteAdeployment1.805322778.181023230726.wav', 'sampling_rate': 48000}",
         "Williams_et_al_2024",
         "/home/a.jajodia.229/acoustic/local_data/coral/Williams_et_al_2024/Australia/Unknown/SiteAdeployment1.805322778.181023230726.wav",
         "[0, 0, 1]",
         "48000",
         "2",
         "Australia"
        ],
        [
         "12",
         "<datasets.features._torchcodec.AudioDecoder object at 0x737f06fd62d0>",
         "{'array': '/home/a.jajodia.229/acoustic/local_data/coral/Paola/A_ND/June2025/20250624_155120.WAV', 'sampling_rate': 48000}",
         "Paola",
         "/home/a.jajodia.229/acoustic/local_data/coral/Paola/A_ND/June2025/20250624_155120.WAV",
         "[0, 1, 0]",
         "48000",
         "1",
         "A_ND"
        ],
        [
         "13",
         "<datasets.features._torchcodec.AudioDecoder object at 0x737f06fd6450>",
         "{'array': '/home/a.jajodia.229/acoustic/local_data/coral/Lin_et_al_2021/Site_B/201706/SSK_Site_B_20170604_002500.wav', 'sampling_rate': 44100}",
         "Lin_et_al_2021",
         "/home/a.jajodia.229/acoustic/local_data/coral/Lin_et_al_2021/Site_B/201706/SSK_Site_B_20170604_002500.wav",
         "[0, 1, 0]",
         "44100",
         "6",
         "Site_B"
        ],
        [
         "14",
         "<datasets.features._torchcodec.AudioDecoder object at 0x737f06fd65d0>",
         "{'array': '/home/a.jajodia.229/acoustic/local_data/coral/Williams_et_al_2024/French_Polynesia/Unknown/SiteADay1.805322778.210204061053.wav', 'sampling_rate': 48000}",
         "Williams_et_al_2024",
         "/home/a.jajodia.229/acoustic/local_data/coral/Williams_et_al_2024/French_Polynesia/Unknown/SiteADay1.805322778.210204061053.wav",
         "[0, 0, 1]",
         "48000",
         "3",
         "French_Polynesia"
        ],
        [
         "15",
         "<datasets.features._torchcodec.AudioDecoder object at 0x737f06fd6750>",
         "{'array': '/home/a.jajodia.229/acoustic/local_data/coral/Lin_et_al_2021/Site_C/201706/SSK_Site_C_20170618_210000.wav', 'sampling_rate': 44100}",
         "Lin_et_al_2021",
         "/home/a.jajodia.229/acoustic/local_data/coral/Lin_et_al_2021/Site_C/201706/SSK_Site_C_20170618_210000.wav",
         "[0, 1, 0]",
         "44100",
         "7",
         "Site_C"
        ],
        [
         "16",
         "<datasets.features._torchcodec.AudioDecoder object at 0x737f06fd68d0>",
         "{'array': '/home/a.jajodia.229/acoustic/local_data/coral/Lin_et_al_2021/Site_C/201705/SSK_Site_C_20170523_210500.wav', 'sampling_rate': 44100}",
         "Lin_et_al_2021",
         "/home/a.jajodia.229/acoustic/local_data/coral/Lin_et_al_2021/Site_C/201705/SSK_Site_C_20170523_210500.wav",
         "[0, 1, 0]",
         "44100",
         "7",
         "Site_C"
        ],
        [
         "17",
         "<datasets.features._torchcodec.AudioDecoder object at 0x737f06fd6a50>",
         "{'array': '/home/a.jajodia.229/acoustic/local_data/coral/Williams_et_al_2024/French_Polynesia/Unknown/SiteADay1.805322778.210203201048.wav', 'sampling_rate': 48000}",
         "Williams_et_al_2024",
         "/home/a.jajodia.229/acoustic/local_data/coral/Williams_et_al_2024/French_Polynesia/Unknown/SiteADay1.805322778.210203201048.wav",
         "[0, 0, 1]",
         "48000",
         "3",
         "French_Polynesia"
        ],
        [
         "18",
         "<datasets.features._torchcodec.AudioDecoder object at 0x737f06fd6ad0>",
         "{'array': '/home/a.jajodia.229/acoustic/local_data/coral/Paola/A_ND/June2025/20250628_100922.WAV', 'sampling_rate': 48000}",
         "Paola",
         "/home/a.jajodia.229/acoustic/local_data/coral/Paola/A_ND/June2025/20250628_100922.WAV",
         "[0, 1, 0]",
         "48000",
         "1",
         "A_ND"
        ],
        [
         "19",
         "<datasets.features._torchcodec.AudioDecoder object at 0x737f06fd6c50>",
         "{'array': '/home/a.jajodia.229/acoustic/local_data/coral/Lin_et_al_2021/Site_C/201705/SSK_Site_C_20170523_202500.wav', 'sampling_rate': 44100}",
         "Lin_et_al_2021",
         "/home/a.jajodia.229/acoustic/local_data/coral/Lin_et_al_2021/Site_C/201705/SSK_Site_C_20170523_202500.wav",
         "[0, 1, 0]",
         "44100",
         "7",
         "Site_C"
        ],
        [
         "20",
         "<datasets.features._torchcodec.AudioDecoder object at 0x737f06fd6dd0>",
         "{'array': '/home/a.jajodia.229/acoustic/local_data/coral/Williams_et_al_2024/Indonesia/Unknown/BoN10.1731R.1677983769.180905.NT1733.wav', 'sampling_rate': 48000}",
         "Williams_et_al_2024",
         "/home/a.jajodia.229/acoustic/local_data/coral/Williams_et_al_2024/Indonesia/Unknown/BoN10.1731R.1677983769.180905.NT1733.wav",
         "[0, 0, 1]",
         "48000",
         "4",
         "Indonesia"
        ],
        [
         "21",
         "<datasets.features._torchcodec.AudioDecoder object at 0x737f06fd6f50>",
         "{'array': '/home/a.jajodia.229/acoustic/local_data/coral/Paola/A_ND/Februrary_March2024/20240227_001000.WAV', 'sampling_rate': 48000}",
         "Paola",
         "/home/a.jajodia.229/acoustic/local_data/coral/Paola/A_ND/Februrary_March2024/20240227_001000.WAV",
         "[0, 1, 0]",
         "48000",
         "1",
         "A_ND"
        ],
        [
         "22",
         "<datasets.features._torchcodec.AudioDecoder object at 0x737f06fd70d0>",
         "{'array': '/home/a.jajodia.229/acoustic/local_data/coral/Williams_et_al_2024/Indonesia/Unknown/SaF2.1203R.671907872.180828.NT1212.wav', 'sampling_rate': 48000}",
         "Williams_et_al_2024",
         "/home/a.jajodia.229/acoustic/local_data/coral/Williams_et_al_2024/Indonesia/Unknown/SaF2.1203R.671907872.180828.NT1212.wav",
         "[0, 0, 1]",
         "48000",
         "4",
         "Indonesia"
        ],
        [
         "23",
         "<datasets.features._torchcodec.AudioDecoder object at 0x737f06fd7250>",
         "{'array': '/home/a.jajodia.229/acoustic/local_data/coral/Lin_et_al_2021/Site_B/201705/SSK_Site_B_20170528_043500.wav', 'sampling_rate': 44100}",
         "Lin_et_al_2021",
         "/home/a.jajodia.229/acoustic/local_data/coral/Lin_et_al_2021/Site_B/201705/SSK_Site_B_20170528_043500.wav",
         "[0, 1, 0]",
         "44100",
         "6",
         "Site_B"
        ],
        [
         "24",
         "<datasets.features._torchcodec.AudioDecoder object at 0x737f06fd7450>",
         "{'array': '/home/a.jajodia.229/acoustic/local_data/coral/Williams_et_al_2024/Australia/Unknown/SiteAdeployment2.1678278701.181031005242.wav', 'sampling_rate': 48000}",
         "Williams_et_al_2024",
         "/home/a.jajodia.229/acoustic/local_data/coral/Williams_et_al_2024/Australia/Unknown/SiteAdeployment2.1678278701.181031005242.wav",
         "[0, 0, 1]",
         "48000",
         "2",
         "Australia"
        ],
        [
         "25",
         "<datasets.features._torchcodec.AudioDecoder object at 0x737f06fd76d0>",
         "{'array': '/home/a.jajodia.229/acoustic/local_data/coral/Lin_et_al_2021/Site_C/201705/SSK_Site_C_20170523_203000.wav', 'sampling_rate': 44100}",
         "Lin_et_al_2021",
         "/home/a.jajodia.229/acoustic/local_data/coral/Lin_et_al_2021/Site_C/201705/SSK_Site_C_20170523_203000.wav",
         "[0, 1, 0]",
         "44100",
         "7",
         "Site_C"
        ],
        [
         "26",
         "<datasets.features._torchcodec.AudioDecoder object at 0x737f06fd7ad0>",
         "{'array': '/home/a.jajodia.229/acoustic/local_data/coral/Lin_et_al_2021/Site_B/201705/SSK_Site_B_20170528_010500.wav', 'sampling_rate': 44100}",
         "Lin_et_al_2021",
         "/home/a.jajodia.229/acoustic/local_data/coral/Lin_et_al_2021/Site_B/201705/SSK_Site_B_20170528_010500.wav",
         "[0, 1, 0]",
         "44100",
         "6",
         "Site_B"
        ],
        [
         "27",
         "<datasets.features._torchcodec.AudioDecoder object at 0x737f06fd7990>",
         "{'array': '/home/a.jajodia.229/acoustic/local_data/coral/Lin_et_al_2021/Site_A/201706/SSK_Site_A_20170619_021500.wav', 'sampling_rate': 44100}",
         "Lin_et_al_2021",
         "/home/a.jajodia.229/acoustic/local_data/coral/Lin_et_al_2021/Site_A/201706/SSK_Site_A_20170619_021500.wav",
         "[0, 1, 0]",
         "44100",
         "5",
         "Site_A"
        ],
        [
         "28",
         "<datasets.features._torchcodec.AudioDecoder object at 0x737f06fd7c10>",
         "{'array': '/home/a.jajodia.229/acoustic/local_data/coral/Paola/A_D/May 2025/20250316_155100.WAV', 'sampling_rate': 48000}",
         "Paola",
         "/home/a.jajodia.229/acoustic/local_data/coral/Paola/A_D/May 2025/20250316_155100.WAV",
         "[0, 1, 0]",
         "48000",
         "0",
         "A_D"
        ],
        [
         "29",
         "<datasets.features._torchcodec.AudioDecoder object at 0x737f06fd7f90>",
         "{'array': '/home/a.jajodia.229/acoustic/local_data/coral/Williams_et_al_2024/French_Polynesia/Unknown/SiteADay1.805322778.210204024551.wav', 'sampling_rate': 48000}",
         "Williams_et_al_2024",
         "/home/a.jajodia.229/acoustic/local_data/coral/Williams_et_al_2024/French_Polynesia/Unknown/SiteADay1.805322778.210204024551.wav",
         "[0, 0, 1]",
         "48000",
         "3",
         "French_Polynesia"
        ],
        [
         "30",
         "<datasets.features._torchcodec.AudioDecoder object at 0x737f06fd4950>",
         "{'array': '/home/a.jajodia.229/acoustic/local_data/coral/Williams_et_al_2024/Indonesia/Unknown/BoN12.1220H.805322778.180907.NT1241.wav', 'sampling_rate': 48000}",
         "Williams_et_al_2024",
         "/home/a.jajodia.229/acoustic/local_data/coral/Williams_et_al_2024/Indonesia/Unknown/BoN12.1220H.805322778.180907.NT1241.wav",
         "[0, 0, 1]",
         "48000",
         "4",
         "Indonesia"
        ],
        [
         "31",
         "<datasets.features._torchcodec.AudioDecoder object at 0x737f06fd7e90>",
         "{'array': '/home/a.jajodia.229/acoustic/local_data/coral/Lin_et_al_2021/Site_C/201706/SSK_Site_C_20170618_223000.wav', 'sampling_rate': 44100}",
         "Lin_et_al_2021",
         "/home/a.jajodia.229/acoustic/local_data/coral/Lin_et_al_2021/Site_C/201706/SSK_Site_C_20170618_223000.wav",
         "[0, 1, 0]",
         "44100",
         "7",
         "Site_C"
        ],
        [
         "32",
         "<datasets.features._torchcodec.AudioDecoder object at 0x737f06fd7950>",
         "{'array': '/home/a.jajodia.229/acoustic/local_data/coral/Paola/A_D/May 2025/20250321_173705.WAV', 'sampling_rate': 48000}",
         "Paola",
         "/home/a.jajodia.229/acoustic/local_data/coral/Paola/A_D/May 2025/20250321_173705.WAV",
         "[0, 1, 0]",
         "48000",
         "0",
         "A_D"
        ],
        [
         "33",
         "<datasets.features._torchcodec.AudioDecoder object at 0x737f06fd7110>",
         "{'array': '/home/a.jajodia.229/acoustic/local_data/coral/Williams_et_al_2024/French_Polynesia/Unknown/SiteADay1.805322778.210204031552.wav', 'sampling_rate': 48000}",
         "Williams_et_al_2024",
         "/home/a.jajodia.229/acoustic/local_data/coral/Williams_et_al_2024/French_Polynesia/Unknown/SiteADay1.805322778.210204031552.wav",
         "[0, 0, 1]",
         "48000",
         "3",
         "French_Polynesia"
        ],
        [
         "34",
         "<datasets.features._torchcodec.AudioDecoder object at 0x737f08ad99d0>",
         "{'array': '/home/a.jajodia.229/acoustic/local_data/coral/Lin_et_al_2021/Site_A/201706/SSK_Site_A_20170622_153500.wav', 'sampling_rate': 44100}",
         "Lin_et_al_2021",
         "/home/a.jajodia.229/acoustic/local_data/coral/Lin_et_al_2021/Site_A/201706/SSK_Site_A_20170622_153500.wav",
         "[0, 1, 0]",
         "44100",
         "5",
         "Site_A"
        ],
        [
         "35",
         "<datasets.features._torchcodec.AudioDecoder object at 0x737f08ad9bd0>",
         "{'array': '/home/a.jajodia.229/acoustic/local_data/coral/Paola/A_D/July 2024/20240716_180200.WAV', 'sampling_rate': 48000}",
         "Paola",
         "/home/a.jajodia.229/acoustic/local_data/coral/Paola/A_D/July 2024/20240716_180200.WAV",
         "[0, 1, 0]",
         "48000",
         "0",
         "A_D"
        ],
        [
         "36",
         "<datasets.features._torchcodec.AudioDecoder object at 0x737f08ad84d0>",
         "{'array': '/home/a.jajodia.229/acoustic/local_data/coral/Paola/A_D/July 2024/20240720_175800.WAV', 'sampling_rate': 48000}",
         "Paola",
         "/home/a.jajodia.229/acoustic/local_data/coral/Paola/A_D/July 2024/20240720_175800.WAV",
         "[0, 1, 0]",
         "48000",
         "0",
         "A_D"
        ],
        [
         "37",
         "<datasets.features._torchcodec.AudioDecoder object at 0x737f08ada390>",
         "{'array': '/home/a.jajodia.229/acoustic/local_data/coral/Lin_et_al_2021/Site_C/201706/SSK_Site_C_20170618_211500.wav', 'sampling_rate': 44100}",
         "Lin_et_al_2021",
         "/home/a.jajodia.229/acoustic/local_data/coral/Lin_et_al_2021/Site_C/201706/SSK_Site_C_20170618_211500.wav",
         "[0, 1, 0]",
         "44100",
         "7",
         "Site_C"
        ],
        [
         "38",
         "<datasets.features._torchcodec.AudioDecoder object at 0x737f08ada050>",
         "{'array': '/home/a.jajodia.229/acoustic/local_data/coral/Lin_et_al_2021/Site_B/201705/SSK_Site_B_20170528_011000.wav', 'sampling_rate': 44100}",
         "Lin_et_al_2021",
         "/home/a.jajodia.229/acoustic/local_data/coral/Lin_et_al_2021/Site_B/201705/SSK_Site_B_20170528_011000.wav",
         "[0, 1, 0]",
         "44100",
         "6",
         "Site_B"
        ],
        [
         "39",
         "<datasets.features._torchcodec.AudioDecoder object at 0x737f08ad9e50>",
         "{'array': '/home/a.jajodia.229/acoustic/local_data/coral/Williams_et_al_2024/Indonesia/Unknown/BoF5.0532H.1677983769.180831.NT0559.wav', 'sampling_rate': 48000}",
         "Williams_et_al_2024",
         "/home/a.jajodia.229/acoustic/local_data/coral/Williams_et_al_2024/Indonesia/Unknown/BoF5.0532H.1677983769.180831.NT0559.wav",
         "[0, 0, 1]",
         "48000",
         "4",
         "Indonesia"
        ],
        [
         "40",
         "<datasets.features._torchcodec.AudioDecoder object at 0x737f08ada5d0>",
         "{'array': '/home/a.jajodia.229/acoustic/local_data/coral/Lin_et_al_2021/Site_B/201706/SSK_Site_B_20170602_030500.wav', 'sampling_rate': 44100}",
         "Lin_et_al_2021",
         "/home/a.jajodia.229/acoustic/local_data/coral/Lin_et_al_2021/Site_B/201706/SSK_Site_B_20170602_030500.wav",
         "[0, 1, 0]",
         "44100",
         "6",
         "Site_B"
        ],
        [
         "41",
         "<datasets.features._torchcodec.AudioDecoder object at 0x737f08ad8b90>",
         "{'array': '/home/a.jajodia.229/acoustic/local_data/coral/Paola/A_D/July 2024/20240717_213200.WAV', 'sampling_rate': 48000}",
         "Paola",
         "/home/a.jajodia.229/acoustic/local_data/coral/Paola/A_D/July 2024/20240717_213200.WAV",
         "[0, 1, 0]",
         "48000",
         "0",
         "A_D"
        ],
        [
         "42",
         "<datasets.features._torchcodec.AudioDecoder object at 0x737f08adab90>",
         "{'array': '/home/a.jajodia.229/acoustic/local_data/coral/Lin_et_al_2021/Site_B/201705/SSK_Site_B_20170528_013000.wav', 'sampling_rate': 44100}",
         "Lin_et_al_2021",
         "/home/a.jajodia.229/acoustic/local_data/coral/Lin_et_al_2021/Site_B/201705/SSK_Site_B_20170528_013000.wav",
         "[0, 1, 0]",
         "44100",
         "6",
         "Site_B"
        ],
        [
         "43",
         "<datasets.features._torchcodec.AudioDecoder object at 0x737f08ad90d0>",
         "{'array': '/home/a.jajodia.229/acoustic/local_data/coral/Lin_et_al_2021/Site_C/201705/SSK_Site_C_20170520_060500.wav', 'sampling_rate': 44100}",
         "Lin_et_al_2021",
         "/home/a.jajodia.229/acoustic/local_data/coral/Lin_et_al_2021/Site_C/201705/SSK_Site_C_20170520_060500.wav",
         "[0, 1, 0]",
         "44100",
         "7",
         "Site_C"
        ],
        [
         "44",
         "<datasets.features._torchcodec.AudioDecoder object at 0x737f08ad9990>",
         "{'array': '/home/a.jajodia.229/acoustic/local_data/coral/Lin_et_al_2021/Site_C/201705/SSK_Site_C_20170517_192000.wav', 'sampling_rate': 44100}",
         "Lin_et_al_2021",
         "/home/a.jajodia.229/acoustic/local_data/coral/Lin_et_al_2021/Site_C/201705/SSK_Site_C_20170517_192000.wav",
         "[0, 1, 0]",
         "44100",
         "7",
         "Site_C"
        ],
        [
         "45",
         "<datasets.features._torchcodec.AudioDecoder object at 0x737f08ad9b90>",
         "{'array': '/home/a.jajodia.229/acoustic/local_data/coral/Paola/A_D/May 2025/20250318_171300.WAV', 'sampling_rate': 48000}",
         "Paola",
         "/home/a.jajodia.229/acoustic/local_data/coral/Paola/A_D/May 2025/20250318_171300.WAV",
         "[0, 1, 0]",
         "48000",
         "0",
         "A_D"
        ],
        [
         "46",
         "<datasets.features._torchcodec.AudioDecoder object at 0x737f08ad8810>",
         "{'array': '/home/a.jajodia.229/acoustic/local_data/coral/Lin_et_al_2021/Site_C/201705/SSK_Site_C_20170525_133500.wav', 'sampling_rate': 44100}",
         "Lin_et_al_2021",
         "/home/a.jajodia.229/acoustic/local_data/coral/Lin_et_al_2021/Site_C/201705/SSK_Site_C_20170525_133500.wav",
         "[0, 1, 0]",
         "44100",
         "7",
         "Site_C"
        ],
        [
         "47",
         "<datasets.features._torchcodec.AudioDecoder object at 0x737f08ada850>",
         "{'array': '/home/a.jajodia.229/acoustic/local_data/coral/Lin_et_al_2021/Site_A/201706/SSK_Site_A_20170619_030500.wav', 'sampling_rate': 44100}",
         "Lin_et_al_2021",
         "/home/a.jajodia.229/acoustic/local_data/coral/Lin_et_al_2021/Site_A/201706/SSK_Site_A_20170619_030500.wav",
         "[0, 1, 0]",
         "44100",
         "5",
         "Site_A"
        ],
        [
         "48",
         "<datasets.features._torchcodec.AudioDecoder object at 0x737f08ad80d0>",
         "{'array': '/home/a.jajodia.229/acoustic/local_data/coral/Williams_et_al_2024/French_Polynesia/Unknown/SiteADay1.805322778.210203162546.wav', 'sampling_rate': 48000}",
         "Williams_et_al_2024",
         "/home/a.jajodia.229/acoustic/local_data/coral/Williams_et_al_2024/French_Polynesia/Unknown/SiteADay1.805322778.210203162546.wav",
         "[0, 0, 1]",
         "48000",
         "3",
         "French_Polynesia"
        ],
        [
         "49",
         "<datasets.features._torchcodec.AudioDecoder object at 0x737f08ad8190>",
         "{'array': '/home/a.jajodia.229/acoustic/local_data/coral/Lin_et_al_2021/Site_A/201706/SSK_Site_A_20170622_150500.wav', 'sampling_rate': 44100}",
         "Lin_et_al_2021",
         "/home/a.jajodia.229/acoustic/local_data/coral/Lin_et_al_2021/Site_A/201706/SSK_Site_A_20170622_150500.wav",
         "[0, 1, 0]",
         "44100",
         "5",
         "Site_A"
        ]
       ],
       "shape": {
        "columns": 8,
        "rows": 100
       }
      },
      "text/html": [
       "<div>\n",
       "<style scoped>\n",
       "    .dataframe tbody tr th:only-of-type {\n",
       "        vertical-align: middle;\n",
       "    }\n",
       "\n",
       "    .dataframe tbody tr th {\n",
       "        vertical-align: top;\n",
       "    }\n",
       "\n",
       "    .dataframe thead th {\n",
       "        text-align: right;\n",
       "    }\n",
       "</style>\n",
       "<table border=\"1\" class=\"dataframe\">\n",
       "  <thead>\n",
       "    <tr style=\"text-align: right;\">\n",
       "      <th></th>\n",
       "      <th>audio</th>\n",
       "      <th>audio_in</th>\n",
       "      <th>dataset</th>\n",
       "      <th>filepath</th>\n",
       "      <th>labels</th>\n",
       "      <th>sample_rate</th>\n",
       "      <th>site</th>\n",
       "      <th>site_name</th>\n",
       "    </tr>\n",
       "  </thead>\n",
       "  <tbody>\n",
       "    <tr>\n",
       "      <th>0</th>\n",
       "      <td>&lt;datasets.features._torchcodec.AudioDecoder ob...</td>\n",
       "      <td>{'array': '/home/a.jajodia.229/acoustic/local_...</td>\n",
       "      <td>Paola</td>\n",
       "      <td>/home/a.jajodia.229/acoustic/local_data/coral/...</td>\n",
       "      <td>[0, 1, 0]</td>\n",
       "      <td>48000</td>\n",
       "      <td>1</td>\n",
       "      <td>A_ND</td>\n",
       "    </tr>\n",
       "    <tr>\n",
       "      <th>1</th>\n",
       "      <td>&lt;datasets.features._torchcodec.AudioDecoder ob...</td>\n",
       "      <td>{'array': '/home/a.jajodia.229/acoustic/local_...</td>\n",
       "      <td>Williams_et_al_2024</td>\n",
       "      <td>/home/a.jajodia.229/acoustic/local_data/coral/...</td>\n",
       "      <td>[0, 0, 1]</td>\n",
       "      <td>48000</td>\n",
       "      <td>4</td>\n",
       "      <td>Indonesia</td>\n",
       "    </tr>\n",
       "    <tr>\n",
       "      <th>2</th>\n",
       "      <td>&lt;datasets.features._torchcodec.AudioDecoder ob...</td>\n",
       "      <td>{'array': '/home/a.jajodia.229/acoustic/local_...</td>\n",
       "      <td>Williams_et_al_2024</td>\n",
       "      <td>/home/a.jajodia.229/acoustic/local_data/coral/...</td>\n",
       "      <td>[0, 0, 1]</td>\n",
       "      <td>48000</td>\n",
       "      <td>2</td>\n",
       "      <td>Australia</td>\n",
       "    </tr>\n",
       "    <tr>\n",
       "      <th>3</th>\n",
       "      <td>&lt;datasets.features._torchcodec.AudioDecoder ob...</td>\n",
       "      <td>{'array': '/home/a.jajodia.229/acoustic/local_...</td>\n",
       "      <td>Williams_et_al_2024</td>\n",
       "      <td>/home/a.jajodia.229/acoustic/local_data/coral/...</td>\n",
       "      <td>[0, 0, 1]</td>\n",
       "      <td>48000</td>\n",
       "      <td>4</td>\n",
       "      <td>Indonesia</td>\n",
       "    </tr>\n",
       "    <tr>\n",
       "      <th>4</th>\n",
       "      <td>&lt;datasets.features._torchcodec.AudioDecoder ob...</td>\n",
       "      <td>{'array': '/home/a.jajodia.229/acoustic/local_...</td>\n",
       "      <td>Williams_et_al_2024</td>\n",
       "      <td>/home/a.jajodia.229/acoustic/local_data/coral/...</td>\n",
       "      <td>[0, 0, 1]</td>\n",
       "      <td>48000</td>\n",
       "      <td>2</td>\n",
       "      <td>Australia</td>\n",
       "    </tr>\n",
       "    <tr>\n",
       "      <th>...</th>\n",
       "      <td>...</td>\n",
       "      <td>...</td>\n",
       "      <td>...</td>\n",
       "      <td>...</td>\n",
       "      <td>...</td>\n",
       "      <td>...</td>\n",
       "      <td>...</td>\n",
       "      <td>...</td>\n",
       "    </tr>\n",
       "    <tr>\n",
       "      <th>95</th>\n",
       "      <td>&lt;datasets.features._torchcodec.AudioDecoder ob...</td>\n",
       "      <td>{'array': '/home/a.jajodia.229/acoustic/local_...</td>\n",
       "      <td>Lin_et_al_2021</td>\n",
       "      <td>/home/a.jajodia.229/acoustic/local_data/coral/...</td>\n",
       "      <td>[0, 1, 0]</td>\n",
       "      <td>44100</td>\n",
       "      <td>7</td>\n",
       "      <td>Site_C</td>\n",
       "    </tr>\n",
       "    <tr>\n",
       "      <th>96</th>\n",
       "      <td>&lt;datasets.features._torchcodec.AudioDecoder ob...</td>\n",
       "      <td>{'array': '/home/a.jajodia.229/acoustic/local_...</td>\n",
       "      <td>Lin_et_al_2021</td>\n",
       "      <td>/home/a.jajodia.229/acoustic/local_data/coral/...</td>\n",
       "      <td>[0, 1, 0]</td>\n",
       "      <td>44100</td>\n",
       "      <td>6</td>\n",
       "      <td>Site_B</td>\n",
       "    </tr>\n",
       "    <tr>\n",
       "      <th>97</th>\n",
       "      <td>&lt;datasets.features._torchcodec.AudioDecoder ob...</td>\n",
       "      <td>{'array': '/home/a.jajodia.229/acoustic/local_...</td>\n",
       "      <td>Williams_et_al_2024</td>\n",
       "      <td>/home/a.jajodia.229/acoustic/local_data/coral/...</td>\n",
       "      <td>[0, 0, 1]</td>\n",
       "      <td>48000</td>\n",
       "      <td>3</td>\n",
       "      <td>French_Polynesia</td>\n",
       "    </tr>\n",
       "    <tr>\n",
       "      <th>98</th>\n",
       "      <td>&lt;datasets.features._torchcodec.AudioDecoder ob...</td>\n",
       "      <td>{'array': '/home/a.jajodia.229/acoustic/local_...</td>\n",
       "      <td>Paola</td>\n",
       "      <td>/home/a.jajodia.229/acoustic/local_data/coral/...</td>\n",
       "      <td>[0, 1, 0]</td>\n",
       "      <td>48000</td>\n",
       "      <td>0</td>\n",
       "      <td>A_D</td>\n",
       "    </tr>\n",
       "    <tr>\n",
       "      <th>99</th>\n",
       "      <td>&lt;datasets.features._torchcodec.AudioDecoder ob...</td>\n",
       "      <td>{'array': '/home/a.jajodia.229/acoustic/local_...</td>\n",
       "      <td>Paola</td>\n",
       "      <td>/home/a.jajodia.229/acoustic/local_data/coral/...</td>\n",
       "      <td>[0, 1, 0]</td>\n",
       "      <td>48000</td>\n",
       "      <td>1</td>\n",
       "      <td>A_ND</td>\n",
       "    </tr>\n",
       "  </tbody>\n",
       "</table>\n",
       "<p>100 rows × 8 columns</p>\n",
       "</div>"
      ],
      "text/plain": [
       "                                                audio  \\\n",
       "0   <datasets.features._torchcodec.AudioDecoder ob...   \n",
       "1   <datasets.features._torchcodec.AudioDecoder ob...   \n",
       "2   <datasets.features._torchcodec.AudioDecoder ob...   \n",
       "3   <datasets.features._torchcodec.AudioDecoder ob...   \n",
       "4   <datasets.features._torchcodec.AudioDecoder ob...   \n",
       "..                                                ...   \n",
       "95  <datasets.features._torchcodec.AudioDecoder ob...   \n",
       "96  <datasets.features._torchcodec.AudioDecoder ob...   \n",
       "97  <datasets.features._torchcodec.AudioDecoder ob...   \n",
       "98  <datasets.features._torchcodec.AudioDecoder ob...   \n",
       "99  <datasets.features._torchcodec.AudioDecoder ob...   \n",
       "\n",
       "                                             audio_in              dataset  \\\n",
       "0   {'array': '/home/a.jajodia.229/acoustic/local_...                Paola   \n",
       "1   {'array': '/home/a.jajodia.229/acoustic/local_...  Williams_et_al_2024   \n",
       "2   {'array': '/home/a.jajodia.229/acoustic/local_...  Williams_et_al_2024   \n",
       "3   {'array': '/home/a.jajodia.229/acoustic/local_...  Williams_et_al_2024   \n",
       "4   {'array': '/home/a.jajodia.229/acoustic/local_...  Williams_et_al_2024   \n",
       "..                                                ...                  ...   \n",
       "95  {'array': '/home/a.jajodia.229/acoustic/local_...       Lin_et_al_2021   \n",
       "96  {'array': '/home/a.jajodia.229/acoustic/local_...       Lin_et_al_2021   \n",
       "97  {'array': '/home/a.jajodia.229/acoustic/local_...  Williams_et_al_2024   \n",
       "98  {'array': '/home/a.jajodia.229/acoustic/local_...                Paola   \n",
       "99  {'array': '/home/a.jajodia.229/acoustic/local_...                Paola   \n",
       "\n",
       "                                             filepath     labels  sample_rate  \\\n",
       "0   /home/a.jajodia.229/acoustic/local_data/coral/...  [0, 1, 0]        48000   \n",
       "1   /home/a.jajodia.229/acoustic/local_data/coral/...  [0, 0, 1]        48000   \n",
       "2   /home/a.jajodia.229/acoustic/local_data/coral/...  [0, 0, 1]        48000   \n",
       "3   /home/a.jajodia.229/acoustic/local_data/coral/...  [0, 0, 1]        48000   \n",
       "4   /home/a.jajodia.229/acoustic/local_data/coral/...  [0, 0, 1]        48000   \n",
       "..                                                ...        ...          ...   \n",
       "95  /home/a.jajodia.229/acoustic/local_data/coral/...  [0, 1, 0]        44100   \n",
       "96  /home/a.jajodia.229/acoustic/local_data/coral/...  [0, 1, 0]        44100   \n",
       "97  /home/a.jajodia.229/acoustic/local_data/coral/...  [0, 0, 1]        48000   \n",
       "98  /home/a.jajodia.229/acoustic/local_data/coral/...  [0, 1, 0]        48000   \n",
       "99  /home/a.jajodia.229/acoustic/local_data/coral/...  [0, 1, 0]        48000   \n",
       "\n",
       "    site         site_name  \n",
       "0      1              A_ND  \n",
       "1      4         Indonesia  \n",
       "2      2         Australia  \n",
       "3      4         Indonesia  \n",
       "4      2         Australia  \n",
       "..   ...               ...  \n",
       "95     7            Site_C  \n",
       "96     6            Site_B  \n",
       "97     3  French_Polynesia  \n",
       "98     0               A_D  \n",
       "99     1              A_ND  \n",
       "\n",
       "[100 rows x 8 columns]"
      ]
     },
     "execution_count": 8,
     "metadata": {},
     "output_type": "execute_result"
    }
   ],
   "source": [
    "df"
   ]
  },
  {
   "cell_type": "code",
   "execution_count": 9,
   "id": "56b297a9",
   "metadata": {},
   "outputs": [
    {
     "data": {
      "application/vnd.jupyter.widget-view+json": {
       "model_id": "0f5a999d1ad14c048aebaab25f0eceae",
       "version_major": 2,
       "version_minor": 0
      },
      "text/plain": [
       "0it [00:00, ?it/s]"
      ]
     },
     "metadata": {},
     "output_type": "display_data"
    },
    {
     "name": "stderr",
     "output_type": "stream",
     "text": [
      "/home/a.jajodia.229/acoustic/acoustic_knowledge_discovery/.venv/lib/python3.11/site-packages/statsmodels/tsa/stattools.py:472: RuntimeWarning: Mean of empty slice.\n",
      "  xo = x - x.mean()\n",
      "/home/a.jajodia.229/acoustic/acoustic_knowledge_discovery/.venv/lib/python3.11/site-packages/numpy/core/_methods.py:129: RuntimeWarning: invalid value encountered in scalar divide\n",
      "  ret = ret.dtype.type(ret / rcount)\n"
     ]
    },
    {
     "ename": "IndexError",
     "evalue": "index 0 is out of bounds for axis 0 with size 0",
     "output_type": "error",
     "traceback": [
      "\u001b[31m---------------------------------------------------------------------------\u001b[39m",
      "\u001b[31mIndexError\u001b[39m                                Traceback (most recent call last)",
      "\u001b[36mCell\u001b[39m\u001b[36m \u001b[39m\u001b[32mIn[9]\u001b[39m\u001b[32m, line 1\u001b[39m\n\u001b[32m----> \u001b[39m\u001b[32m1\u001b[39m processed_data_no_none = \u001b[43m[\u001b[49m\u001b[43mprocess_data\u001b[49m\u001b[43m(\u001b[49m\u001b[43mrow\u001b[49m\u001b[43m)\u001b[49m\u001b[43m \u001b[49m\u001b[38;5;28;43;01mfor\u001b[39;49;00m\u001b[43m \u001b[49m\u001b[43mindex\u001b[49m\u001b[43m,\u001b[49m\u001b[43m \u001b[49m\u001b[43mrow\u001b[49m\u001b[43m \u001b[49m\u001b[38;5;129;43;01min\u001b[39;49;00m\u001b[43m \u001b[49m\u001b[43mtqdm\u001b[49m\u001b[43m(\u001b[49m\u001b[43mdf\u001b[49m\u001b[43m.\u001b[49m\u001b[43miterrows\u001b[49m\u001b[43m(\u001b[49m\u001b[43m)\u001b[49m\u001b[43m)\u001b[49m\u001b[43m]\u001b[49m\n",
      "\u001b[36mCell\u001b[39m\u001b[36m \u001b[39m\u001b[32mIn[9]\u001b[39m\u001b[32m, line 1\u001b[39m, in \u001b[36m<listcomp>\u001b[39m\u001b[34m(.0)\u001b[39m\n\u001b[32m----> \u001b[39m\u001b[32m1\u001b[39m processed_data_no_none = [\u001b[43mprocess_data\u001b[49m\u001b[43m(\u001b[49m\u001b[43mrow\u001b[49m\u001b[43m)\u001b[49m \u001b[38;5;28;01mfor\u001b[39;00m index, row \u001b[38;5;129;01min\u001b[39;00m tqdm(df.iterrows())]\n",
      "\u001b[36mCell\u001b[39m\u001b[36m \u001b[39m\u001b[32mIn[4]\u001b[39m\u001b[32m, line 11\u001b[39m, in \u001b[36mprocess_data\u001b[39m\u001b[34m(data)\u001b[39m\n\u001b[32m      5\u001b[39m path = data[\u001b[33m'\u001b[39m\u001b[33mfilepath\u001b[39m\u001b[33m'\u001b[39m]\n\u001b[32m      7\u001b[39m audio, sr = librosa.load(path, sr=data[\u001b[33m'\u001b[39m\u001b[33msample_rate\u001b[39m\u001b[33m'\u001b[39m], duration=\u001b[32m5\u001b[39m)\n\u001b[32m---> \u001b[39m\u001b[32m11\u001b[39m h, c = \u001b[43mEGCI\u001b[49m\u001b[43m(\u001b[49m\u001b[43maudio\u001b[49m\u001b[43m)\u001b[49m\n",
      "\u001b[36mCell\u001b[39m\u001b[36m \u001b[39m\u001b[32mIn[2]\u001b[39m\u001b[32m, line 24\u001b[39m, in \u001b[36mEGCI\u001b[39m\u001b[34m(x)\u001b[39m\n\u001b[32m     21\u001b[39m x = zscore(x)\n\u001b[32m     23\u001b[39m \u001b[38;5;66;03m# Algorithm steps \u001b[39;00m\n\u001b[32m---> \u001b[39m\u001b[32m24\u001b[39m rxx = \u001b[43macf\u001b[49m\u001b[43m(\u001b[49m\u001b[43mx\u001b[49m\u001b[43m,\u001b[49m\u001b[43m \u001b[49m\u001b[43mnlags\u001b[49m\u001b[43m=\u001b[49m\u001b[43mlag\u001b[49m\u001b[43m,\u001b[49m\u001b[43m \u001b[49m\u001b[43madjusted\u001b[49m\u001b[43m=\u001b[49m\u001b[38;5;28;43;01mTrue\u001b[39;49;00m\u001b[43m,\u001b[49m\u001b[43m \u001b[49m\u001b[43mfft\u001b[49m\u001b[43m=\u001b[49m\u001b[38;5;28;43;01mTrue\u001b[39;49;00m\u001b[43m)\u001b[49m \u001b[38;5;66;03m#https://github.com/blue-yonder/tsfresh/issues/902\u001b[39;00m\n\u001b[32m     25\u001b[39m Sxx = toeplitz(rxx)\n\u001b[32m     26\u001b[39m U, s, Vt = np.linalg.svd(Sxx) \u001b[38;5;66;03m#svd(Sxx)\u001b[39;00m\n",
      "\u001b[36mFile \u001b[39m\u001b[32m~/acoustic/acoustic_knowledge_discovery/.venv/lib/python3.11/site-packages/statsmodels/tsa/stattools.py:702\u001b[39m, in \u001b[36macf\u001b[39m\u001b[34m(x, adjusted, nlags, qstat, fft, alpha, bartlett_confint, missing)\u001b[39m\n\u001b[32m    699\u001b[39m     nlags = \u001b[38;5;28mmin\u001b[39m(\u001b[38;5;28mint\u001b[39m(\u001b[32m10\u001b[39m * np.log10(nobs)), nobs - \u001b[32m1\u001b[39m)\n\u001b[32m    701\u001b[39m avf = acovf(x, adjusted=adjusted, demean=\u001b[38;5;28;01mTrue\u001b[39;00m, fft=fft, missing=missing)\n\u001b[32m--> \u001b[39m\u001b[32m702\u001b[39m acf = avf[: nlags + \u001b[32m1\u001b[39m] / \u001b[43mavf\u001b[49m\u001b[43m[\u001b[49m\u001b[32;43m0\u001b[39;49m\u001b[43m]\u001b[49m\n\u001b[32m    703\u001b[39m \u001b[38;5;28;01mif\u001b[39;00m \u001b[38;5;129;01mnot\u001b[39;00m (qstat \u001b[38;5;129;01mor\u001b[39;00m alpha):\n\u001b[32m    704\u001b[39m     \u001b[38;5;28;01mreturn\u001b[39;00m acf\n",
      "\u001b[31mIndexError\u001b[39m: index 0 is out of bounds for axis 0 with size 0"
     ]
    }
   ],
   "source": [
    "processed_data_no_none = [process_data(row) for index, row in tqdm(df.iterrows())]"
   ]
  },
  {
   "cell_type": "code",
   "execution_count": null,
   "id": "2dccc8ba",
   "metadata": {},
   "outputs": [
    {
     "data": {
      "application/vnd.microsoft.datawrangler.viewer.v0+json": {
       "columns": [
        {
         "name": "index",
         "rawType": "int64",
         "type": "integer"
        },
        {
         "name": "audio",
         "rawType": "object",
         "type": "unknown"
        },
        {
         "name": "audio_in",
         "rawType": "object",
         "type": "unknown"
        },
        {
         "name": "dataset",
         "rawType": "object",
         "type": "string"
        },
        {
         "name": "filepath",
         "rawType": "object",
         "type": "string"
        },
        {
         "name": "labels",
         "rawType": "object",
         "type": "unknown"
        },
        {
         "name": "sample_rate",
         "rawType": "int64",
         "type": "integer"
        },
        {
         "name": "site",
         "rawType": "int64",
         "type": "integer"
        },
        {
         "name": "site_name",
         "rawType": "object",
         "type": "string"
        }
       ],
       "ref": "131f2b4c-99ce-4eda-a227-7d47ce5ec3ed",
       "rows": [
        [
         "0",
         "<datasets.features._torchcodec.AudioDecoder object at 0x75d4b48df190>",
         "{'array': '/home/a.jajodia.229/acoustic/local_data/coral/Paola/A_ND/Februrary_March2024/20240227_001000.WAV', 'sampling_rate': 48000}",
         "Paola",
         "/home/a.jajodia.229/acoustic/local_data/coral/Paola/A_ND/Februrary_March2024/20240227_001000.WAV",
         "[0, 1, 0]",
         "48000",
         "1",
         "A_ND"
        ],
        [
         "1",
         "<datasets.features._torchcodec.AudioDecoder object at 0x75d4b48f8b90>",
         "{'array': '/home/a.jajodia.229/acoustic/local_data/coral/Williams_et_al_2024/Australia/Unknown/SiteAdeployment1.805322778.181023224726.wav', 'sampling_rate': 48000}",
         "Williams_et_al_2024",
         "/home/a.jajodia.229/acoustic/local_data/coral/Williams_et_al_2024/Australia/Unknown/SiteAdeployment1.805322778.181023224726.wav",
         "[0, 0, 1]",
         "48000",
         "2",
         "Australia"
        ],
        [
         "2",
         "<datasets.features._torchcodec.AudioDecoder object at 0x75d4b4879e10>",
         "{'array': '/home/a.jajodia.229/acoustic/local_data/coral/Paola/A_D/May 2025/20250316_155100.WAV', 'sampling_rate': 48000}",
         "Paola",
         "/home/a.jajodia.229/acoustic/local_data/coral/Paola/A_D/May 2025/20250316_155100.WAV",
         "[0, 1, 0]",
         "48000",
         "0",
         "A_D"
        ],
        [
         "3",
         "<datasets.features._torchcodec.AudioDecoder object at 0x75d4b4879d90>",
         "{'array': '/home/a.jajodia.229/acoustic/local_data/coral/Paola/A_D/July 2024/20240717_202600.WAV', 'sampling_rate': 48000}",
         "Paola",
         "/home/a.jajodia.229/acoustic/local_data/coral/Paola/A_D/July 2024/20240717_202600.WAV",
         "[0, 1, 0]",
         "48000",
         "0",
         "A_D"
        ],
        [
         "4",
         "<datasets.features._torchcodec.AudioDecoder object at 0x75d4b4879a50>",
         "{'array': '/home/a.jajodia.229/acoustic/local_data/coral/Lin_et_al_2021/Site_C/201706/SSK_Site_C_20170618_223500.wav', 'sampling_rate': 44100}",
         "Lin_et_al_2021",
         "/home/a.jajodia.229/acoustic/local_data/coral/Lin_et_al_2021/Site_C/201706/SSK_Site_C_20170618_223500.wav",
         "[0, 1, 0]",
         "44100",
         "7",
         "Site_C"
        ],
        [
         "5",
         "<datasets.features._torchcodec.AudioDecoder object at 0x75d4b487a150>",
         "{'array': '/home/a.jajodia.229/acoustic/local_data/coral/Williams_et_al_2024/Australia/Unknown/SiteAdeployment1.805322778.181024012718.wav', 'sampling_rate': 48000}",
         "Williams_et_al_2024",
         "/home/a.jajodia.229/acoustic/local_data/coral/Williams_et_al_2024/Australia/Unknown/SiteAdeployment1.805322778.181024012718.wav",
         "[0, 0, 1]",
         "48000",
         "2",
         "Australia"
        ],
        [
         "6",
         "<datasets.features._torchcodec.AudioDecoder object at 0x75d4b4879ed0>",
         "{'array': '/home/a.jajodia.229/acoustic/local_data/coral/Lin_et_al_2021/Site_A/201706/SSK_Site_A_20170619_030000.wav', 'sampling_rate': 44100}",
         "Lin_et_al_2021",
         "/home/a.jajodia.229/acoustic/local_data/coral/Lin_et_al_2021/Site_A/201706/SSK_Site_A_20170619_030000.wav",
         "[0, 1, 0]",
         "44100",
         "5",
         "Site_A"
        ],
        [
         "7",
         "<datasets.features._torchcodec.AudioDecoder object at 0x75d4b4879cd0>",
         "{'array': '/home/a.jajodia.229/acoustic/local_data/coral/Lin_et_al_2021/Site_C/201706/SSK_Site_C_20170618_210500.wav', 'sampling_rate': 44100}",
         "Lin_et_al_2021",
         "/home/a.jajodia.229/acoustic/local_data/coral/Lin_et_al_2021/Site_C/201706/SSK_Site_C_20170618_210500.wav",
         "[0, 1, 0]",
         "44100",
         "7",
         "Site_C"
        ],
        [
         "8",
         "<datasets.features._torchcodec.AudioDecoder object at 0x75d4b4879810>",
         "{'array': '/home/a.jajodia.229/acoustic/local_data/coral/Williams_et_al_2024/Indonesia/Unknown/BoF5.0532R.805322778.180831.NT0535.wav', 'sampling_rate': 48000}",
         "Williams_et_al_2024",
         "/home/a.jajodia.229/acoustic/local_data/coral/Williams_et_al_2024/Indonesia/Unknown/BoF5.0532R.805322778.180831.NT0535.wav",
         "[0, 0, 1]",
         "48000",
         "4",
         "Indonesia"
        ],
        [
         "9",
         "<datasets.features._torchcodec.AudioDecoder object at 0x75d4b4879710>",
         "{'array': '/home/a.jajodia.229/acoustic/local_data/coral/Williams_et_al_2024/Australia/Unknown/SiteAdeployment1.805322778.181023203726.wav', 'sampling_rate': 48000}",
         "Williams_et_al_2024",
         "/home/a.jajodia.229/acoustic/local_data/coral/Williams_et_al_2024/Australia/Unknown/SiteAdeployment1.805322778.181023203726.wav",
         "[0, 0, 1]",
         "48000",
         "2",
         "Australia"
        ],
        [
         "10",
         "<datasets.features._torchcodec.AudioDecoder object at 0x75d4b4878ed0>",
         "{'array': '/home/a.jajodia.229/acoustic/local_data/coral/Williams_et_al_2024/Indonesia/Unknown/BoF3.1205D.805322778.180829.NT1205.wav', 'sampling_rate': 48000}",
         "Williams_et_al_2024",
         "/home/a.jajodia.229/acoustic/local_data/coral/Williams_et_al_2024/Indonesia/Unknown/BoF3.1205D.805322778.180829.NT1205.wav",
         "[0, 0, 1]",
         "48000",
         "4",
         "Indonesia"
        ],
        [
         "11",
         "<datasets.features._torchcodec.AudioDecoder object at 0x75d4b4887bd0>",
         "{'array': '/home/a.jajodia.229/acoustic/local_data/coral/Williams_et_al_2024/Indonesia/Unknown/SaF2.1112R.671907872.180828.NT1205.wav', 'sampling_rate': 48000}",
         "Williams_et_al_2024",
         "/home/a.jajodia.229/acoustic/local_data/coral/Williams_et_al_2024/Indonesia/Unknown/SaF2.1112R.671907872.180828.NT1205.wav",
         "[0, 0, 1]",
         "48000",
         "4",
         "Indonesia"
        ],
        [
         "12",
         "<datasets.features._torchcodec.AudioDecoder object at 0x75d4b48dcbd0>",
         "{'array': '/home/a.jajodia.229/acoustic/local_data/coral/Paola/A_ND/June2025/20250624_155120.WAV', 'sampling_rate': 48000}",
         "Paola",
         "/home/a.jajodia.229/acoustic/local_data/coral/Paola/A_ND/June2025/20250624_155120.WAV",
         "[0, 1, 0]",
         "48000",
         "1",
         "A_ND"
        ],
        [
         "13",
         "<datasets.features._torchcodec.AudioDecoder object at 0x75d4b4887a10>",
         "{'array': '/home/a.jajodia.229/acoustic/local_data/coral/Williams_et_al_2024/French_Polynesia/Unknown/SiteADay1.805322778.210204010550.wav', 'sampling_rate': 48000}",
         "Williams_et_al_2024",
         "/home/a.jajodia.229/acoustic/local_data/coral/Williams_et_al_2024/French_Polynesia/Unknown/SiteADay1.805322778.210204010550.wav",
         "[0, 0, 1]",
         "48000",
         "3",
         "French_Polynesia"
        ],
        [
         "14",
         "<datasets.features._torchcodec.AudioDecoder object at 0x75d4b48878d0>",
         "{'array': '/home/a.jajodia.229/acoustic/local_data/coral/Lin_et_al_2021/Site_A/201706/SSK_Site_A_20170619_020000.wav', 'sampling_rate': 44100}",
         "Lin_et_al_2021",
         "/home/a.jajodia.229/acoustic/local_data/coral/Lin_et_al_2021/Site_A/201706/SSK_Site_A_20170619_020000.wav",
         "[0, 1, 0]",
         "44100",
         "5",
         "Site_A"
        ],
        [
         "15",
         "<datasets.features._torchcodec.AudioDecoder object at 0x75d4b48875d0>",
         "{'array': '/home/a.jajodia.229/acoustic/local_data/coral/Lin_et_al_2021/Site_B/201706/SSK_Site_B_20170604_002500.wav', 'sampling_rate': 44100}",
         "Lin_et_al_2021",
         "/home/a.jajodia.229/acoustic/local_data/coral/Lin_et_al_2021/Site_B/201706/SSK_Site_B_20170604_002500.wav",
         "[0, 1, 0]",
         "44100",
         "6",
         "Site_B"
        ],
        [
         "16",
         "<datasets.features._torchcodec.AudioDecoder object at 0x75d4b4887410>",
         "{'array': '/home/a.jajodia.229/acoustic/local_data/coral/Paola/A_D/May 2025/20250323_064600.WAV', 'sampling_rate': 48000}",
         "Paola",
         "/home/a.jajodia.229/acoustic/local_data/coral/Paola/A_D/May 2025/20250323_064600.WAV",
         "[0, 1, 0]",
         "48000",
         "0",
         "A_D"
        ],
        [
         "17",
         "<datasets.features._torchcodec.AudioDecoder object at 0x75d4b4887550>",
         "{'array': '/home/a.jajodia.229/acoustic/local_data/coral/Lin_et_al_2021/Site_A/201706/SSK_Site_A_20170619_030500.wav', 'sampling_rate': 44100}",
         "Lin_et_al_2021",
         "/home/a.jajodia.229/acoustic/local_data/coral/Lin_et_al_2021/Site_A/201706/SSK_Site_A_20170619_030500.wav",
         "[0, 1, 0]",
         "44100",
         "5",
         "Site_A"
        ],
        [
         "18",
         "<datasets.features._torchcodec.AudioDecoder object at 0x75d4b4887050>",
         "{'array': '/home/a.jajodia.229/acoustic/local_data/coral/Paola/A_D/May 2025/20250315_160800.WAV', 'sampling_rate': 48000}",
         "Paola",
         "/home/a.jajodia.229/acoustic/local_data/coral/Paola/A_D/May 2025/20250315_160800.WAV",
         "[0, 1, 0]",
         "48000",
         "0",
         "A_D"
        ],
        [
         "19",
         "<datasets.features._torchcodec.AudioDecoder object at 0x75d4b4886e90>",
         "{'array': '/home/a.jajodia.229/acoustic/local_data/coral/Paola/A_ND/June2025/20250619_133618.WAV', 'sampling_rate': 48000}",
         "Paola",
         "/home/a.jajodia.229/acoustic/local_data/coral/Paola/A_ND/June2025/20250619_133618.WAV",
         "[0, 1, 0]",
         "48000",
         "1",
         "A_ND"
        ],
        [
         "20",
         "<datasets.features._torchcodec.AudioDecoder object at 0x75d4b4886b90>",
         "{'array': '/home/a.jajodia.229/acoustic/local_data/coral/Williams_et_al_2024/Australia/Unknown/SiteAdeployment1.805322778.181023174733.wav', 'sampling_rate': 48000}",
         "Williams_et_al_2024",
         "/home/a.jajodia.229/acoustic/local_data/coral/Williams_et_al_2024/Australia/Unknown/SiteAdeployment1.805322778.181023174733.wav",
         "[0, 0, 1]",
         "48000",
         "2",
         "Australia"
        ],
        [
         "21",
         "<datasets.features._torchcodec.AudioDecoder object at 0x75d4b4886110>",
         "{'array': '/home/a.jajodia.229/acoustic/local_data/coral/Williams_et_al_2024/Indonesia/Unknown/SaF2.1203R.671907872.180828.NT1212.wav', 'sampling_rate': 48000}",
         "Williams_et_al_2024",
         "/home/a.jajodia.229/acoustic/local_data/coral/Williams_et_al_2024/Indonesia/Unknown/SaF2.1203R.671907872.180828.NT1212.wav",
         "[0, 0, 1]",
         "48000",
         "4",
         "Indonesia"
        ],
        [
         "22",
         "<datasets.features._torchcodec.AudioDecoder object at 0x75d4b4886610>",
         "{'array': '/home/a.jajodia.229/acoustic/local_data/coral/Williams_et_al_2024/Indonesia/Unknown/SaF4.0533D.805322778.180830.NT0631.wav', 'sampling_rate': 48000}",
         "Williams_et_al_2024",
         "/home/a.jajodia.229/acoustic/local_data/coral/Williams_et_al_2024/Indonesia/Unknown/SaF4.0533D.805322778.180830.NT0631.wav",
         "[0, 0, 1]",
         "48000",
         "4",
         "Indonesia"
        ],
        [
         "23",
         "<datasets.features._torchcodec.AudioDecoder object at 0x75d4b4886390>",
         "{'array': '/home/a.jajodia.229/acoustic/local_data/coral/Williams_et_al_2024/Indonesia/Unknown/BoF5.0940H.671907872.180831.NT1035.wav', 'sampling_rate': 48000}",
         "Williams_et_al_2024",
         "/home/a.jajodia.229/acoustic/local_data/coral/Williams_et_al_2024/Indonesia/Unknown/BoF5.0940H.671907872.180831.NT1035.wav",
         "[0, 0, 1]",
         "48000",
         "4",
         "Indonesia"
        ],
        [
         "24",
         "<datasets.features._torchcodec.AudioDecoder object at 0x75d4b4886190>",
         "{'array': '/home/a.jajodia.229/acoustic/local_data/coral/Williams_et_al_2024/French_Polynesia/Unknown/SiteADay1.805322778.210203180546.wav', 'sampling_rate': 48000}",
         "Williams_et_al_2024",
         "/home/a.jajodia.229/acoustic/local_data/coral/Williams_et_al_2024/French_Polynesia/Unknown/SiteADay1.805322778.210203180546.wav",
         "[0, 0, 1]",
         "48000",
         "3",
         "French_Polynesia"
        ],
        [
         "25",
         "<datasets.features._torchcodec.AudioDecoder object at 0x75d4b4885e90>",
         "{'array': '/home/a.jajodia.229/acoustic/local_data/coral/Lin_et_al_2021/Site_B/201705/SSK_Site_B_20170528_012500.wav', 'sampling_rate': 44100}",
         "Lin_et_al_2021",
         "/home/a.jajodia.229/acoustic/local_data/coral/Lin_et_al_2021/Site_B/201705/SSK_Site_B_20170528_012500.wav",
         "[0, 1, 0]",
         "44100",
         "6",
         "Site_B"
        ],
        [
         "26",
         "<datasets.features._torchcodec.AudioDecoder object at 0x75d4b4887090>",
         "{'array': '/home/a.jajodia.229/acoustic/local_data/coral/Williams_et_al_2024/Indonesia/Unknown/BaN11.1315H.805322778.180906.NT1358.wav', 'sampling_rate': 48000}",
         "Williams_et_al_2024",
         "/home/a.jajodia.229/acoustic/local_data/coral/Williams_et_al_2024/Indonesia/Unknown/BaN11.1315H.805322778.180906.NT1358.wav",
         "[0, 0, 1]",
         "48000",
         "4",
         "Indonesia"
        ],
        [
         "27",
         "<datasets.features._torchcodec.AudioDecoder object at 0x75d4b4885a90>",
         "{'array': '/home/a.jajodia.229/acoustic/local_data/coral/Williams_et_al_2024/Indonesia/Unknown/BaN11.2330H.805322778.180906.NT0026.wav', 'sampling_rate': 48000}",
         "Williams_et_al_2024",
         "/home/a.jajodia.229/acoustic/local_data/coral/Williams_et_al_2024/Indonesia/Unknown/BaN11.2330H.805322778.180906.NT0026.wav",
         "[0, 0, 1]",
         "48000",
         "4",
         "Indonesia"
        ],
        [
         "28",
         "<datasets.features._torchcodec.AudioDecoder object at 0x75d4b4886a90>",
         "{'array': '/home/a.jajodia.229/acoustic/local_data/coral/Paola/A_D/May 2025/20250321_152401.WAV', 'sampling_rate': 48000}",
         "Paola",
         "/home/a.jajodia.229/acoustic/local_data/coral/Paola/A_D/May 2025/20250321_152401.WAV",
         "[0, 1, 0]",
         "48000",
         "0",
         "A_D"
        ],
        [
         "29",
         "<datasets.features._torchcodec.AudioDecoder object at 0x75d4b4886990>",
         "{'array': '/home/a.jajodia.229/acoustic/local_data/coral/Lin_et_al_2021/Site_A/201706/SSK_Site_A_20170622_152000.wav', 'sampling_rate': 44100}",
         "Lin_et_al_2021",
         "/home/a.jajodia.229/acoustic/local_data/coral/Lin_et_al_2021/Site_A/201706/SSK_Site_A_20170622_152000.wav",
         "[0, 1, 0]",
         "44100",
         "5",
         "Site_A"
        ],
        [
         "30",
         "<datasets.features._torchcodec.AudioDecoder object at 0x75d4b4884fd0>",
         "{'array': '/home/a.jajodia.229/acoustic/local_data/coral/Paola/A_ND/April2024/20240308_170500.WAV', 'sampling_rate': 48000}",
         "Paola",
         "/home/a.jajodia.229/acoustic/local_data/coral/Paola/A_ND/April2024/20240308_170500.WAV",
         "[0, 1, 0]",
         "48000",
         "1",
         "A_ND"
        ],
        [
         "31",
         "<datasets.features._torchcodec.AudioDecoder object at 0x75d4b4885390>",
         "{'array': '/home/a.jajodia.229/acoustic/local_data/coral/Lin_et_al_2021/Site_B/201706/SSK_Site_B_20170602_031500.wav', 'sampling_rate': 44100}",
         "Lin_et_al_2021",
         "/home/a.jajodia.229/acoustic/local_data/coral/Lin_et_al_2021/Site_B/201706/SSK_Site_B_20170602_031500.wav",
         "[0, 1, 0]",
         "44100",
         "6",
         "Site_B"
        ],
        [
         "32",
         "<datasets.features._torchcodec.AudioDecoder object at 0x75d4b4885290>",
         "{'array': '/home/a.jajodia.229/acoustic/local_data/coral/Lin_et_al_2021/Site_A/201706/SSK_Site_A_20170620_140000.wav', 'sampling_rate': 44100}",
         "Lin_et_al_2021",
         "/home/a.jajodia.229/acoustic/local_data/coral/Lin_et_al_2021/Site_A/201706/SSK_Site_A_20170620_140000.wav",
         "[0, 1, 0]",
         "44100",
         "5",
         "Site_A"
        ],
        [
         "33",
         "<datasets.features._torchcodec.AudioDecoder object at 0x75d4b4885090>",
         "{'array': '/home/a.jajodia.229/acoustic/local_data/coral/Williams_et_al_2024/Australia/Unknown/SiteAdeployment2.1678278701.181031024242.wav', 'sampling_rate': 48000}",
         "Williams_et_al_2024",
         "/home/a.jajodia.229/acoustic/local_data/coral/Williams_et_al_2024/Australia/Unknown/SiteAdeployment2.1678278701.181031024242.wav",
         "[0, 0, 1]",
         "48000",
         "2",
         "Australia"
        ],
        [
         "34",
         "<datasets.features._torchcodec.AudioDecoder object at 0x75d4b4884f10>",
         "{'array': '/home/a.jajodia.229/acoustic/local_data/coral/Williams_et_al_2024/French_Polynesia/Unknown/SiteADay1.805322778.210204053053.wav', 'sampling_rate': 48000}",
         "Williams_et_al_2024",
         "/home/a.jajodia.229/acoustic/local_data/coral/Williams_et_al_2024/French_Polynesia/Unknown/SiteADay1.805322778.210204053053.wav",
         "[0, 0, 1]",
         "48000",
         "3",
         "French_Polynesia"
        ],
        [
         "35",
         "<datasets.features._torchcodec.AudioDecoder object at 0x75d4b4884bd0>",
         "{'array': '/home/a.jajodia.229/acoustic/local_data/coral/Lin_et_al_2021/Site_A/201706/SSK_Site_A_20170622_150500.wav', 'sampling_rate': 44100}",
         "Lin_et_al_2021",
         "/home/a.jajodia.229/acoustic/local_data/coral/Lin_et_al_2021/Site_A/201706/SSK_Site_A_20170622_150500.wav",
         "[0, 1, 0]",
         "44100",
         "5",
         "Site_A"
        ],
        [
         "36",
         "<datasets.features._torchcodec.AudioDecoder object at 0x75d4b4884a50>",
         "{'array': '/home/a.jajodia.229/acoustic/local_data/coral/Paola/A_D/May 2025/20250318_160700.WAV', 'sampling_rate': 48000}",
         "Paola",
         "/home/a.jajodia.229/acoustic/local_data/coral/Paola/A_D/May 2025/20250318_160700.WAV",
         "[0, 1, 0]",
         "48000",
         "0",
         "A_D"
        ],
        [
         "37",
         "<datasets.features._torchcodec.AudioDecoder object at 0x75d4b4884950>",
         "{'array': '/home/a.jajodia.229/acoustic/local_data/coral/Paola/A_D/May 2025/20250318_092700.WAV', 'sampling_rate': 48000}",
         "Paola",
         "/home/a.jajodia.229/acoustic/local_data/coral/Paola/A_D/May 2025/20250318_092700.WAV",
         "[0, 1, 0]",
         "48000",
         "0",
         "A_D"
        ],
        [
         "38",
         "<datasets.features._torchcodec.AudioDecoder object at 0x75d4b48dd590>",
         "{'array': '/home/a.jajodia.229/acoustic/local_data/coral/Lin_et_al_2021/Site_B/201705/SSK_Site_B_20170528_011000.wav', 'sampling_rate': 44100}",
         "Lin_et_al_2021",
         "/home/a.jajodia.229/acoustic/local_data/coral/Lin_et_al_2021/Site_B/201705/SSK_Site_B_20170528_011000.wav",
         "[0, 1, 0]",
         "44100",
         "6",
         "Site_B"
        ],
        [
         "39",
         "<datasets.features._torchcodec.AudioDecoder object at 0x75d4b48dd310>",
         "{'array': '/home/a.jajodia.229/acoustic/local_data/coral/Paola/A_D/July 2024/20240716_180200.WAV', 'sampling_rate': 48000}",
         "Paola",
         "/home/a.jajodia.229/acoustic/local_data/coral/Paola/A_D/July 2024/20240716_180200.WAV",
         "[0, 1, 0]",
         "48000",
         "0",
         "A_D"
        ],
        [
         "40",
         "<datasets.features._torchcodec.AudioDecoder object at 0x75d4b4887fd0>",
         "{'array': '/home/a.jajodia.229/acoustic/local_data/coral/Williams_et_al_2024/Australia/Unknown/SiteAdeployment1.805322778.181024014718.wav', 'sampling_rate': 48000}",
         "Williams_et_al_2024",
         "/home/a.jajodia.229/acoustic/local_data/coral/Williams_et_al_2024/Australia/Unknown/SiteAdeployment1.805322778.181024014718.wav",
         "[0, 0, 1]",
         "48000",
         "2",
         "Australia"
        ],
        [
         "41",
         "<datasets.features._torchcodec.AudioDecoder object at 0x75d4b48855d0>",
         "{'array': '/home/a.jajodia.229/acoustic/local_data/coral/Paola/A_D/May 2025/20250317_093500.WAV', 'sampling_rate': 48000}",
         "Paola",
         "/home/a.jajodia.229/acoustic/local_data/coral/Paola/A_D/May 2025/20250317_093500.WAV",
         "[0, 1, 0]",
         "48000",
         "0",
         "A_D"
        ],
        [
         "42",
         "<datasets.features._torchcodec.AudioDecoder object at 0x75d4b4885b90>",
         "{'array': '/home/a.jajodia.229/acoustic/local_data/coral/Paola/A_D/May 2025/20250318_171300.WAV', 'sampling_rate': 48000}",
         "Paola",
         "/home/a.jajodia.229/acoustic/local_data/coral/Paola/A_D/May 2025/20250318_171300.WAV",
         "[0, 1, 0]",
         "48000",
         "0",
         "A_D"
        ],
        [
         "43",
         "<datasets.features._torchcodec.AudioDecoder object at 0x75d4b48840d0>",
         "{'array': '/home/a.jajodia.229/acoustic/local_data/coral/Paola/A_ND/Februrary_March2024/20240228_061800.WAV', 'sampling_rate': 48000}",
         "Paola",
         "/home/a.jajodia.229/acoustic/local_data/coral/Paola/A_ND/Februrary_March2024/20240228_061800.WAV",
         "[0, 1, 0]",
         "48000",
         "1",
         "A_ND"
        ],
        [
         "44",
         "<datasets.features._torchcodec.AudioDecoder object at 0x75d4b4886510>",
         "{'array': '/home/a.jajodia.229/acoustic/local_data/coral/Paola/A_ND/June2025/20250628_100922.WAV', 'sampling_rate': 48000}",
         "Paola",
         "/home/a.jajodia.229/acoustic/local_data/coral/Paola/A_ND/June2025/20250628_100922.WAV",
         "[0, 1, 0]",
         "48000",
         "1",
         "A_ND"
        ],
        [
         "45",
         "<datasets.features._torchcodec.AudioDecoder object at 0x75d4b4886850>",
         "{'array': '/home/a.jajodia.229/acoustic/local_data/coral/Paola/A_D/May 2025/20250315_120600.WAV', 'sampling_rate': 48000}",
         "Paola",
         "/home/a.jajodia.229/acoustic/local_data/coral/Paola/A_D/May 2025/20250315_120600.WAV",
         "[0, 1, 0]",
         "48000",
         "0",
         "A_D"
        ],
        [
         "46",
         "<datasets.features._torchcodec.AudioDecoder object at 0x75d4b4885790>",
         "{'array': '/home/a.jajodia.229/acoustic/local_data/coral/Williams_et_al_2024/French_Polynesia/Unknown/SiteADay1.805322778.210204031552.wav', 'sampling_rate': 48000}",
         "Williams_et_al_2024",
         "/home/a.jajodia.229/acoustic/local_data/coral/Williams_et_al_2024/French_Polynesia/Unknown/SiteADay1.805322778.210204031552.wav",
         "[0, 0, 1]",
         "48000",
         "3",
         "French_Polynesia"
        ],
        [
         "47",
         "<datasets.features._torchcodec.AudioDecoder object at 0x75d4b48876d0>",
         "{'array': '/home/a.jajodia.229/acoustic/local_data/coral/Lin_et_al_2021/Site_B/201705/SSK_Site_B_20170528_031000.wav', 'sampling_rate': 44100}",
         "Lin_et_al_2021",
         "/home/a.jajodia.229/acoustic/local_data/coral/Lin_et_al_2021/Site_B/201705/SSK_Site_B_20170528_031000.wav",
         "[0, 1, 0]",
         "44100",
         "6",
         "Site_B"
        ],
        [
         "48",
         "<datasets.features._torchcodec.AudioDecoder object at 0x75d4b4884410>",
         "{'array': '/home/a.jajodia.229/acoustic/local_data/coral/Lin_et_al_2021/Site_B/201705/SSK_Site_B_20170527_235500.wav', 'sampling_rate': 44100}",
         "Lin_et_al_2021",
         "/home/a.jajodia.229/acoustic/local_data/coral/Lin_et_al_2021/Site_B/201705/SSK_Site_B_20170527_235500.wav",
         "[0, 1, 0]",
         "44100",
         "6",
         "Site_B"
        ],
        [
         "49",
         "<datasets.features._torchcodec.AudioDecoder object at 0x75d4b4895090>",
         "{'array': '/home/a.jajodia.229/acoustic/local_data/coral/Williams_et_al_2024/Australia/Unknown/SiteAdeployment1.805322778.181023234726.wav', 'sampling_rate': 48000}",
         "Williams_et_al_2024",
         "/home/a.jajodia.229/acoustic/local_data/coral/Williams_et_al_2024/Australia/Unknown/SiteAdeployment1.805322778.181023234726.wav",
         "[0, 0, 1]",
         "48000",
         "2",
         "Australia"
        ]
       ],
       "shape": {
        "columns": 8,
        "rows": 100
       }
      },
      "text/html": [
       "<div>\n",
       "<style scoped>\n",
       "    .dataframe tbody tr th:only-of-type {\n",
       "        vertical-align: middle;\n",
       "    }\n",
       "\n",
       "    .dataframe tbody tr th {\n",
       "        vertical-align: top;\n",
       "    }\n",
       "\n",
       "    .dataframe thead th {\n",
       "        text-align: right;\n",
       "    }\n",
       "</style>\n",
       "<table border=\"1\" class=\"dataframe\">\n",
       "  <thead>\n",
       "    <tr style=\"text-align: right;\">\n",
       "      <th></th>\n",
       "      <th>audio</th>\n",
       "      <th>audio_in</th>\n",
       "      <th>dataset</th>\n",
       "      <th>filepath</th>\n",
       "      <th>labels</th>\n",
       "      <th>sample_rate</th>\n",
       "      <th>site</th>\n",
       "      <th>site_name</th>\n",
       "    </tr>\n",
       "  </thead>\n",
       "  <tbody>\n",
       "    <tr>\n",
       "      <th>0</th>\n",
       "      <td>&lt;datasets.features._torchcodec.AudioDecoder ob...</td>\n",
       "      <td>{'array': '/home/a.jajodia.229/acoustic/local_...</td>\n",
       "      <td>Paola</td>\n",
       "      <td>/home/a.jajodia.229/acoustic/local_data/coral/...</td>\n",
       "      <td>[0, 1, 0]</td>\n",
       "      <td>48000</td>\n",
       "      <td>1</td>\n",
       "      <td>A_ND</td>\n",
       "    </tr>\n",
       "    <tr>\n",
       "      <th>1</th>\n",
       "      <td>&lt;datasets.features._torchcodec.AudioDecoder ob...</td>\n",
       "      <td>{'array': '/home/a.jajodia.229/acoustic/local_...</td>\n",
       "      <td>Williams_et_al_2024</td>\n",
       "      <td>/home/a.jajodia.229/acoustic/local_data/coral/...</td>\n",
       "      <td>[0, 0, 1]</td>\n",
       "      <td>48000</td>\n",
       "      <td>2</td>\n",
       "      <td>Australia</td>\n",
       "    </tr>\n",
       "    <tr>\n",
       "      <th>2</th>\n",
       "      <td>&lt;datasets.features._torchcodec.AudioDecoder ob...</td>\n",
       "      <td>{'array': '/home/a.jajodia.229/acoustic/local_...</td>\n",
       "      <td>Paola</td>\n",
       "      <td>/home/a.jajodia.229/acoustic/local_data/coral/...</td>\n",
       "      <td>[0, 1, 0]</td>\n",
       "      <td>48000</td>\n",
       "      <td>0</td>\n",
       "      <td>A_D</td>\n",
       "    </tr>\n",
       "    <tr>\n",
       "      <th>3</th>\n",
       "      <td>&lt;datasets.features._torchcodec.AudioDecoder ob...</td>\n",
       "      <td>{'array': '/home/a.jajodia.229/acoustic/local_...</td>\n",
       "      <td>Paola</td>\n",
       "      <td>/home/a.jajodia.229/acoustic/local_data/coral/...</td>\n",
       "      <td>[0, 1, 0]</td>\n",
       "      <td>48000</td>\n",
       "      <td>0</td>\n",
       "      <td>A_D</td>\n",
       "    </tr>\n",
       "    <tr>\n",
       "      <th>4</th>\n",
       "      <td>&lt;datasets.features._torchcodec.AudioDecoder ob...</td>\n",
       "      <td>{'array': '/home/a.jajodia.229/acoustic/local_...</td>\n",
       "      <td>Lin_et_al_2021</td>\n",
       "      <td>/home/a.jajodia.229/acoustic/local_data/coral/...</td>\n",
       "      <td>[0, 1, 0]</td>\n",
       "      <td>44100</td>\n",
       "      <td>7</td>\n",
       "      <td>Site_C</td>\n",
       "    </tr>\n",
       "    <tr>\n",
       "      <th>...</th>\n",
       "      <td>...</td>\n",
       "      <td>...</td>\n",
       "      <td>...</td>\n",
       "      <td>...</td>\n",
       "      <td>...</td>\n",
       "      <td>...</td>\n",
       "      <td>...</td>\n",
       "      <td>...</td>\n",
       "    </tr>\n",
       "    <tr>\n",
       "      <th>95</th>\n",
       "      <td>&lt;datasets.features._torchcodec.AudioDecoder ob...</td>\n",
       "      <td>{'array': '/home/a.jajodia.229/acoustic/local_...</td>\n",
       "      <td>Lin_et_al_2021</td>\n",
       "      <td>/home/a.jajodia.229/acoustic/local_data/coral/...</td>\n",
       "      <td>[0, 1, 0]</td>\n",
       "      <td>44100</td>\n",
       "      <td>7</td>\n",
       "      <td>Site_C</td>\n",
       "    </tr>\n",
       "    <tr>\n",
       "      <th>96</th>\n",
       "      <td>&lt;datasets.features._torchcodec.AudioDecoder ob...</td>\n",
       "      <td>{'array': '/home/a.jajodia.229/acoustic/local_...</td>\n",
       "      <td>Williams_et_al_2024</td>\n",
       "      <td>/home/a.jajodia.229/acoustic/local_data/coral/...</td>\n",
       "      <td>[0, 0, 1]</td>\n",
       "      <td>48000</td>\n",
       "      <td>3</td>\n",
       "      <td>French_Polynesia</td>\n",
       "    </tr>\n",
       "    <tr>\n",
       "      <th>97</th>\n",
       "      <td>&lt;datasets.features._torchcodec.AudioDecoder ob...</td>\n",
       "      <td>{'array': '/home/a.jajodia.229/acoustic/local_...</td>\n",
       "      <td>Williams_et_al_2024</td>\n",
       "      <td>/home/a.jajodia.229/acoustic/local_data/coral/...</td>\n",
       "      <td>[0, 0, 1]</td>\n",
       "      <td>48000</td>\n",
       "      <td>3</td>\n",
       "      <td>French_Polynesia</td>\n",
       "    </tr>\n",
       "    <tr>\n",
       "      <th>98</th>\n",
       "      <td>&lt;datasets.features._torchcodec.AudioDecoder ob...</td>\n",
       "      <td>{'array': '/home/a.jajodia.229/acoustic/local_...</td>\n",
       "      <td>Paola</td>\n",
       "      <td>/home/a.jajodia.229/acoustic/local_data/coral/...</td>\n",
       "      <td>[0, 1, 0]</td>\n",
       "      <td>48000</td>\n",
       "      <td>0</td>\n",
       "      <td>A_D</td>\n",
       "    </tr>\n",
       "    <tr>\n",
       "      <th>99</th>\n",
       "      <td>&lt;datasets.features._torchcodec.AudioDecoder ob...</td>\n",
       "      <td>{'array': '/home/a.jajodia.229/acoustic/local_...</td>\n",
       "      <td>Paola</td>\n",
       "      <td>/home/a.jajodia.229/acoustic/local_data/coral/...</td>\n",
       "      <td>[0, 1, 0]</td>\n",
       "      <td>48000</td>\n",
       "      <td>1</td>\n",
       "      <td>A_ND</td>\n",
       "    </tr>\n",
       "  </tbody>\n",
       "</table>\n",
       "<p>100 rows × 8 columns</p>\n",
       "</div>"
      ],
      "text/plain": [
       "                                                audio  \\\n",
       "0   <datasets.features._torchcodec.AudioDecoder ob...   \n",
       "1   <datasets.features._torchcodec.AudioDecoder ob...   \n",
       "2   <datasets.features._torchcodec.AudioDecoder ob...   \n",
       "3   <datasets.features._torchcodec.AudioDecoder ob...   \n",
       "4   <datasets.features._torchcodec.AudioDecoder ob...   \n",
       "..                                                ...   \n",
       "95  <datasets.features._torchcodec.AudioDecoder ob...   \n",
       "96  <datasets.features._torchcodec.AudioDecoder ob...   \n",
       "97  <datasets.features._torchcodec.AudioDecoder ob...   \n",
       "98  <datasets.features._torchcodec.AudioDecoder ob...   \n",
       "99  <datasets.features._torchcodec.AudioDecoder ob...   \n",
       "\n",
       "                                             audio_in              dataset  \\\n",
       "0   {'array': '/home/a.jajodia.229/acoustic/local_...                Paola   \n",
       "1   {'array': '/home/a.jajodia.229/acoustic/local_...  Williams_et_al_2024   \n",
       "2   {'array': '/home/a.jajodia.229/acoustic/local_...                Paola   \n",
       "3   {'array': '/home/a.jajodia.229/acoustic/local_...                Paola   \n",
       "4   {'array': '/home/a.jajodia.229/acoustic/local_...       Lin_et_al_2021   \n",
       "..                                                ...                  ...   \n",
       "95  {'array': '/home/a.jajodia.229/acoustic/local_...       Lin_et_al_2021   \n",
       "96  {'array': '/home/a.jajodia.229/acoustic/local_...  Williams_et_al_2024   \n",
       "97  {'array': '/home/a.jajodia.229/acoustic/local_...  Williams_et_al_2024   \n",
       "98  {'array': '/home/a.jajodia.229/acoustic/local_...                Paola   \n",
       "99  {'array': '/home/a.jajodia.229/acoustic/local_...                Paola   \n",
       "\n",
       "                                             filepath     labels  sample_rate  \\\n",
       "0   /home/a.jajodia.229/acoustic/local_data/coral/...  [0, 1, 0]        48000   \n",
       "1   /home/a.jajodia.229/acoustic/local_data/coral/...  [0, 0, 1]        48000   \n",
       "2   /home/a.jajodia.229/acoustic/local_data/coral/...  [0, 1, 0]        48000   \n",
       "3   /home/a.jajodia.229/acoustic/local_data/coral/...  [0, 1, 0]        48000   \n",
       "4   /home/a.jajodia.229/acoustic/local_data/coral/...  [0, 1, 0]        44100   \n",
       "..                                                ...        ...          ...   \n",
       "95  /home/a.jajodia.229/acoustic/local_data/coral/...  [0, 1, 0]        44100   \n",
       "96  /home/a.jajodia.229/acoustic/local_data/coral/...  [0, 0, 1]        48000   \n",
       "97  /home/a.jajodia.229/acoustic/local_data/coral/...  [0, 0, 1]        48000   \n",
       "98  /home/a.jajodia.229/acoustic/local_data/coral/...  [0, 1, 0]        48000   \n",
       "99  /home/a.jajodia.229/acoustic/local_data/coral/...  [0, 1, 0]        48000   \n",
       "\n",
       "    site         site_name  \n",
       "0      1              A_ND  \n",
       "1      2         Australia  \n",
       "2      0               A_D  \n",
       "3      0               A_D  \n",
       "4      7            Site_C  \n",
       "..   ...               ...  \n",
       "95     7            Site_C  \n",
       "96     3  French_Polynesia  \n",
       "97     3  French_Polynesia  \n",
       "98     0               A_D  \n",
       "99     1              A_ND  \n",
       "\n",
       "[100 rows x 8 columns]"
      ]
     },
     "execution_count": 11,
     "metadata": {},
     "output_type": "execute_result"
    }
   ],
   "source": [
    "df"
   ]
  },
  {
   "cell_type": "code",
   "execution_count": null,
   "id": "f541422f",
   "metadata": {},
   "outputs": [],
   "source": [
    "df = pd.DataFrame.from_records(processed_data_no_none)\n",
    "\n",
    "df.to_csv(\"coral_egci.csv\")"
   ]
  },
  {
   "cell_type": "code",
   "execution_count": null,
   "id": "7ec8395c",
   "metadata": {},
   "outputs": [
    {
     "data": {
      "application/vnd.microsoft.datawrangler.viewer.v0+json": {
       "columns": [
        {
         "name": "index",
         "rawType": "int64",
         "type": "integer"
        },
        {
         "name": "path",
         "rawType": "object",
         "type": "string"
        },
        {
         "name": "offset_s",
         "rawType": "int64",
         "type": "integer"
        },
        {
         "name": "sr",
         "rawType": "int64",
         "type": "integer"
        },
        {
         "name": "gt",
         "rawType": "object",
         "type": "unknown"
        },
        {
         "name": "site",
         "rawType": "object",
         "type": "string"
        },
        {
         "name": "entropy",
         "rawType": "float64",
         "type": "float"
        },
        {
         "name": "complexity",
         "rawType": "float64",
         "type": "float"
        }
       ],
       "ref": "b98d0d94-79a6-4d02-91cc-58d2b6a32c37",
       "rows": [
        [
         "0",
         "/home/a.jajodia.229/acoustic/local_data/coral/Paola/A_ND/Februrary_March2024/20240227_001000.WAV",
         "0",
         "48000",
         "[0, 1, 0]",
         "A_ND",
         "0.9404604887448765",
         "0.09903039230220145"
        ],
        [
         "1",
         "/home/a.jajodia.229/acoustic/local_data/coral/Williams_et_al_2024/Australia/Unknown/SiteAdeployment1.805322778.181023224726.wav",
         "0",
         "48000",
         "[0, 0, 1]",
         "Australia",
         "0.9457853002729536",
         "0.12557585762766668"
        ],
        [
         "2",
         "/home/a.jajodia.229/acoustic/local_data/coral/Paola/A_D/May 2025/20250316_155100.WAV",
         "0",
         "48000",
         "[0, 1, 0]",
         "A_D",
         "0.9193907341760134",
         "0.15105245644660847"
        ],
        [
         "3",
         "/home/a.jajodia.229/acoustic/local_data/coral/Paola/A_D/July 2024/20240717_202600.WAV",
         "0",
         "48000",
         "[0, 1, 0]",
         "A_D",
         "0.8662845662183479",
         "0.2079858694304945"
        ],
        [
         "4",
         "/home/a.jajodia.229/acoustic/local_data/coral/Lin_et_al_2021/Site_C/201706/SSK_Site_C_20170618_223500.wav",
         "0",
         "44100",
         "[0, 1, 0]",
         "Site_C",
         "0.44841100286037416",
         "0.36463987163246114"
        ],
        [
         "5",
         "/home/a.jajodia.229/acoustic/local_data/coral/Williams_et_al_2024/Australia/Unknown/SiteAdeployment1.805322778.181024012718.wav",
         "0",
         "48000",
         "[0, 0, 1]",
         "Australia",
         "0.8921267108071764",
         "0.19988584758569003"
        ],
        [
         "6",
         "/home/a.jajodia.229/acoustic/local_data/coral/Lin_et_al_2021/Site_A/201706/SSK_Site_A_20170619_030000.wav",
         "0",
         "44100",
         "[0, 1, 0]",
         "Site_A",
         "0.8911642264518895",
         "0.22406704755658868"
        ],
        [
         "7",
         "/home/a.jajodia.229/acoustic/local_data/coral/Lin_et_al_2021/Site_C/201706/SSK_Site_C_20170618_210500.wav",
         "0",
         "44100",
         "[0, 1, 0]",
         "Site_C",
         "0.48380370633440556",
         "0.378900412805464"
        ],
        [
         "8",
         "/home/a.jajodia.229/acoustic/local_data/coral/Williams_et_al_2024/Indonesia/Unknown/BoF5.0532R.805322778.180831.NT0535.wav",
         "0",
         "48000",
         "[0, 0, 1]",
         "Indonesia",
         "0.9274795074016681",
         "0.16551350834341266"
        ],
        [
         "9",
         "/home/a.jajodia.229/acoustic/local_data/coral/Williams_et_al_2024/Australia/Unknown/SiteAdeployment1.805322778.181023203726.wav",
         "0",
         "48000",
         "[0, 0, 1]",
         "Australia",
         "0.9536070358838077",
         "0.11226884244772597"
        ],
        [
         "10",
         "/home/a.jajodia.229/acoustic/local_data/coral/Williams_et_al_2024/Indonesia/Unknown/BoF3.1205D.805322778.180829.NT1205.wav",
         "0",
         "48000",
         "[0, 0, 1]",
         "Indonesia",
         "0.8879846457826811",
         "0.19900480901898585"
        ],
        [
         "11",
         "/home/a.jajodia.229/acoustic/local_data/coral/Williams_et_al_2024/Indonesia/Unknown/SaF2.1112R.671907872.180828.NT1205.wav",
         "0",
         "48000",
         "[0, 0, 1]",
         "Indonesia",
         "0.9505790734451419",
         "0.11368137668494374"
        ],
        [
         "12",
         "/home/a.jajodia.229/acoustic/local_data/coral/Paola/A_ND/June2025/20250624_155120.WAV",
         "0",
         "48000",
         "[0, 1, 0]",
         "A_ND",
         "0.9235099468415643",
         "0.16856529473219412"
        ],
        [
         "13",
         "/home/a.jajodia.229/acoustic/local_data/coral/Williams_et_al_2024/French_Polynesia/Unknown/SiteADay1.805322778.210204010550.wav",
         "0",
         "48000",
         "[0, 0, 1]",
         "French_Polynesia",
         "0.9425657580083106",
         "0.13474989048102914"
        ],
        [
         "14",
         "/home/a.jajodia.229/acoustic/local_data/coral/Lin_et_al_2021/Site_A/201706/SSK_Site_A_20170619_020000.wav",
         "0",
         "44100",
         "[0, 1, 0]",
         "Site_A",
         "0.8890963472464714",
         "0.22894043602192657"
        ],
        [
         "15",
         "/home/a.jajodia.229/acoustic/local_data/coral/Lin_et_al_2021/Site_B/201706/SSK_Site_B_20170604_002500.wav",
         "0",
         "44100",
         "[0, 1, 0]",
         "Site_B",
         "0.8294263704430205",
         "0.23613896033495071"
        ],
        [
         "16",
         "/home/a.jajodia.229/acoustic/local_data/coral/Paola/A_D/May 2025/20250323_064600.WAV",
         "0",
         "48000",
         "[0, 1, 0]",
         "A_D",
         "0.9388460325488712",
         "0.12347307544076082"
        ],
        [
         "17",
         "/home/a.jajodia.229/acoustic/local_data/coral/Lin_et_al_2021/Site_A/201706/SSK_Site_A_20170619_030500.wav",
         "0",
         "44100",
         "[0, 1, 0]",
         "Site_A",
         "0.8906041036757513",
         "0.22606126524039363"
        ],
        [
         "18",
         "/home/a.jajodia.229/acoustic/local_data/coral/Paola/A_D/May 2025/20250315_160800.WAV",
         "0",
         "48000",
         "[0, 1, 0]",
         "A_D",
         "0.9332603287942319",
         "0.14119995992948323"
        ],
        [
         "19",
         "/home/a.jajodia.229/acoustic/local_data/coral/Paola/A_ND/June2025/20250619_133618.WAV",
         "0",
         "48000",
         "[0, 1, 0]",
         "A_ND",
         "0.9260781397163844",
         "0.15574107138722693"
        ],
        [
         "20",
         "/home/a.jajodia.229/acoustic/local_data/coral/Williams_et_al_2024/Australia/Unknown/SiteAdeployment1.805322778.181023174733.wav",
         "0",
         "48000",
         "[0, 0, 1]",
         "Australia",
         "0.9652216336709419",
         "0.08228585263456722"
        ],
        [
         "21",
         "/home/a.jajodia.229/acoustic/local_data/coral/Williams_et_al_2024/Indonesia/Unknown/SaF2.1203R.671907872.180828.NT1212.wav",
         "0",
         "48000",
         "[0, 0, 1]",
         "Indonesia",
         "0.9451951570357512",
         "0.12590447009070727"
        ],
        [
         "22",
         "/home/a.jajodia.229/acoustic/local_data/coral/Williams_et_al_2024/Indonesia/Unknown/SaF4.0533D.805322778.180830.NT0631.wav",
         "0",
         "48000",
         "[0, 0, 1]",
         "Indonesia",
         "0.9228256924420615",
         "0.1711614513019597"
        ],
        [
         "23",
         "/home/a.jajodia.229/acoustic/local_data/coral/Williams_et_al_2024/Indonesia/Unknown/BoF5.0940H.671907872.180831.NT1035.wav",
         "0",
         "48000",
         "[0, 0, 1]",
         "Indonesia",
         "0.9436799365257049",
         "0.13045726041927688"
        ],
        [
         "24",
         "/home/a.jajodia.229/acoustic/local_data/coral/Williams_et_al_2024/French_Polynesia/Unknown/SiteADay1.805322778.210203180546.wav",
         "0",
         "48000",
         "[0, 0, 1]",
         "French_Polynesia",
         "0.9439419487636034",
         "0.11923007627134867"
        ],
        [
         "25",
         "/home/a.jajodia.229/acoustic/local_data/coral/Lin_et_al_2021/Site_B/201705/SSK_Site_B_20170528_012500.wav",
         "0",
         "44100",
         "[0, 1, 0]",
         "Site_B",
         "0.8972809621876242",
         "0.2002404711659045"
        ],
        [
         "26",
         "/home/a.jajodia.229/acoustic/local_data/coral/Williams_et_al_2024/Indonesia/Unknown/BaN11.1315H.805322778.180906.NT1358.wav",
         "0",
         "48000",
         "[0, 0, 1]",
         "Indonesia",
         "0.9383208413000673",
         "0.14218233252145676"
        ],
        [
         "27",
         "/home/a.jajodia.229/acoustic/local_data/coral/Williams_et_al_2024/Indonesia/Unknown/BaN11.2330H.805322778.180906.NT0026.wav",
         "0",
         "48000",
         "[0, 0, 1]",
         "Indonesia",
         "0.8470537827707965",
         "0.2780672739879784"
        ],
        [
         "28",
         "/home/a.jajodia.229/acoustic/local_data/coral/Paola/A_D/May 2025/20250321_152401.WAV",
         "0",
         "48000",
         "[0, 1, 0]",
         "A_D",
         "0.9458597079435833",
         "0.10872608835723012"
        ],
        [
         "29",
         "/home/a.jajodia.229/acoustic/local_data/coral/Lin_et_al_2021/Site_A/201706/SSK_Site_A_20170622_152000.wav",
         "0",
         "44100",
         "[0, 1, 0]",
         "Site_A",
         "0.8781699913120327",
         "0.24120470211878206"
        ],
        [
         "30",
         "/home/a.jajodia.229/acoustic/local_data/coral/Paola/A_ND/April2024/20240308_170500.WAV",
         "0",
         "48000",
         "[0, 1, 0]",
         "A_ND",
         "0.8237524263935826",
         "0.22462637464050725"
        ],
        [
         "31",
         "/home/a.jajodia.229/acoustic/local_data/coral/Lin_et_al_2021/Site_B/201706/SSK_Site_B_20170602_031500.wav",
         "0",
         "44100",
         "[0, 1, 0]",
         "Site_B",
         "0.8207513394443265",
         "0.25573076294889535"
        ],
        [
         "32",
         "/home/a.jajodia.229/acoustic/local_data/coral/Lin_et_al_2021/Site_A/201706/SSK_Site_A_20170620_140000.wav",
         "0",
         "44100",
         "[0, 1, 0]",
         "Site_A",
         "0.8743395791830133",
         "0.24532907333184295"
        ],
        [
         "33",
         "/home/a.jajodia.229/acoustic/local_data/coral/Williams_et_al_2024/Australia/Unknown/SiteAdeployment2.1678278701.181031024242.wav",
         "0",
         "48000",
         "[0, 0, 1]",
         "Australia",
         "0.9459067455774932",
         "0.12674245159439182"
        ],
        [
         "34",
         "/home/a.jajodia.229/acoustic/local_data/coral/Williams_et_al_2024/French_Polynesia/Unknown/SiteADay1.805322778.210204053053.wav",
         "0",
         "48000",
         "[0, 0, 1]",
         "French_Polynesia",
         "0.9340075228972626",
         "0.1476808204250143"
        ],
        [
         "35",
         "/home/a.jajodia.229/acoustic/local_data/coral/Lin_et_al_2021/Site_A/201706/SSK_Site_A_20170622_150500.wav",
         "0",
         "44100",
         "[0, 1, 0]",
         "Site_A",
         "0.8856462301801622",
         "0.23245681148699895"
        ],
        [
         "36",
         "/home/a.jajodia.229/acoustic/local_data/coral/Paola/A_D/May 2025/20250318_160700.WAV",
         "0",
         "48000",
         "[0, 1, 0]",
         "A_D",
         "0.9405407037192283",
         "0.12196260000357115"
        ],
        [
         "37",
         "/home/a.jajodia.229/acoustic/local_data/coral/Paola/A_D/May 2025/20250318_092700.WAV",
         "0",
         "48000",
         "[0, 1, 0]",
         "A_D",
         "0.9336419462481209",
         "0.13118553741566638"
        ],
        [
         "38",
         "/home/a.jajodia.229/acoustic/local_data/coral/Lin_et_al_2021/Site_B/201705/SSK_Site_B_20170528_011000.wav",
         "0",
         "44100",
         "[0, 1, 0]",
         "Site_B",
         "0.8999806330189983",
         "0.19267671729703412"
        ],
        [
         "39",
         "/home/a.jajodia.229/acoustic/local_data/coral/Paola/A_D/July 2024/20240716_180200.WAV",
         "0",
         "48000",
         "[0, 1, 0]",
         "A_D",
         "0.9122472485605737",
         "0.17055692998617897"
        ],
        [
         "40",
         "/home/a.jajodia.229/acoustic/local_data/coral/Williams_et_al_2024/Australia/Unknown/SiteAdeployment1.805322778.181024014718.wav",
         "0",
         "48000",
         "[0, 0, 1]",
         "Australia",
         "0.9315716723488495",
         "0.15414451024225087"
        ],
        [
         "41",
         "/home/a.jajodia.229/acoustic/local_data/coral/Paola/A_D/May 2025/20250317_093500.WAV",
         "0",
         "48000",
         "[0, 1, 0]",
         "A_D",
         "0.9325636521621817",
         "0.13196304336525128"
        ],
        [
         "42",
         "/home/a.jajodia.229/acoustic/local_data/coral/Paola/A_D/May 2025/20250318_171300.WAV",
         "0",
         "48000",
         "[0, 1, 0]",
         "A_D",
         "0.9528310013610569",
         "0.10240395351769115"
        ],
        [
         "43",
         "/home/a.jajodia.229/acoustic/local_data/coral/Paola/A_ND/Februrary_March2024/20240228_061800.WAV",
         "0",
         "48000",
         "[0, 1, 0]",
         "A_ND",
         "0.9428578600225064",
         "0.11004746105143562"
        ],
        [
         "44",
         "/home/a.jajodia.229/acoustic/local_data/coral/Paola/A_ND/June2025/20250628_100922.WAV",
         "0",
         "48000",
         "[0, 1, 0]",
         "A_ND",
         "0.9234209954037333",
         "0.16086137016219756"
        ],
        [
         "45",
         "/home/a.jajodia.229/acoustic/local_data/coral/Paola/A_D/May 2025/20250315_120600.WAV",
         "0",
         "48000",
         "[0, 1, 0]",
         "A_D",
         "0.947339267616112",
         "0.10741377522865517"
        ],
        [
         "46",
         "/home/a.jajodia.229/acoustic/local_data/coral/Williams_et_al_2024/French_Polynesia/Unknown/SiteADay1.805322778.210204031552.wav",
         "0",
         "48000",
         "[0, 0, 1]",
         "French_Polynesia",
         "0.9313567145807797",
         "0.1538960678767757"
        ],
        [
         "47",
         "/home/a.jajodia.229/acoustic/local_data/coral/Lin_et_al_2021/Site_B/201705/SSK_Site_B_20170528_031000.wav",
         "0",
         "44100",
         "[0, 1, 0]",
         "Site_B",
         "0.9029472846956528",
         "0.18937986050367628"
        ],
        [
         "48",
         "/home/a.jajodia.229/acoustic/local_data/coral/Lin_et_al_2021/Site_B/201705/SSK_Site_B_20170527_235500.wav",
         "0",
         "44100",
         "[0, 1, 0]",
         "Site_B",
         "0.8980299376301518",
         "0.19506708819440743"
        ],
        [
         "49",
         "/home/a.jajodia.229/acoustic/local_data/coral/Williams_et_al_2024/Australia/Unknown/SiteAdeployment1.805322778.181023234726.wav",
         "0",
         "48000",
         "[0, 0, 1]",
         "Australia",
         "0.9458934301643037",
         "0.12953494419462955"
        ]
       ],
       "shape": {
        "columns": 7,
        "rows": 100
       }
      },
      "text/html": [
       "<div>\n",
       "<style scoped>\n",
       "    .dataframe tbody tr th:only-of-type {\n",
       "        vertical-align: middle;\n",
       "    }\n",
       "\n",
       "    .dataframe tbody tr th {\n",
       "        vertical-align: top;\n",
       "    }\n",
       "\n",
       "    .dataframe thead th {\n",
       "        text-align: right;\n",
       "    }\n",
       "</style>\n",
       "<table border=\"1\" class=\"dataframe\">\n",
       "  <thead>\n",
       "    <tr style=\"text-align: right;\">\n",
       "      <th></th>\n",
       "      <th>path</th>\n",
       "      <th>offset_s</th>\n",
       "      <th>sr</th>\n",
       "      <th>gt</th>\n",
       "      <th>site</th>\n",
       "      <th>entropy</th>\n",
       "      <th>complexity</th>\n",
       "    </tr>\n",
       "  </thead>\n",
       "  <tbody>\n",
       "    <tr>\n",
       "      <th>0</th>\n",
       "      <td>/home/a.jajodia.229/acoustic/local_data/coral/...</td>\n",
       "      <td>0</td>\n",
       "      <td>48000</td>\n",
       "      <td>[0, 1, 0]</td>\n",
       "      <td>A_ND</td>\n",
       "      <td>0.940460</td>\n",
       "      <td>0.099030</td>\n",
       "    </tr>\n",
       "    <tr>\n",
       "      <th>1</th>\n",
       "      <td>/home/a.jajodia.229/acoustic/local_data/coral/...</td>\n",
       "      <td>0</td>\n",
       "      <td>48000</td>\n",
       "      <td>[0, 0, 1]</td>\n",
       "      <td>Australia</td>\n",
       "      <td>0.945785</td>\n",
       "      <td>0.125576</td>\n",
       "    </tr>\n",
       "    <tr>\n",
       "      <th>2</th>\n",
       "      <td>/home/a.jajodia.229/acoustic/local_data/coral/...</td>\n",
       "      <td>0</td>\n",
       "      <td>48000</td>\n",
       "      <td>[0, 1, 0]</td>\n",
       "      <td>A_D</td>\n",
       "      <td>0.919391</td>\n",
       "      <td>0.151052</td>\n",
       "    </tr>\n",
       "    <tr>\n",
       "      <th>3</th>\n",
       "      <td>/home/a.jajodia.229/acoustic/local_data/coral/...</td>\n",
       "      <td>0</td>\n",
       "      <td>48000</td>\n",
       "      <td>[0, 1, 0]</td>\n",
       "      <td>A_D</td>\n",
       "      <td>0.866285</td>\n",
       "      <td>0.207986</td>\n",
       "    </tr>\n",
       "    <tr>\n",
       "      <th>4</th>\n",
       "      <td>/home/a.jajodia.229/acoustic/local_data/coral/...</td>\n",
       "      <td>0</td>\n",
       "      <td>44100</td>\n",
       "      <td>[0, 1, 0]</td>\n",
       "      <td>Site_C</td>\n",
       "      <td>0.448411</td>\n",
       "      <td>0.364640</td>\n",
       "    </tr>\n",
       "    <tr>\n",
       "      <th>...</th>\n",
       "      <td>...</td>\n",
       "      <td>...</td>\n",
       "      <td>...</td>\n",
       "      <td>...</td>\n",
       "      <td>...</td>\n",
       "      <td>...</td>\n",
       "      <td>...</td>\n",
       "    </tr>\n",
       "    <tr>\n",
       "      <th>95</th>\n",
       "      <td>/home/a.jajodia.229/acoustic/local_data/coral/...</td>\n",
       "      <td>0</td>\n",
       "      <td>44100</td>\n",
       "      <td>[0, 1, 0]</td>\n",
       "      <td>Site_C</td>\n",
       "      <td>0.768324</td>\n",
       "      <td>0.292713</td>\n",
       "    </tr>\n",
       "    <tr>\n",
       "      <th>96</th>\n",
       "      <td>/home/a.jajodia.229/acoustic/local_data/coral/...</td>\n",
       "      <td>0</td>\n",
       "      <td>48000</td>\n",
       "      <td>[0, 0, 1]</td>\n",
       "      <td>French_Polynesia</td>\n",
       "      <td>0.928456</td>\n",
       "      <td>0.157787</td>\n",
       "    </tr>\n",
       "    <tr>\n",
       "      <th>97</th>\n",
       "      <td>/home/a.jajodia.229/acoustic/local_data/coral/...</td>\n",
       "      <td>0</td>\n",
       "      <td>48000</td>\n",
       "      <td>[0, 0, 1]</td>\n",
       "      <td>French_Polynesia</td>\n",
       "      <td>0.946016</td>\n",
       "      <td>0.125978</td>\n",
       "    </tr>\n",
       "    <tr>\n",
       "      <th>98</th>\n",
       "      <td>/home/a.jajodia.229/acoustic/local_data/coral/...</td>\n",
       "      <td>0</td>\n",
       "      <td>48000</td>\n",
       "      <td>[0, 1, 0]</td>\n",
       "      <td>A_D</td>\n",
       "      <td>0.922942</td>\n",
       "      <td>0.144477</td>\n",
       "    </tr>\n",
       "    <tr>\n",
       "      <th>99</th>\n",
       "      <td>/home/a.jajodia.229/acoustic/local_data/coral/...</td>\n",
       "      <td>0</td>\n",
       "      <td>48000</td>\n",
       "      <td>[0, 1, 0]</td>\n",
       "      <td>A_ND</td>\n",
       "      <td>0.914974</td>\n",
       "      <td>0.170601</td>\n",
       "    </tr>\n",
       "  </tbody>\n",
       "</table>\n",
       "<p>100 rows × 7 columns</p>\n",
       "</div>"
      ],
      "text/plain": [
       "                                                 path  offset_s     sr  \\\n",
       "0   /home/a.jajodia.229/acoustic/local_data/coral/...         0  48000   \n",
       "1   /home/a.jajodia.229/acoustic/local_data/coral/...         0  48000   \n",
       "2   /home/a.jajodia.229/acoustic/local_data/coral/...         0  48000   \n",
       "3   /home/a.jajodia.229/acoustic/local_data/coral/...         0  48000   \n",
       "4   /home/a.jajodia.229/acoustic/local_data/coral/...         0  44100   \n",
       "..                                                ...       ...    ...   \n",
       "95  /home/a.jajodia.229/acoustic/local_data/coral/...         0  44100   \n",
       "96  /home/a.jajodia.229/acoustic/local_data/coral/...         0  48000   \n",
       "97  /home/a.jajodia.229/acoustic/local_data/coral/...         0  48000   \n",
       "98  /home/a.jajodia.229/acoustic/local_data/coral/...         0  48000   \n",
       "99  /home/a.jajodia.229/acoustic/local_data/coral/...         0  48000   \n",
       "\n",
       "           gt              site   entropy  complexity  \n",
       "0   [0, 1, 0]              A_ND  0.940460    0.099030  \n",
       "1   [0, 0, 1]         Australia  0.945785    0.125576  \n",
       "2   [0, 1, 0]               A_D  0.919391    0.151052  \n",
       "3   [0, 1, 0]               A_D  0.866285    0.207986  \n",
       "4   [0, 1, 0]            Site_C  0.448411    0.364640  \n",
       "..        ...               ...       ...         ...  \n",
       "95  [0, 1, 0]            Site_C  0.768324    0.292713  \n",
       "96  [0, 0, 1]  French_Polynesia  0.928456    0.157787  \n",
       "97  [0, 0, 1]  French_Polynesia  0.946016    0.125978  \n",
       "98  [0, 1, 0]               A_D  0.922942    0.144477  \n",
       "99  [0, 1, 0]              A_ND  0.914974    0.170601  \n",
       "\n",
       "[100 rows x 7 columns]"
      ]
     },
     "execution_count": 13,
     "metadata": {},
     "output_type": "execute_result"
    }
   ],
   "source": [
    "df"
   ]
  },
  {
   "cell_type": "code",
   "execution_count": null,
   "id": "b117251a",
   "metadata": {},
   "outputs": [
    {
     "data": {
      "image/png": "[encoded data removed]",
      "text/plain": [
       "<Figure size 640x480 with 1 Axes>"
      ]
     },
     "metadata": {},
     "output_type": "display_data"
    }
   ],
   "source": [
    "with sns.color_palette(\"Set3\"):\n",
    "    sns.scatterplot(df, x = 'entropy', y = 'complexity', hue = 'site', palette='Set3')"
   ]
  },
  {
   "cell_type": "code",
   "execution_count": null,
   "id": "81ab1e2f",
   "metadata": {},
   "outputs": [
    {
     "ename": "NameError",
     "evalue": "name 'cotas' is not defined",
     "output_type": "error",
     "traceback": [
      "\u001b[31m---------------------------------------------------------------------------\u001b[39m",
      "\u001b[31mNameError\u001b[39m                                 Traceback (most recent call last)",
      "\u001b[36mCell\u001b[39m\u001b[36m \u001b[39m\u001b[32mIn[15]\u001b[39m\u001b[32m, line 2\u001b[39m\n\u001b[32m      1\u001b[39m fig = plt.figure(figsize=(\u001b[32m11\u001b[39m,\u001b[32m9\u001b[39m))\n\u001b[32m----> \u001b[39m\u001b[32m2\u001b[39m plt.plot(\u001b[43mcotas\u001b[49m[\u001b[33m'\u001b[39m\u001b[33mEntropy\u001b[39m\u001b[33m'\u001b[39m],cotas[\u001b[33m'\u001b[39m\u001b[33mComplexity\u001b[39m\u001b[33m'\u001b[39m], \u001b[33m'\u001b[39m\u001b[33m--k\u001b[39m\u001b[33m'\u001b[39m, label = \u001b[33m'\u001b[39m\u001b[33mHxC boundaries\u001b[39m\u001b[33m'\u001b[39m)\n\u001b[32m      3\u001b[39m plt.plot(noise[\u001b[33m'\u001b[39m\u001b[33mEntropy\u001b[39m\u001b[33m'\u001b[39m],noise[\u001b[33m'\u001b[39m\u001b[33mComplexity\u001b[39m\u001b[33m'\u001b[39m], \u001b[33m'\u001b[39m\u001b[33m--b\u001b[39m\u001b[33m'\u001b[39m, label = \u001b[33m'\u001b[39m\u001b[33mColored noises\u001b[39m\u001b[33m'\u001b[39m)\n\u001b[32m      4\u001b[39m \u001b[38;5;66;03m# for i in range(len(H)):\u001b[39;00m\n",
      "\u001b[31mNameError\u001b[39m: name 'cotas' is not defined"
     ]
    },
    {
     "data": {
      "text/plain": [
       "<Figure size 1100x900 with 0 Axes>"
      ]
     },
     "metadata": {},
     "output_type": "display_data"
    }
   ],
   "source": [
    "\n",
    "fig = plt.figure(figsize=(11,9))\n",
    "plt.plot(cotas['Entropy'],cotas['Complexity'], '--k', label = 'HxC boundaries')\n",
    "plt.plot(noise['Entropy'],noise['Complexity'], '--b', label = 'Colored noises')\n",
    "# for i in range(len(H)):\n",
    "plt.scatter(df_degraded[\"entropy\"], df_degraded[\"complexity\"], marker='.', s=5, cmap='viridis', label=\"Degraded\")\n",
    "plt.scatter(df_non_degraded[\"entropy\"], df_non_degraded[\"complexity\"], marker='.', s=5, cmap='viridis', label=\"Non_degraded\")\n",
    "\n",
    "plt.xlim([0, 1])\n",
    "plt.ylim([0, np.max(cotas['Complexity'])+0.01])\n",
    "plt.ylabel('Complexity [Cf]')\n",
    "plt.xlabel('Entropy [Hf]')\n",
    "lgnd = plt.legend(loc = 'best')\n",
    "# set sizes of points in legend to be the same\n",
    "for handle in lgnd.legend_handles:\n",
    "    try:\n",
    "        handle.set_sizes([200.0])\n",
    "    except:\n",
    "        continue\n",
    "fig.axes[0].set_title(f\"Reef Degradation By EGCI\")"
   ]
  },
  {
   "cell_type": "code",
   "execution_count": null,
   "id": "e1a857ee",
   "metadata": {},
   "outputs": [
    {
     "data": {
      "text/plain": [
       "[<matplotlib.lines.Line2D at 0x73b3336ec990>]"
      ]
     },
     "execution_count": 10,
     "metadata": {},
     "output_type": "execute_result"
    },
    {
     "data": {
      "image/png": "[encoded data removed]",
      "text/plain": [
       "<Figure size 640x480 with 1 Axes>"
      ]
     },
     "metadata": {},
     "output_type": "display_data"
    }
   ],
   "source": [
    "accs = []\n",
    "params = [i for i in range(1,50, 1)]\n",
    "\n",
    "\n",
    "for i in range(1, 50, 1):\n",
    "    clf = neighbors.KNeighborsClassifier(n_neighbors = i)\n",
    "\n",
    "\n",
    "    X = df[['entropy', 'complexity']]\n",
    "    y = (df['gt'] == \"Degraded reef\")\n",
    "\n",
    "    X_train, X_test, y_train, y_test = model_selection.train_test_split(\n",
    "        X, y, test_size=0.33, random_state=42)\n",
    "    clf.fit(X_train, y_train)\n",
    "\n",
    "    actual = mean(clf.predict(X_test) == y_test)\n",
    "    \n",
    "    accs.append(actual)\n",
    "\n",
    "plt.plot(params, accs)"
   ]
  },
  {
   "cell_type": "code",
   "execution_count": null,
   "id": "e1b14cec",
   "metadata": {},
   "outputs": [
    {
     "data": {
      "text/plain": [
       "0.8756120307764047"
      ]
     },
     "execution_count": 11,
     "metadata": {},
     "output_type": "execute_result"
    }
   ],
   "source": [
    "actual = sum(clf.predict(X_test) == y_test)/len(y_test)\n",
    "\n",
    "actual"
   ]
  },
  {
   "cell_type": "code",
   "execution_count": null,
   "id": "486e0799",
   "metadata": {},
   "outputs": [],
   "source": [
    "permutations = []\n",
    "# permutation testing\n",
    "for i in range(10**4):\n",
    "    permutations.append(mean(np.random.choice(y_test, len(y_test)) == y_test))\n",
    "\n",
    "num_sig = 0\n",
    "for perm in permutations:\n",
    "    if perm > actual:\n",
    "        num_sig += 1\n",
    "\n",
    "p = num_sig / 10**4"
   ]
  },
  {
   "cell_type": "code",
   "execution_count": null,
   "id": "c648ff99",
   "metadata": {},
   "outputs": [],
   "source": [
    "report = classification_report(y_test, clf.predict(X_test)) "
   ]
  },
  {
   "cell_type": "code",
   "execution_count": null,
   "id": "cc928732",
   "metadata": {},
   "outputs": [
    {
     "name": "stdout",
     "output_type": "stream",
     "text": [
      "              precision    recall  f1-score   support\n",
      "\n",
      "       False       0.93      0.85      0.89      5012\n",
      "        True       0.81      0.91      0.86      3566\n",
      "\n",
      "    accuracy                           0.88      8578\n",
      "   macro avg       0.87      0.88      0.87      8578\n",
      "weighted avg       0.88      0.88      0.88      8578\n",
      "\n"
     ]
    }
   ],
   "source": [
    "print(report)"
   ]
  }
 ],
 "metadata": {
  "kernelspec": {
   "display_name": "acoustic-knowledge (3.11.13)",
   "language": "python",
   "name": "python3"
  },
  "language_info": {
   "codemirror_mode": {
    "name": "ipython",
    "version": 3
   },
   "file_extension": ".py",
   "mimetype": "text/x-python",
   "name": "python",
   "nbconvert_exporter": "python",
   "pygments_lexer": "ipython3",
   "version": "3.11.13"
  }
 },
 "nbformat": 4,
 "nbformat_minor": 5
}
