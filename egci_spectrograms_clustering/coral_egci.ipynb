{
 "cells": [
  {
   "cell_type": "code",
   "execution_count": 5,
   "id": "8e1078ce",
   "metadata": {},
   "outputs": [],
   "source": [
    "# imports\n",
    "import librosa, os\n",
    "from scipy.linalg import svd, toeplitz\n",
    "from scipy.stats import zscore\n",
    "import numpy as np\n",
    "from scipy.stats import entropy\n",
    "from statsmodels.tsa.stattools import acf\n",
    "\n",
    "from tqdm.notebook import tqdm\n",
    "from random import sample\n",
    "import seaborn as sns\n",
    "import pandas as pd\n",
    "import matplotlib.pyplot as plt\n",
    "from multiprocessing import Pool\n",
    "from sklearn import svm, neighbors, model_selection\n",
    "from statistics import mean\n",
    "from sklearn.metrics import classification_report\n",
    "\n",
    "from pyha_analyzer import PyhaTrainer, PyhaTrainingArguments, extractors\n",
    "import torch\n",
    "import lap\n",
    "\n",
    "from utils import extract_coral, get_egci\n"
   ]
  },
  {
   "cell_type": "code",
   "execution_count": 6,
   "id": "6858db6f",
   "metadata": {},
   "outputs": [
    {
     "name": "stdout",
     "output_type": "stream",
     "text": [
      "min size is 15538 from dataset Paola\n",
      "sampling 15538 from (Paola, 0)\n",
      "sampling 15538 from (Paola, 1)\n",
      "sampling 1294 from (Williams_et_al_2024, 0)\n",
      "sampling 1294 from (Williams_et_al_2024, 1)\n",
      "Loaded: 33664 samples\n"
     ]
    },
    {
     "data": {
      "application/vnd.jupyter.widget-view+json": {
       "model_id": "562174ce1f3f4fa1b98515b09a4ac73d",
       "version_major": 2,
       "version_minor": 0
      },
      "text/plain": [
       "Casting the dataset:   0%|          | 0/23564 [00:00<?, ? examples/s]"
      ]
     },
     "metadata": {},
     "output_type": "display_data"
    },
    {
     "data": {
      "application/vnd.jupyter.widget-view+json": {
       "model_id": "62c32951d454444080a8a08652704a2d",
       "version_major": 2,
       "version_minor": 0
      },
      "text/plain": [
       "Casting the dataset:   0%|          | 0/3030 [00:00<?, ? examples/s]"
      ]
     },
     "metadata": {},
     "output_type": "display_data"
    },
    {
     "data": {
      "application/vnd.jupyter.widget-view+json": {
       "model_id": "477aad33a09a45d794cec1e00c427406",
       "version_major": 2,
       "version_minor": 0
      },
      "text/plain": [
       "Casting the dataset:   0%|          | 0/7070 [00:00<?, ? examples/s]"
      ]
     },
     "metadata": {},
     "output_type": "display_data"
    }
   ],
   "source": [
    "# getting all the wavs\n",
    "\n",
    "audio_path = \"/home/a.jajodia.229/acoustic/local_data/coral\"\n",
    "\n",
    "train, test, split = extract_coral(audio_path, 5, False)"
   ]
  },
  {
   "cell_type": "code",
   "execution_count": null,
   "id": "2fce529c",
   "metadata": {},
   "outputs": [],
   "source": [
    "df = pd.DataFrame(train[0:100])"
   ]
  },
  {
   "cell_type": "code",
   "execution_count": null,
   "id": "56b297a9",
   "metadata": {},
   "outputs": [
    {
     "data": {
      "application/vnd.jupyter.widget-view+json": {
       "model_id": "52d5d3bc6529484e811134fc3db89f7d",
       "version_major": 2,
       "version_minor": 0
      },
      "text/plain": [
       "  0%|          | 0/100 [00:00<?, ?it/s]"
      ]
     },
     "metadata": {},
     "output_type": "display_data"
    },
    {
     "name": "stdout",
     "output_type": "stream",
     "text": [
      "no audio here :(\n",
      "no audio here :(\n",
      "no audio here :(\n"
     ]
    }
   ],
   "source": [
    "\n",
    "processed_data = []\n",
    "\n",
    "for _, row in tqdm(df.iterrows(), total=len(df)):\n",
    "    if row['dataset'] == \"Williams_et_al_2024\":\n",
    "        \n",
    "        egci = get_egci(row, split=True)\n",
    "    else:\n",
    "        egci = get_egci(row, split=False)\n",
    "    if egci is not None:\n",
    "        processed_data += egci\n",
    "\n",
    "processed_data = pd.DataFrame.from_records(processed_data)\n"
   ]
  },
  {
   "cell_type": "code",
   "execution_count": null,
   "id": "81ab1e2f",
   "metadata": {},
   "outputs": [
    {
     "ename": "NameError",
     "evalue": "name 'pd' is not defined",
     "output_type": "error",
     "traceback": [
      "\u001b[31m---------------------------------------------------------------------------\u001b[39m",
      "\u001b[31mNameError\u001b[39m                                 Traceback (most recent call last)",
      "\u001b[36mCell\u001b[39m\u001b[36m \u001b[39m\u001b[32mIn[1]\u001b[39m\u001b[32m, line 1\u001b[39m\n\u001b[32m----> \u001b[39m\u001b[32m1\u001b[39m cotas = \u001b[43mpd\u001b[49m.read_csv(\u001b[33m\"\u001b[39m\u001b[33mCotas_HxC_bins_512.csv\u001b[39m\u001b[33m\"\u001b[39m)\n\u001b[32m      2\u001b[39m noise = pd.read_csv(\u001b[33m\"\u001b[39m\u001b[33mcoloredNoises_512.csv\u001b[39m\u001b[33m\"\u001b[39m)\n\u001b[32m      4\u001b[39m fig = plt.figure(figsize=(\u001b[32m7\u001b[39m,\u001b[32m5\u001b[39m))\n",
      "\u001b[31mNameError\u001b[39m: name 'pd' is not defined"
     ]
    }
   ],
   "source": [
    "\n",
    "\n",
    "cotas = pd.read_csv(\"Cotas_HxC_bins_512.csv\")\n",
    "noise = pd.read_csv(\"coloredNoises_512.csv\")\n",
    "\n",
    "fig = plt.figure(figsize=(7,5))\n",
    "\n",
    "sns.scatterplot(processed_data, x='entropy', y='complexity', hue='gt', style='site', alpha=0.2)\n",
    "\n",
    "plt.plot(cotas['Entropy'],cotas['Complexity'], '--k', label = 'HxC boundaries')\n",
    "plt.plot(noise['Entropy'],noise['Complexity'], '--b', label = 'Colored noises')\n",
    "\n",
    "\n",
    "plt.xlim([0, 1])\n",
    "plt.ylim([0, np.max(cotas['Complexity'])+0.01])\n",
    "plt.ylabel('Complexity [Cf]')\n",
    "plt.xlabel('Entropy [Hf]')\n",
    "lgnd = plt.legend(loc = 'best')\n",
    "# set sizes of points in legend to be the same\n",
    "for handle in lgnd.legend_handles:\n",
    "    try:\n",
    "        handle.set_sizes([200.0])\n",
    "    except:\n",
    "        continue\n",
    "fig.axes[0].set_title(f\"Reef Degradation By EGCI\")"
   ]
  },
  {
   "cell_type": "code",
   "execution_count": null,
   "id": "e1a857ee",
   "metadata": {},
   "outputs": [
    {
     "data": {
      "text/plain": [
       "[<matplotlib.lines.Line2D at 0x7f0bf4515e90>]"
      ]
     },
     "execution_count": 11,
     "metadata": {},
     "output_type": "execute_result"
    },
    {
     "data": {
      "image/png": "[encoded data removed]",
      "text/plain": [
       "<Figure size 640x480 with 1 Axes>"
      ]
     },
     "metadata": {},
     "output_type": "display_data"
    }
   ],
   "source": [
    "accs = []\n",
    "params = [i for i in range(1,50, 1)]\n",
    "\n",
    "\n",
    "for i in range(1, 50, 1):\n",
    "    clf = neighbors.KNeighborsClassifier(n_neighbors = i)\n",
    "\n",
    "\n",
    "    X = processed_data[['entropy', 'complexity']]\n",
    "    y = (processed_data['gt'] == \"Degraded reef\")\n",
    "\n",
    "    X_train, X_test, y_train, y_test = model_selection.train_test_split(\n",
    "        X, y, test_size=0.33, random_state=42)\n",
    "    clf.fit(X_train, y_train)\n",
    "\n",
    "    actual = mean(clf.predict(X_test) == y_test)\n",
    "    \n",
    "    accs.append(actual)\n",
    "\n",
    "plt.plot(params, accs)"
   ]
  },
  {
   "cell_type": "code",
   "execution_count": null,
   "id": "e1b14cec",
   "metadata": {},
   "outputs": [
    {
     "data": {
      "text/plain": [
       "1.0"
      ]
     },
     "execution_count": 12,
     "metadata": {},
     "output_type": "execute_result"
    }
   ],
   "source": [
    "actual = sum(clf.predict(X_test) == y_test)/len(y_test)\n",
    "\n",
    "actual"
   ]
  },
  {
   "cell_type": "code",
   "execution_count": null,
   "id": "486e0799",
   "metadata": {},
   "outputs": [],
   "source": [
    "permutations = []\n",
    "# permutation testing\n",
    "for i in range(10**4):\n",
    "    permutations.append(mean(np.random.choice(y_test, len(y_test)) == y_test))\n",
    "\n",
    "num_sig = 0\n",
    "for perm in permutations:\n",
    "    if perm > actual:\n",
    "        num_sig += 1\n",
    "\n",
    "p = num_sig / 10**4"
   ]
  },
  {
   "cell_type": "code",
   "execution_count": null,
   "id": "c648ff99",
   "metadata": {},
   "outputs": [],
   "source": [
    "report = classification_report(y_test, clf.predict(X_test)) "
   ]
  },
  {
   "cell_type": "code",
   "execution_count": null,
   "id": "cc928732",
   "metadata": {},
   "outputs": [
    {
     "name": "stdout",
     "output_type": "stream",
     "text": [
      "              precision    recall  f1-score   support\n",
      "\n",
      "       False       0.93      0.85      0.89      5012\n",
      "        True       0.81      0.91      0.86      3566\n",
      "\n",
      "    accuracy                           0.88      8578\n",
      "   macro avg       0.87      0.88      0.87      8578\n",
      "weighted avg       0.88      0.88      0.88      8578\n",
      "\n"
     ]
    }
   ],
   "source": [
    "print(report)"
   ]
  }
 ],
 "metadata": {
  "kernelspec": {
   "display_name": "acoustic-knowledge-discovery (3.11.13)",
   "language": "python",
   "name": "python3"
  },
  "language_info": {
   "codemirror_mode": {
    "name": "ipython",
    "version": 3
   },
   "file_extension": ".py",
   "mimetype": "text/x-python",
   "name": "python",
   "nbconvert_exporter": "python",
   "pygments_lexer": "ipython3",
   "version": "3.11.13"
  }
 },
 "nbformat": 4,
 "nbformat_minor": 5
}
