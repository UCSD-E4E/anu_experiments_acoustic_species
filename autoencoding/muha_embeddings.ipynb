{
 "cells": [
  {
   "cell_type": "code",
   "execution_count": 1,
   "id": "f8736c53",
   "metadata": {},
   "outputs": [],
   "source": [
    "# imports\n",
    "from pyha_analyzer import extractors\n",
    "from pyha_analyzer.preprocessors import MelSpectrogramPreprocessorsNew\n",
    "import torch\n",
    "from datetime import datetime\n",
    "\n",
    "\n",
    "import torch.nn.functional as F\n",
    "import torch.nn as nn\n",
    "from torch.utils.data import DataLoader\n",
    "\n",
    "\n",
    "from torchvision.utils import make_grid\n",
    "\n",
    "from tqdm.notebook import tqdm\n",
    "\n",
    "import numpy as np"
   ]
  },
  {
   "cell_type": "code",
   "execution_count": null,
   "id": "af3de89e",
   "metadata": {},
   "outputs": [],
   "source": []
  }
 ],
 "metadata": {
  "kernelspec": {
   "display_name": "acoustic-knowledge-discovery (3.11.13)",
   "language": "python",
   "name": "python3"
  },
  "language_info": {
   "codemirror_mode": {
    "name": "ipython",
    "version": 3
   },
   "file_extension": ".py",
   "mimetype": "text/x-python",
   "name": "python",
   "nbconvert_exporter": "python",
   "pygments_lexer": "ipython3",
   "version": "3.11.13"
  }
 },
 "nbformat": 4,
 "nbformat_minor": 5
}
