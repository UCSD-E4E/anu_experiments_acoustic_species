{
 "cells": [
  {
   "cell_type": "code",
   "execution_count": 1,
   "id": "89fa9b79",
   "metadata": {},
   "outputs": [],
   "source": [
    "# imports\n",
    "from pyha_analyzer import extractors\n",
    "\n",
    "from buowset_extractor import buowset_extractor\n",
    "from pyha_analyzer.preprocessors import MelSpectrogramPreprocessorsNew\n",
    "import torch\n",
    "from datetime import datetime\n",
    "\n",
    "\n",
    "import torch.nn.functional as F\n",
    "import torch.nn as nn\n",
    "from torch.utils.data import DataLoader\n",
    "\n",
    "\n",
    "from torchvision.utils import make_grid\n",
    "\n",
    "from tqdm.notebook import tqdm\n",
    "\n",
    "import numpy as np"
   ]
  },
  {
   "cell_type": "code",
   "execution_count": 2,
   "id": "725aef36",
   "metadata": {},
   "outputs": [],
   "source": [
    "config = {\n",
    "    \"learning_rate\": 10e-3,\n",
    "    \"learning_rate_decay\": 0.001,\n",
    "    \"device\": 'cuda',\n",
    "    \"latent_dim\": 1024\n",
    "}"
   ]
  },
  {
   "cell_type": "code",
   "execution_count": 3,
   "id": "d2d4bc3a",
   "metadata": {},
   "outputs": [
    {
     "data": {
      "application/vnd.jupyter.widget-view+json": {
       "model_id": "75c18e8efb204542bed44550489bdc09",
       "version_major": 2,
       "version_minor": 0
      },
      "text/plain": [
       "Saving the dataset (0/2 shards):   0%|          | 0/5081 [00:00<?, ? examples/s]"
      ]
     },
     "metadata": {},
     "output_type": "display_data"
    },
    {
     "data": {
      "application/vnd.jupyter.widget-view+json": {
       "model_id": "e2af84292ac049d69abf4f9be153f8f2",
       "version_major": 2,
       "version_minor": 0
      },
      "text/plain": [
       "Saving the dataset (0/2 shards):   0%|          | 0/5081 [00:00<?, ? examples/s]"
      ]
     },
     "metadata": {},
     "output_type": "display_data"
    },
    {
     "data": {
      "application/vnd.jupyter.widget-view+json": {
       "model_id": "f9843a4b6fef4516a4da4f358a48faab",
       "version_major": 2,
       "version_minor": 0
      },
      "text/plain": [
       "Saving the dataset (0/2 shards):   0%|          | 0/5042 [00:00<?, ? examples/s]"
      ]
     },
     "metadata": {},
     "output_type": "display_data"
    }
   ],
   "source": [
    "# extract our data\n",
    "buow_ads = buowset_extractor(metadata_csv=\"/home/a.jajodia.229/acoustic/local_data/buow/buowset/meta/metadata.csv\",\n",
    "                              parent_path=\"/home/a.jajodia.229/acoustic/local_data/buow/buowset/audio\",\n",
    "                              output_path=\"/home/a.jajodia.229/acoustic/acoustic_knowledge_discovery/autoencoding\"\n",
    "                              )\n",
    "\n",
    "\n",
    "\n",
    "def encode(batch):\n",
    "    raw_audio = []\n",
    "    for item_idx in range(len(batch[\"audio\"])):\n",
    "        audio = batch['audio'][item_idx]['array'][0:32768]\n",
    "        audio_padded = np.pad(audio, pad_width=(0, 32768-len(audio)), mode=\"edge\")\n",
    "    \n",
    "        raw_audio.append(audio_padded)\n",
    "\n",
    "    batch['audio'] = np.expand_dims(np.array(raw_audio, dtype=\"float\"), axis=1)\n",
    "    \n",
    "    return batch\n",
    "    \n",
    "buow_ads.set_transform(encode)\n"
   ]
  },
  {
   "cell_type": "code",
   "execution_count": 4,
   "id": "6bbd6495",
   "metadata": {},
   "outputs": [
    {
     "data": {
      "text/plain": [
       "(2, 1, 32768)"
      ]
     },
     "execution_count": 4,
     "metadata": {},
     "output_type": "execute_result"
    }
   ],
   "source": [
    "buow_ads['train'][0:2]['audio'].shape"
   ]
  },
  {
   "cell_type": "code",
   "execution_count": 5,
   "id": "14383cae",
   "metadata": {},
   "outputs": [],
   "source": [
    "# architecture from https://journals.plos.org/plosone/article?id=10.1371/journal.pone.0283396\n",
    "encoder = lambda nfeat : torch.nn.Sequential(\n",
    "    nn.Conv1d(1, 32, 3, stride=2, bias=False, padding=1),\n",
    "    nn.BatchNorm1d(32),\n",
    "    nn.ReLU(True),\n",
    "    nn.Conv1d(32, 64, 3, stride=2, bias=False, padding=1),\n",
    "    nn.BatchNorm1d(64),\n",
    "    nn.ReLU(True),\n",
    "    nn.Conv1d(64, 128, 3, stride=2, bias=False, padding=1),\n",
    "    nn.BatchNorm1d(128),\n",
    "    nn.ReLU(True),\n",
    "    nn.Conv1d(128, 256, 3, stride=2, bias=False, padding=1),\n",
    "    nn.BatchNorm1d(256),\n",
    "    nn.ReLU(True),\n",
    "    nn.Conv1d(256, 1, 3, stride=2, padding=1),\n",
    "    nn.Linear(1024, nfeat)\n",
    ")\n",
    "\n",
    "decoder = lambda nfeat : torch.nn.Sequential(\n",
    "    nn.Linear(nfeat, 1024),\n",
    "    nn.ReLU(True),\n",
    "    nn.Upsample(scale_factor=2),\n",
    "    nn.Conv1d(1, 256, 3, bias=False, padding=1),\n",
    "    nn.BatchNorm1d(256),\n",
    "    nn.ReLU(True),\n",
    "    nn.Conv1d(256, 256, 3, bias=False, padding=1),\n",
    "    nn.BatchNorm1d(256),\n",
    "    nn.ReLU(True),\n",
    "\n",
    "    nn.Upsample(scale_factor=2),\n",
    "    nn.Conv1d(256, 128, 3, bias=False, padding=1),\n",
    "    nn.BatchNorm1d(128),\n",
    "    nn.ReLU(True),\n",
    "    nn.Conv1d(128, 128, 3, bias=False, padding=1),\n",
    "    nn.BatchNorm1d(128),\n",
    "    nn.ReLU(True),\n",
    "\n",
    "    nn.Upsample(scale_factor=2),\n",
    "    nn.Conv1d(128, 64, 3, bias=False, padding=1),\n",
    "    nn.BatchNorm1d(64),\n",
    "    nn.ReLU(True),\n",
    "    nn.Conv1d(64, 64, 3, bias=False, padding=1),\n",
    "    nn.BatchNorm1d(64),\n",
    "    nn.ReLU(True),\n",
    "\n",
    "    nn.Upsample(scale_factor=2),\n",
    "    nn.Conv1d(64, 32, 3, bias=False, padding=1),\n",
    "    nn.BatchNorm1d(32),\n",
    "    nn.ReLU(True),\n",
    "    nn.Conv1d(32, 32, 3, bias=False, padding=1),\n",
    "    nn.BatchNorm1d(32),\n",
    "    nn.ReLU(True),\n",
    "\n",
    "    nn.Upsample(scale_factor=2),\n",
    "    nn.Conv1d(32, 1, 3, bias=False, padding=1),\n",
    "    nn.BatchNorm1d(1),\n",
    "    nn.ReLU(True),\n",
    "    nn.Conv1d(1, 1, 3, bias=False, padding=1)\n",
    ")"
   ]
  },
  {
   "cell_type": "code",
   "execution_count": 6,
   "id": "4ceeccce",
   "metadata": {},
   "outputs": [
    {
     "name": "stderr",
     "output_type": "stream",
     "text": [
      "/home/a.jajodia.229/acoustic/acoustic_knowledge_discovery/.venv/lib/python3.11/site-packages/torchaudio/functional/functional.py:585: UserWarning: At least one mel filterbank has all zero values. The value for `n_mels` (128) may be set too high. Or, the value for `n_freqs` (201) may be set too low.\n",
      "  warnings.warn(\n"
     ]
    }
   ],
   "source": [
    "import torchaudio\n",
    "\n",
    "encoder = encoder(config['latent_dim'])\n",
    "decoder = decoder(config['latent_dim'])\n",
    "\n",
    "audio_to_spectrogram = torchaudio.transforms.MelSpectrogram(sample_rate=16000).to(config['device'])\n",
    "\n",
    "model = nn.Sequential(\n",
    "    encoder,\n",
    "    decoder\n",
    ").to(config['device'])"
   ]
  },
  {
   "cell_type": "code",
   "execution_count": 7,
   "id": "11da38ec",
   "metadata": {},
   "outputs": [],
   "source": [
    "import torchmetrics\n",
    "\n",
    "\n",
    "optimizer = torch.optim.AdamW(model.parameters(), weight_decay=0, lr=config[\"learning_rate\"], betas=(0.8, 0.999))\n",
    "scheduler = torch.optim.lr_scheduler.LambdaLR(optimizer, lambda epoch : (1-config[\"learning_rate_decay\"])**epoch)\n",
    "metric = torch.nn.MSELoss()\n",
    "train_loader = DataLoader(buow_ads['train'], batch_size=8, num_workers=8, shuffle=True)"
   ]
  },
  {
   "cell_type": "code",
   "execution_count": 21,
   "id": "2b23e145",
   "metadata": {},
   "outputs": [
    {
     "data": {
      "application/vnd.jupyter.widget-view+json": {
       "model_id": "53dada9380c64c82aa477e593c7a5e8f",
       "version_major": 2,
       "version_minor": 0
      },
      "text/plain": [
       "0:   0%|          | 0/636 [00:00<?, ?it/s]"
      ]
     },
     "metadata": {},
     "output_type": "display_data"
    },
    {
     "name": "stdout",
     "output_type": "stream",
     "text": [
      "250.74623697280884\n",
      "282.94085897922514\n",
      "270.082976808548\n",
      "289.4799141120911\n",
      "261.8886691093445\n",
      "257.29591386032104\n"
     ]
    },
    {
     "data": {
      "application/vnd.jupyter.widget-view+json": {
       "model_id": "26290240c11a4751956d5bcf9b863c0e",
       "version_major": 2,
       "version_minor": 0
      },
      "text/plain": [
       "1:   0%|          | 0/636 [00:00<?, ?it/s]"
      ]
     },
     "metadata": {},
     "output_type": "display_data"
    },
    {
     "name": "stdout",
     "output_type": "stream",
     "text": [
      "242.23989752578734\n",
      "244.64097139167785\n",
      "242.39224000549316\n",
      "237.22250665950776\n",
      "242.85657283687593\n",
      "245.63178881168366\n"
     ]
    },
    {
     "data": {
      "application/vnd.jupyter.widget-view+json": {
       "model_id": "f20bf971fcff47319c1bbe18c1fa3e02",
       "version_major": 2,
       "version_minor": 0
      },
      "text/plain": [
       "2:   0%|          | 0/636 [00:00<?, ?it/s]"
      ]
     },
     "metadata": {},
     "output_type": "display_data"
    },
    {
     "name": "stdout",
     "output_type": "stream",
     "text": [
      "260.35876523685454\n",
      "251.8787611951828\n",
      "267.94219331741334\n",
      "277.84130895614624\n",
      "262.8328831787109\n",
      "245.75696071243286\n",
      "245.51216254234313\n"
     ]
    },
    {
     "data": {
      "application/vnd.jupyter.widget-view+json": {
       "model_id": "ae2168afff504b44bcbd71cc37c71ba3",
       "version_major": 2,
       "version_minor": 0
      },
      "text/plain": [
       "3:   0%|          | 0/636 [00:00<?, ?it/s]"
      ]
     },
     "metadata": {},
     "output_type": "display_data"
    },
    {
     "name": "stdout",
     "output_type": "stream",
     "text": [
      "237.33639012908935\n",
      "221.40792831230164\n",
      "236.18498553085328\n",
      "242.25455839157104\n",
      "249.9614265899658\n",
      "245.49106327819825\n"
     ]
    },
    {
     "data": {
      "application/vnd.jupyter.widget-view+json": {
       "model_id": "0c11907d696040c7ad34823411405782",
       "version_major": 2,
       "version_minor": 0
      },
      "text/plain": [
       "4:   0%|          | 0/636 [00:00<?, ?it/s]"
      ]
     },
     "metadata": {},
     "output_type": "display_data"
    },
    {
     "name": "stdout",
     "output_type": "stream",
     "text": [
      "238.30521588897705\n",
      "235.26916348266602\n",
      "226.34768122673034\n",
      "218.31500020599364\n",
      "221.7038130569458\n",
      "231.6323412322998\n"
     ]
    },
    {
     "data": {
      "application/vnd.jupyter.widget-view+json": {
       "model_id": "364d949e4e5a4807a39916b1e8d7bcf9",
       "version_major": 2,
       "version_minor": 0
      },
      "text/plain": [
       "5:   0%|          | 0/636 [00:00<?, ?it/s]"
      ]
     },
     "metadata": {},
     "output_type": "display_data"
    },
    {
     "name": "stdout",
     "output_type": "stream",
     "text": [
      "233.69512904548645\n",
      "233.00347863960266\n",
      "228.9764440870285\n",
      "219.7281973543167\n",
      "225.85849570846557\n",
      "222.5833123779297\n",
      "225.179042801857\n"
     ]
    },
    {
     "data": {
      "application/vnd.jupyter.widget-view+json": {
       "model_id": "a68f9fa98acb4a43a351a6e1813b1182",
       "version_major": 2,
       "version_minor": 0
      },
      "text/plain": [
       "6:   0%|          | 0/636 [00:00<?, ?it/s]"
      ]
     },
     "metadata": {},
     "output_type": "display_data"
    },
    {
     "name": "stdout",
     "output_type": "stream",
     "text": [
      "228.51858736419678\n",
      "241.431422914505\n",
      "230.0348619375229\n",
      "225.24174285411834\n",
      "221.10225218105316\n",
      "225.38782959079742\n"
     ]
    },
    {
     "data": {
      "application/vnd.jupyter.widget-view+json": {
       "model_id": "8f0a03161fc84858a0b74ff0e74ae4b8",
       "version_major": 2,
       "version_minor": 0
      },
      "text/plain": [
       "7:   0%|          | 0/636 [00:00<?, ?it/s]"
      ]
     },
     "metadata": {},
     "output_type": "display_data"
    },
    {
     "name": "stdout",
     "output_type": "stream",
     "text": [
      "217.06823238086702\n",
      "208.8474212770462\n",
      "210.6484520072937\n",
      "214.1286371269226\n",
      "207.2636796131134\n",
      "203.36223480033874\n"
     ]
    },
    {
     "data": {
      "application/vnd.jupyter.widget-view+json": {
       "model_id": "33dd135a25f249e2831401d91e3223ab",
       "version_major": 2,
       "version_minor": 0
      },
      "text/plain": [
       "8:   0%|          | 0/636 [00:00<?, ?it/s]"
      ]
     },
     "metadata": {},
     "output_type": "display_data"
    },
    {
     "name": "stdout",
     "output_type": "stream",
     "text": [
      "215.55095713424683\n",
      "210.89861290073395\n",
      "203.99993881988524\n",
      "200.14070029830933\n",
      "199.11807699871062\n",
      "201.4146127767563\n",
      "206.94083680820466\n"
     ]
    },
    {
     "data": {
      "application/vnd.jupyter.widget-view+json": {
       "model_id": "727c1a00581549699881bcb18ca33e99",
       "version_major": 2,
       "version_minor": 0
      },
      "text/plain": [
       "9:   0%|          | 0/636 [00:00<?, ?it/s]"
      ]
     },
     "metadata": {},
     "output_type": "display_data"
    },
    {
     "name": "stdout",
     "output_type": "stream",
     "text": [
      "209.70997420978546\n",
      "212.86273668003082\n",
      "214.73046925783157\n",
      "210.51808554124833\n",
      "200.8863176178932\n",
      "210.0786889228821\n"
     ]
    },
    {
     "data": {
      "application/vnd.jupyter.widget-view+json": {
       "model_id": "e8c48540b6534bd1901a9fd781822ce9",
       "version_major": 2,
       "version_minor": 0
      },
      "text/plain": [
       "10:   0%|          | 0/636 [00:00<?, ?it/s]"
      ]
     },
     "metadata": {},
     "output_type": "display_data"
    },
    {
     "name": "stdout",
     "output_type": "stream",
     "text": [
      "212.24347280311585\n",
      "214.3968437075615\n",
      "211.39218358182907\n",
      "213.55867729139328\n",
      "197.3141330986023\n",
      "199.43407032585145\n"
     ]
    },
    {
     "data": {
      "application/vnd.jupyter.widget-view+json": {
       "model_id": "0cb8a52ba14a496ca78f8747070d6c6d",
       "version_major": 2,
       "version_minor": 0
      },
      "text/plain": [
       "11:   0%|          | 0/636 [00:00<?, ?it/s]"
      ]
     },
     "metadata": {},
     "output_type": "display_data"
    },
    {
     "name": "stdout",
     "output_type": "stream",
     "text": [
      "199.57262968444823\n",
      "188.35598710250855\n",
      "200.82121437978745\n",
      "206.26348199415207\n",
      "205.0434271235466\n",
      "206.31105065011977\n",
      "215.00411799669266\n"
     ]
    },
    {
     "data": {
      "application/vnd.jupyter.widget-view+json": {
       "model_id": "67a2436ae3d643678b66e0908bc4587c",
       "version_major": 2,
       "version_minor": 0
      },
      "text/plain": [
       "12:   0%|          | 0/636 [00:00<?, ?it/s]"
      ]
     },
     "metadata": {},
     "output_type": "display_data"
    },
    {
     "name": "stdout",
     "output_type": "stream",
     "text": [
      "204.29395838260652\n",
      "206.7469275779724\n",
      "194.86367438173295\n",
      "193.10385094976425\n",
      "197.385226000309\n",
      "203.4237204556465\n"
     ]
    },
    {
     "data": {
      "application/vnd.jupyter.widget-view+json": {
       "model_id": "333ebf5449e84f1889a2bc5948e0b9d0",
       "version_major": 2,
       "version_minor": 0
      },
      "text/plain": [
       "13:   0%|          | 0/636 [00:00<?, ?it/s]"
      ]
     },
     "metadata": {},
     "output_type": "display_data"
    },
    {
     "name": "stdout",
     "output_type": "stream",
     "text": [
      "196.75939623117446\n",
      "217.05498778724672\n",
      "218.71122418689728\n",
      "231.93224064540863\n",
      "249.8566708307266\n",
      "272.06010214567186\n",
      "285.6745515165329\n"
     ]
    },
    {
     "data": {
      "application/vnd.jupyter.widget-view+json": {
       "model_id": "5051218eab834f65a9855e01cf16d324",
       "version_major": 2,
       "version_minor": 0
      },
      "text/plain": [
       "14:   0%|          | 0/636 [00:00<?, ?it/s]"
      ]
     },
     "metadata": {},
     "output_type": "display_data"
    },
    {
     "name": "stdout",
     "output_type": "stream",
     "text": [
      "295.24850245094296\n",
      "302.2277868938446\n",
      "296.3124148187637\n",
      "306.3720798304081\n",
      "292.65724965548515\n",
      "300.5409216806889\n"
     ]
    },
    {
     "data": {
      "application/vnd.jupyter.widget-view+json": {
       "model_id": "a151f8cace9846afb1b9205af43cea06",
       "version_major": 2,
       "version_minor": 0
      },
      "text/plain": [
       "15:   0%|          | 0/636 [00:00<?, ?it/s]"
      ]
     },
     "metadata": {},
     "output_type": "display_data"
    },
    {
     "name": "stdout",
     "output_type": "stream",
     "text": [
      "286.01649286961555\n",
      "273.19127810025213\n",
      "275.21582365179063\n",
      "272.5185099883079\n",
      "264.4684952421188\n",
      "270.15462362957\n"
     ]
    },
    {
     "data": {
      "application/vnd.jupyter.widget-view+json": {
       "model_id": "020445b87a4349ceab1c9d663e60db6b",
       "version_major": 2,
       "version_minor": 0
      },
      "text/plain": [
       "16:   0%|          | 0/636 [00:00<?, ?it/s]"
      ]
     },
     "metadata": {},
     "output_type": "display_data"
    },
    {
     "name": "stdout",
     "output_type": "stream",
     "text": [
      "274.674543800354\n",
      "273.4805647006035\n",
      "273.5304085588455\n",
      "274.6312273788452\n",
      "269.54679497909547\n",
      "271.40152424812317\n",
      "254.28403462266922\n"
     ]
    },
    {
     "data": {
      "application/vnd.jupyter.widget-view+json": {
       "model_id": "a18fb39c9f904b2abfa6c294cd0d455c",
       "version_major": 2,
       "version_minor": 0
      },
      "text/plain": [
       "17:   0%|          | 0/636 [00:00<?, ?it/s]"
      ]
     },
     "metadata": {},
     "output_type": "display_data"
    },
    {
     "name": "stdout",
     "output_type": "stream",
     "text": [
      "256.5720604228973\n",
      "256.5449533834457\n",
      "250.27889154624938\n",
      "251.6436562356949\n",
      "239.94927781534196\n",
      "228.93466083288192\n"
     ]
    },
    {
     "data": {
      "application/vnd.jupyter.widget-view+json": {
       "model_id": "c3706881692340b99d0b26c4a67d99d5",
       "version_major": 2,
       "version_minor": 0
      },
      "text/plain": [
       "18:   0%|          | 0/636 [00:00<?, ?it/s]"
      ]
     },
     "metadata": {},
     "output_type": "display_data"
    },
    {
     "name": "stdout",
     "output_type": "stream",
     "text": [
      "217.31648733472824\n",
      "225.29481718111037\n",
      "229.2704967112541\n",
      "247.10721011257172\n",
      "254.13843564271926\n",
      "256.5874415831566\n"
     ]
    },
    {
     "data": {
      "application/vnd.jupyter.widget-view+json": {
       "model_id": "81238a9f13c44fd3ba32baf688ef90fb",
       "version_major": 2,
       "version_minor": 0
      },
      "text/plain": [
       "19:   0%|          | 0/636 [00:00<?, ?it/s]"
      ]
     },
     "metadata": {},
     "output_type": "display_data"
    },
    {
     "name": "stdout",
     "output_type": "stream",
     "text": [
      "238.32416174173355\n",
      "234.67933592176436\n",
      "222.4460612578392\n",
      "218.13723817491532\n",
      "215.16264091348648\n",
      "232.94459238767624\n",
      "218.4038688864708\n"
     ]
    },
    {
     "data": {
      "application/vnd.jupyter.widget-view+json": {
       "model_id": "43927a6c88dc4ac2af9d92db4a6cd60d",
       "version_major": 2,
       "version_minor": 0
      },
      "text/plain": [
       "20:   0%|          | 0/636 [00:00<?, ?it/s]"
      ]
     },
     "metadata": {},
     "output_type": "display_data"
    },
    {
     "name": "stdout",
     "output_type": "stream",
     "text": [
      "214.1691092057228\n",
      "206.4698119125366\n",
      "209.5887928791046\n",
      "198.5673039879799\n",
      "201.14751254034041\n",
      "203.84587555742263\n"
     ]
    },
    {
     "data": {
      "application/vnd.jupyter.widget-view+json": {
       "model_id": "ad9e601e6a594b148ecf114c837c6592",
       "version_major": 2,
       "version_minor": 0
      },
      "text/plain": [
       "21:   0%|          | 0/636 [00:00<?, ?it/s]"
      ]
     },
     "metadata": {},
     "output_type": "display_data"
    },
    {
     "name": "stdout",
     "output_type": "stream",
     "text": [
      "216.1870732522011\n",
      "213.81327119874953\n",
      "216.7676761124134\n",
      "214.59839908909797\n",
      "207.7727592766285\n",
      "196.4156732981205\n"
     ]
    },
    {
     "data": {
      "application/vnd.jupyter.widget-view+json": {
       "model_id": "86e8aa3896974a8e8f68a986b8dd538b",
       "version_major": 2,
       "version_minor": 0
      },
      "text/plain": [
       "22:   0%|          | 0/636 [00:00<?, ?it/s]"
      ]
     },
     "metadata": {},
     "output_type": "display_data"
    },
    {
     "name": "stdout",
     "output_type": "stream",
     "text": [
      "197.39172799515725\n",
      "202.70890477705\n",
      "210.00285050439834\n",
      "210.18597893571854\n",
      "206.18998723340036\n",
      "195.43291278338432\n",
      "189.5738592092991\n"
     ]
    },
    {
     "data": {
      "application/vnd.jupyter.widget-view+json": {
       "model_id": "a6603700cb5c459c8ced56f7f4f0aaf5",
       "version_major": 2,
       "version_minor": 0
      },
      "text/plain": [
       "23:   0%|          | 0/636 [00:00<?, ?it/s]"
      ]
     },
     "metadata": {},
     "output_type": "display_data"
    },
    {
     "name": "stdout",
     "output_type": "stream",
     "text": [
      "176.8119367516041\n",
      "171.5511150753498\n",
      "184.95647310876845\n",
      "192.72140968561172\n",
      "196.04135299634933\n",
      "195.95382388925552\n"
     ]
    },
    {
     "data": {
      "application/vnd.jupyter.widget-view+json": {
       "model_id": "c33132d253af4a8a8d84be452120ee37",
       "version_major": 2,
       "version_minor": 0
      },
      "text/plain": [
       "24:   0%|          | 0/636 [00:00<?, ?it/s]"
      ]
     },
     "metadata": {},
     "output_type": "display_data"
    },
    {
     "name": "stdout",
     "output_type": "stream",
     "text": [
      "197.62307818698883\n",
      "183.65937428569794\n",
      "172.98388768053056\n",
      "163.7426413807869\n",
      "157.87033478975297\n",
      "169.40952990174293\n",
      "171.0909490902424\n"
     ]
    },
    {
     "data": {
      "application/vnd.jupyter.widget-view+json": {
       "model_id": "f7d8fb89877b4762a15a889a66904b2b",
       "version_major": 2,
       "version_minor": 0
      },
      "text/plain": [
       "25:   0%|          | 0/636 [00:00<?, ?it/s]"
      ]
     },
     "metadata": {},
     "output_type": "display_data"
    },
    {
     "name": "stdout",
     "output_type": "stream",
     "text": [
      "174.338489000082\n",
      "174.50925121951104\n",
      "181.6732172973156\n",
      "178.18718667173385\n",
      "178.76886996221543\n",
      "181.99542858314516\n"
     ]
    },
    {
     "data": {
      "application/vnd.jupyter.widget-view+json": {
       "model_id": "a2784eb2ab2e437f89a58e9da4bc8213",
       "version_major": 2,
       "version_minor": 0
      },
      "text/plain": [
       "26:   0%|          | 0/636 [00:00<?, ?it/s]"
      ]
     },
     "metadata": {},
     "output_type": "display_data"
    },
    {
     "name": "stdout",
     "output_type": "stream",
     "text": [
      "177.7282342016697\n",
      "177.39810106635093\n",
      "172.19525255846978\n",
      "170.92013731217384\n",
      "165.37782535767556\n",
      "169.26937961769104\n"
     ]
    },
    {
     "data": {
      "application/vnd.jupyter.widget-view+json": {
       "model_id": "592852b75ac6489cb277a00d68bc73ae",
       "version_major": 2,
       "version_minor": 0
      },
      "text/plain": [
       "27:   0%|          | 0/636 [00:00<?, ?it/s]"
      ]
     },
     "metadata": {},
     "output_type": "display_data"
    },
    {
     "name": "stdout",
     "output_type": "stream",
     "text": [
      "168.17103086328507\n",
      "168.47169118213654\n",
      "165.3688511328697\n",
      "169.94545026254653\n",
      "166.20563169908525\n",
      "163.4823397784233\n",
      "156.1953413915634\n"
     ]
    },
    {
     "data": {
      "application/vnd.jupyter.widget-view+json": {
       "model_id": "7ce67628361b46c1b75574dad6c6e4fd",
       "version_major": 2,
       "version_minor": 0
      },
      "text/plain": [
       "28:   0%|          | 0/636 [00:00<?, ?it/s]"
      ]
     },
     "metadata": {},
     "output_type": "display_data"
    },
    {
     "name": "stdout",
     "output_type": "stream",
     "text": [
      "153.3124957704544\n",
      "146.75790614700318\n",
      "142.19870375728607\n",
      "148.89607761716843\n",
      "143.53654973578452\n",
      "146.37157045054437\n"
     ]
    },
    {
     "data": {
      "application/vnd.jupyter.widget-view+json": {
       "model_id": "0d0ce76f62484ea095b8c3f082cecac3",
       "version_major": 2,
       "version_minor": 0
      },
      "text/plain": [
       "29:   0%|          | 0/636 [00:00<?, ?it/s]"
      ]
     },
     "metadata": {},
     "output_type": "display_data"
    },
    {
     "name": "stdout",
     "output_type": "stream",
     "text": [
      "150.8121412231922\n",
      "150.5927914288044\n",
      "139.2713008248806\n",
      "147.20259350252152\n",
      "145.36976316070556\n",
      "136.80238264226912\n"
     ]
    }
   ],
   "source": [
    "step, loss = 0, []\n",
    "\n",
    "for epoch in range(30):\n",
    "    for data in tqdm(train_loader, desc=str(epoch), leave=False):\n",
    "        # prevtime = datetime.now()\n",
    "\n",
    "        x = data['audio']\n",
    "        \n",
    "        optimizer.zero_grad()\n",
    "        label = x.to(config[\"device\"], torch.float)\n",
    "        \n",
    "        x = encoder(label)\n",
    "        \n",
    "        label_spec = audio_to_spectrogram(label)\n",
    "        \n",
    "        pred = decoder(x)\n",
    "        pred_spec = audio_to_spectrogram(pred)\n",
    "\n",
    "        score = metric(label_spec, pred_spec)\n",
    "        score.backward()\n",
    "        optimizer.step()\n",
    "        \n",
    "        loss.append(score.item())\n",
    "        # print(datetime.now())\n",
    "\n",
    "        # if len(loss) > 2000 and np.median(loss[-2000:-1000]) < np.median(loss[-1000:]):\n",
    "        #     print('Early stop')\n",
    "        #     torch.save(model.state_dict(), \"model.pt\")\n",
    "        #     break\n",
    "\n",
    "        step += 1\n",
    "\n",
    "        if step % 100 == 0: # scheduler\n",
    "            scheduler.step()\n",
    "            \n",
    "            print(np.mean(loss[step - 500:step]))"
   ]
  },
  {
   "cell_type": "code",
   "execution_count": 16,
   "id": "20015017",
   "metadata": {},
   "outputs": [
    {
     "data": {
      "text/plain": [
       "[<matplotlib.lines.Line2D at 0x750b48a56190>]"
      ]
     },
     "execution_count": 16,
     "metadata": {},
     "output_type": "execute_result"
    },
    {
     "data": {
      "image/png": "[encoded data removed]",
      "text/plain": [
       "<Figure size 640x480 with 1 Axes>"
      ]
     },
     "metadata": {},
     "output_type": "display_data"
    }
   ],
   "source": [
    "import matplotlib.pyplot as plt\n",
    "\n",
    "plt.plot(np.arange(len(loss)), loss)"
   ]
  },
  {
   "cell_type": "code",
   "execution_count": 10,
   "id": "0fec0dee",
   "metadata": {},
   "outputs": [],
   "source": [
    "torch.save(model.state_dict(), \"codec_dim_1024.pt\")"
   ]
  },
  {
   "cell_type": "code",
   "execution_count": 11,
   "id": "025761f7",
   "metadata": {},
   "outputs": [
    {
     "data": {
      "text/plain": [
       "<All keys matched successfully>"
      ]
     },
     "execution_count": 11,
     "metadata": {},
     "output_type": "execute_result"
    }
   ],
   "source": [
    "model.load_state_dict(torch.load('codec_dim_1024.pt'))"
   ]
  },
  {
   "cell_type": "code",
   "execution_count": 22,
   "id": "dfd6adc3",
   "metadata": {},
   "outputs": [
    {
     "data": {
      "application/vnd.jupyter.widget-view+json": {
       "model_id": "16315c73e8db49c3b542422fb2526db8",
       "version_major": 2,
       "version_minor": 0
      },
      "text/plain": [
       "  0%|          | 0/631 [00:00<?, ?it/s]"
      ]
     },
     "metadata": {},
     "output_type": "display_data"
    }
   ],
   "source": [
    "buow_ads['test'].set_transform(encode)\n",
    "test_loader = DataLoader(buow_ads['test'], batch_size=8, num_workers=12, shuffle=True, pin_memory=True, pin_memory_device=config['device'])\n",
    "\n",
    "\n",
    "test_losses = []\n",
    "\n",
    "\n",
    "for data in tqdm(test_loader):\n",
    "    x = data['audio']\n",
    "    with torch.no_grad():\n",
    "        label = x.to(config[\"device\"], torch.float)\n",
    "        \n",
    "        x = encoder(label)\n",
    "        \n",
    "        pred = decoder(x)\n",
    "\n",
    "    \n",
    "        test_losses.append(score.item())\n",
    "        break"
   ]
  },
  {
   "cell_type": "code",
   "execution_count": 23,
   "id": "f41b28e2",
   "metadata": {},
   "outputs": [
    {
     "data": {
      "text/plain": [
       "np.float64(0.16119225323200226)"
      ]
     },
     "execution_count": 23,
     "metadata": {},
     "output_type": "execute_result"
    }
   ],
   "source": [
    "np.mean(test_losses)"
   ]
  },
  {
   "cell_type": "code",
   "execution_count": 26,
   "id": "ee7a8f39",
   "metadata": {},
   "outputs": [
    {
     "data": {
      "text/html": [
       "\n",
       "                <audio  controls=\"controls\" >\n",
       "                    <source src=\"data:audio/wav;base64,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\" type=\"audio/wav\" />\n",
       "                    Your browser does not support the audio element.\n",
       "                </audio>\n",
       "              "
      ],
      "text/plain": [
       "<IPython.lib.display.Audio object>"
      ]
     },
     "execution_count": 26,
     "metadata": {},
     "output_type": "execute_result"
    }
   ],
   "source": [
    "from IPython.display import Audio\n",
    "\n",
    "Audio(data=label[6].detach().cpu(), rate=16000)"
   ]
  },
  {
   "cell_type": "code",
   "execution_count": 27,
   "id": "a9fdba33",
   "metadata": {},
   "outputs": [
    {
     "data": {
      "text/html": [
       "\n",
       "                <audio  controls=\"controls\" >\n",
       "                    <source src=\"data:audio/wav;base64,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\" type=\"audio/wav\" />\n",
       "                    Your browser does not support the audio element.\n",
       "                </audio>\n",
       "              "
      ],
      "text/plain": [
       "<IPython.lib.display.Audio object>"
      ]
     },
     "execution_count": 27,
     "metadata": {},
     "output_type": "execute_result"
    }
   ],
   "source": [
    "Audio(data=pred[6].detach().cpu(), rate=16000)"
   ]
  }
 ],
 "metadata": {
  "kernelspec": {
   "display_name": "acoustic-knowledge-discovery (3.11.13)",
   "language": "python",
   "name": "python3"
  },
  "language_info": {
   "codemirror_mode": {
    "name": "ipython",
    "version": 3
   },
   "file_extension": ".py",
   "mimetype": "text/x-python",
   "name": "python",
   "nbconvert_exporter": "python",
   "pygments_lexer": "ipython3",
   "version": "3.11.13"
  }
 },
 "nbformat": 4,
 "nbformat_minor": 5
}
