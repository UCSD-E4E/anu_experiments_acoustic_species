{
 "cells": [
  {
   "cell_type": "code",
   "execution_count": 1,
   "id": "567d09e8",
   "metadata": {},
   "outputs": [],
   "source": [
    "%load_ext autoreload\n",
    "%reload_ext autoreload\n",
    "%autoreload 2"
   ]
  },
  {
   "cell_type": "code",
   "execution_count": 2,
   "id": "c5942a29",
   "metadata": {},
   "outputs": [],
   "source": [
    "from pyha_analyzer import extractors\n",
    "import pandas as pd"
   ]
  },
  {
   "cell_type": "code",
   "execution_count": 3,
   "id": "a19e7b44",
   "metadata": {},
   "outputs": [
    {
     "name": "stdout",
     "output_type": "stream",
     "text": [
      "min size is 15538 from dataset Paola\n",
      "sampling 15538 from (Paola, 0)\n",
      "sampling 15538 from (Paola, 1)\n",
      "sampling 1294 from (Williams_et_al_2024, 0)\n",
      "sampling 1294 from (Williams_et_al_2024, 1)\n",
      "Loaded: 33664 samples\n"
     ]
    },
    {
     "data": {
      "application/vnd.jupyter.widget-view+json": {
       "model_id": "d94d29aff1d0492393bfe26a1d6bb9e1",
       "version_major": 2,
       "version_minor": 0
      },
      "text/plain": [
       "Casting the dataset:   0%|          | 0/23564 [00:00<?, ? examples/s]"
      ]
     },
     "metadata": {},
     "output_type": "display_data"
    },
    {
     "data": {
      "application/vnd.jupyter.widget-view+json": {
       "model_id": "a50d680e722d4d9883b766d7fd94411f",
       "version_major": 2,
       "version_minor": 0
      },
      "text/plain": [
       "Casting the dataset:   0%|          | 0/3030 [00:00<?, ? examples/s]"
      ]
     },
     "metadata": {},
     "output_type": "display_data"
    },
    {
     "data": {
      "application/vnd.jupyter.widget-view+json": {
       "model_id": "7681e53715b14ba399e676ca3157b666",
       "version_major": 2,
       "version_minor": 0
      },
      "text/plain": [
       "Casting the dataset:   0%|          | 0/7070 [00:00<?, ? examples/s]"
      ]
     },
     "metadata": {},
     "output_type": "display_data"
    }
   ],
   "source": [
    "# extract our data\n",
    "coralreef_extractor = extractors.MultiCoralReef()\n",
    "coral_ads = coralreef_extractor('/home/a.jajodia.229/acoustic/local_data/coral')\n",
    "\n",
    "#from pyha_analyzer.preprocessors import MelSpectrogramPreprocessors\n",
    "#converts williams to many spectograms & paola to only one spectogram\n",
    "from pyha_analyzer.preprocessors import MelSpectrogramPreprocessorsNew\n",
    "# TODO: allow for normalization system\n",
    "# preprocessor acts as a function for processing\n",
    "# class allows us to configure parameters and whatnot\n",
    "preprocessor = MelSpectrogramPreprocessorsNew(duration=5, class_list=coral_ads[\"train\"].features[\"labels\"].feature.names)\n",
    "\n",
    "coral_ads[\"test\"].set_transform(preprocessor)\n",
    "\n",
    "data = coral_ads['test'].to_pandas()"
   ]
  },
  {
   "cell_type": "code",
   "execution_count": 4,
   "id": "5875fb6f",
   "metadata": {},
   "outputs": [],
   "source": [
    "data.to_csv('/home/a.jajodia.229/acoustic/acoustic_knowledge_discovery/perch_testing/paola.csv', index=False)"
   ]
  },
  {
   "cell_type": "code",
   "execution_count": 5,
   "id": "b061d2b5",
   "metadata": {},
   "outputs": [
    {
     "data": {
      "application/vnd.microsoft.datawrangler.viewer.v0+json": {
       "columns": [
        {
         "name": "index",
         "rawType": "int64",
         "type": "integer"
        },
        {
         "name": "sample_rate",
         "rawType": "int64",
         "type": "integer"
        },
        {
         "name": "labels",
         "rawType": "object",
         "type": "unknown"
        },
        {
         "name": "filepath",
         "rawType": "object",
         "type": "string"
        },
        {
         "name": "audio",
         "rawType": "object",
         "type": "unknown"
        },
        {
         "name": "audio_in",
         "rawType": "object",
         "type": "unknown"
        },
        {
         "name": "site",
         "rawType": "object",
         "type": "string"
        },
        {
         "name": "dataset",
         "rawType": "object",
         "type": "string"
        }
       ],
       "ref": "0ed1ade1-4555-45b4-bc9a-cfb678490b49",
       "rows": [
        [
         "0",
         "48000",
         "[1 0]",
         "/home/a.jajodia.229/acoustic/local_data/coral/Paola/Degraded_Reef/July 2024/20240723_191200.WAV",
         "{'bytes': None, 'path': '/home/a.jajodia.229/acoustic/local_data/coral/Paola/Degraded_Reef/July 2024/20240723_191200.WAV'}",
         "{'array': '/home/a.jajodia.229/acoustic/local_data/coral/Paola/Degraded_Reef/July 2024/20240723_191200.WAV', 'sampling_rate': 48000}",
         "Degraded_Reef",
         "Williams_et_al_2024"
        ],
        [
         "1",
         "48000",
         "[0 1]",
         "/home/a.jajodia.229/acoustic/local_data/coral/Paola/Non_Degraded_Reef/June 2025/20250624_144120.WAV",
         "{'bytes': None, 'path': '/home/a.jajodia.229/acoustic/local_data/coral/Paola/Non_Degraded_Reef/June 2025/20250624_144120.WAV'}",
         "{'array': '/home/a.jajodia.229/acoustic/local_data/coral/Paola/Non_Degraded_Reef/June 2025/20250624_144120.WAV', 'sampling_rate': 48000}",
         "Non_Degraded_Reef",
         "Williams_et_al_2024"
        ],
        [
         "2",
         "48000",
         "[1 0]",
         "/home/a.jajodia.229/acoustic/local_data/coral/Paola/Degraded_Reef/May 2025/20250322_190300.WAV",
         "{'bytes': None, 'path': '/home/a.jajodia.229/acoustic/local_data/coral/Paola/Degraded_Reef/May 2025/20250322_190300.WAV'}",
         "{'array': '/home/a.jajodia.229/acoustic/local_data/coral/Paola/Degraded_Reef/May 2025/20250322_190300.WAV', 'sampling_rate': 48000}",
         "Degraded_Reef",
         "Williams_et_al_2024"
        ],
        [
         "3",
         "48000",
         "[0 1]",
         "/home/a.jajodia.229/acoustic/local_data/coral/Paola/Non_Degraded_Reef/June 2025/20250625_145520.WAV",
         "{'bytes': None, 'path': '/home/a.jajodia.229/acoustic/local_data/coral/Paola/Non_Degraded_Reef/June 2025/20250625_145520.WAV'}",
         "{'array': '/home/a.jajodia.229/acoustic/local_data/coral/Paola/Non_Degraded_Reef/June 2025/20250625_145520.WAV', 'sampling_rate': 48000}",
         "Non_Degraded_Reef",
         "Williams_et_al_2024"
        ],
        [
         "4",
         "48000",
         "[1 0]",
         "/home/a.jajodia.229/acoustic/local_data/coral/Paola/Degraded_Reef/May 2025/20250320_070403.WAV",
         "{'bytes': None, 'path': '/home/a.jajodia.229/acoustic/local_data/coral/Paola/Degraded_Reef/May 2025/20250320_070403.WAV'}",
         "{'array': '/home/a.jajodia.229/acoustic/local_data/coral/Paola/Degraded_Reef/May 2025/20250320_070403.WAV', 'sampling_rate': 48000}",
         "Degraded_Reef",
         "Williams_et_al_2024"
        ],
        [
         "5",
         "48000",
         "[0 1]",
         "/home/a.jajodia.229/acoustic/local_data/coral/Paola/Non_Degraded_Reef/April 2024/20240310_023000.WAV",
         "{'bytes': None, 'path': '/home/a.jajodia.229/acoustic/local_data/coral/Paola/Non_Degraded_Reef/April 2024/20240310_023000.WAV'}",
         "{'array': '/home/a.jajodia.229/acoustic/local_data/coral/Paola/Non_Degraded_Reef/April 2024/20240310_023000.WAV', 'sampling_rate': 48000}",
         "Non_Degraded_Reef",
         "Williams_et_al_2024"
        ],
        [
         "6",
         "48000",
         "[1 0]",
         "/home/a.jajodia.229/acoustic/local_data/coral/Paola/Degraded_Reef/May 2025/20250319_060000.WAV",
         "{'bytes': None, 'path': '/home/a.jajodia.229/acoustic/local_data/coral/Paola/Degraded_Reef/May 2025/20250319_060000.WAV'}",
         "{'array': '/home/a.jajodia.229/acoustic/local_data/coral/Paola/Degraded_Reef/May 2025/20250319_060000.WAV', 'sampling_rate': 48000}",
         "Degraded_Reef",
         "Williams_et_al_2024"
        ],
        [
         "7",
         "48000",
         "[1 0]",
         "/home/a.jajodia.229/acoustic/local_data/coral/Paola/Degraded_Reef/May 2025/20250320_192600.WAV",
         "{'bytes': None, 'path': '/home/a.jajodia.229/acoustic/local_data/coral/Paola/Degraded_Reef/May 2025/20250320_192600.WAV'}",
         "{'array': '/home/a.jajodia.229/acoustic/local_data/coral/Paola/Degraded_Reef/May 2025/20250320_192600.WAV', 'sampling_rate': 48000}",
         "Degraded_Reef",
         "Williams_et_al_2024"
        ],
        [
         "8",
         "48000",
         "[1 0]",
         "/home/a.jajodia.229/acoustic/local_data/coral/Paola/Degraded_Reef/May 2025/20250317_121100.WAV",
         "{'bytes': None, 'path': '/home/a.jajodia.229/acoustic/local_data/coral/Paola/Degraded_Reef/May 2025/20250317_121100.WAV'}",
         "{'array': '/home/a.jajodia.229/acoustic/local_data/coral/Paola/Degraded_Reef/May 2025/20250317_121100.WAV', 'sampling_rate': 48000}",
         "Degraded_Reef",
         "Williams_et_al_2024"
        ],
        [
         "9",
         "48000",
         "[1 0]",
         "/home/a.jajodia.229/acoustic/local_data/coral/Paola/Degraded_Reef/May 2025/20250319_133600.WAV",
         "{'bytes': None, 'path': '/home/a.jajodia.229/acoustic/local_data/coral/Paola/Degraded_Reef/May 2025/20250319_133600.WAV'}",
         "{'array': '/home/a.jajodia.229/acoustic/local_data/coral/Paola/Degraded_Reef/May 2025/20250319_133600.WAV', 'sampling_rate': 48000}",
         "Degraded_Reef",
         "Williams_et_al_2024"
        ],
        [
         "10",
         "48000",
         "[0 1]",
         "/home/a.jajodia.229/acoustic/local_data/coral/Paola/Non_Degraded_Reef/April 2024/20240306_001800.WAV",
         "{'bytes': None, 'path': '/home/a.jajodia.229/acoustic/local_data/coral/Paola/Non_Degraded_Reef/April 2024/20240306_001800.WAV'}",
         "{'array': '/home/a.jajodia.229/acoustic/local_data/coral/Paola/Non_Degraded_Reef/April 2024/20240306_001800.WAV', 'sampling_rate': 48000}",
         "Non_Degraded_Reef",
         "Williams_et_al_2024"
        ],
        [
         "11",
         "48000",
         "[0 1]",
         "/home/a.jajodia.229/acoustic/local_data/coral/Paola/Non_Degraded_Reef/February_March 2024/20240227_180700.WAV",
         "{'bytes': None, 'path': '/home/a.jajodia.229/acoustic/local_data/coral/Paola/Non_Degraded_Reef/February_March 2024/20240227_180700.WAV'}",
         "{'array': '/home/a.jajodia.229/acoustic/local_data/coral/Paola/Non_Degraded_Reef/February_March 2024/20240227_180700.WAV', 'sampling_rate': 48000}",
         "Non_Degraded_Reef",
         "Williams_et_al_2024"
        ],
        [
         "12",
         "48000",
         "[1 0]",
         "/home/a.jajodia.229/acoustic/local_data/coral/Paola/Degraded_Reef/July 2024/20240717_165000.WAV",
         "{'bytes': None, 'path': '/home/a.jajodia.229/acoustic/local_data/coral/Paola/Degraded_Reef/July 2024/20240717_165000.WAV'}",
         "{'array': '/home/a.jajodia.229/acoustic/local_data/coral/Paola/Degraded_Reef/July 2024/20240717_165000.WAV', 'sampling_rate': 48000}",
         "Degraded_Reef",
         "Williams_et_al_2024"
        ],
        [
         "13",
         "48000",
         "[0 1]",
         "/home/a.jajodia.229/acoustic/local_data/coral/Paola/Non_Degraded_Reef/February_March 2024/20240229_103300.WAV",
         "{'bytes': None, 'path': '/home/a.jajodia.229/acoustic/local_data/coral/Paola/Non_Degraded_Reef/February_March 2024/20240229_103300.WAV'}",
         "{'array': '/home/a.jajodia.229/acoustic/local_data/coral/Paola/Non_Degraded_Reef/February_March 2024/20240229_103300.WAV', 'sampling_rate': 48000}",
         "Non_Degraded_Reef",
         "Williams_et_al_2024"
        ],
        [
         "14",
         "48000",
         "[0 1]",
         "/home/a.jajodia.229/acoustic/local_data/coral/Paola/Non_Degraded_Reef/April 2024/20240307_101900.WAV",
         "{'bytes': None, 'path': '/home/a.jajodia.229/acoustic/local_data/coral/Paola/Non_Degraded_Reef/April 2024/20240307_101900.WAV'}",
         "{'array': '/home/a.jajodia.229/acoustic/local_data/coral/Paola/Non_Degraded_Reef/April 2024/20240307_101900.WAV', 'sampling_rate': 48000}",
         "Non_Degraded_Reef",
         "Williams_et_al_2024"
        ],
        [
         "15",
         "48000",
         "[0 1]",
         "/home/a.jajodia.229/acoustic/local_data/coral/Williams_et_al_2024/Non_Degraded_Reef/BaF5.1732H.671907872.180831.NT1830.wav",
         "{'bytes': None, 'path': '/home/a.jajodia.229/acoustic/local_data/coral/Williams_et_al_2024/Non_Degraded_Reef/BaF5.1732H.671907872.180831.NT1830.wav'}",
         "{'array': '/home/a.jajodia.229/acoustic/local_data/coral/Williams_et_al_2024/Non_Degraded_Reef/BaF5.1732H.671907872.180831.NT1830.wav', 'sampling_rate': 48000}",
         "Non_Degraded_Reef",
         "Williams_et_al_2024"
        ],
        [
         "16",
         "48000",
         "[1 0]",
         "/home/a.jajodia.229/acoustic/local_data/coral/Paola/Degraded_Reef/May 2025/20250316_125600.WAV",
         "{'bytes': None, 'path': '/home/a.jajodia.229/acoustic/local_data/coral/Paola/Degraded_Reef/May 2025/20250316_125600.WAV'}",
         "{'array': '/home/a.jajodia.229/acoustic/local_data/coral/Paola/Degraded_Reef/May 2025/20250316_125600.WAV', 'sampling_rate': 48000}",
         "Degraded_Reef",
         "Williams_et_al_2024"
        ],
        [
         "17",
         "48000",
         "[0 1]",
         "/home/a.jajodia.229/acoustic/local_data/coral/Paola/Non_Degraded_Reef/June 2025/20250623_095119.WAV",
         "{'bytes': None, 'path': '/home/a.jajodia.229/acoustic/local_data/coral/Paola/Non_Degraded_Reef/June 2025/20250623_095119.WAV'}",
         "{'array': '/home/a.jajodia.229/acoustic/local_data/coral/Paola/Non_Degraded_Reef/June 2025/20250623_095119.WAV', 'sampling_rate': 48000}",
         "Non_Degraded_Reef",
         "Williams_et_al_2024"
        ],
        [
         "18",
         "48000",
         "[0 1]",
         "/home/a.jajodia.229/acoustic/local_data/coral/Paola/Non_Degraded_Reef/June 2025/20250619_230018.WAV",
         "{'bytes': None, 'path': '/home/a.jajodia.229/acoustic/local_data/coral/Paola/Non_Degraded_Reef/June 2025/20250619_230018.WAV'}",
         "{'array': '/home/a.jajodia.229/acoustic/local_data/coral/Paola/Non_Degraded_Reef/June 2025/20250619_230018.WAV', 'sampling_rate': 48000}",
         "Non_Degraded_Reef",
         "Williams_et_al_2024"
        ],
        [
         "19",
         "48000",
         "[1 0]",
         "/home/a.jajodia.229/acoustic/local_data/coral/Paola/Degraded_Reef/July 2024/20240722_194200.WAV",
         "{'bytes': None, 'path': '/home/a.jajodia.229/acoustic/local_data/coral/Paola/Degraded_Reef/July 2024/20240722_194200.WAV'}",
         "{'array': '/home/a.jajodia.229/acoustic/local_data/coral/Paola/Degraded_Reef/July 2024/20240722_194200.WAV', 'sampling_rate': 48000}",
         "Degraded_Reef",
         "Williams_et_al_2024"
        ],
        [
         "20",
         "48000",
         "[0 1]",
         "/home/a.jajodia.229/acoustic/local_data/coral/Paola/Non_Degraded_Reef/June 2025/20250627_213533.WAV",
         "{'bytes': None, 'path': '/home/a.jajodia.229/acoustic/local_data/coral/Paola/Non_Degraded_Reef/June 2025/20250627_213533.WAV'}",
         "{'array': '/home/a.jajodia.229/acoustic/local_data/coral/Paola/Non_Degraded_Reef/June 2025/20250627_213533.WAV', 'sampling_rate': 48000}",
         "Non_Degraded_Reef",
         "Williams_et_al_2024"
        ],
        [
         "21",
         "48000",
         "[0 1]",
         "/home/a.jajodia.229/acoustic/local_data/coral/Paola/Non_Degraded_Reef/February_March 2024/20240229_225000.WAV",
         "{'bytes': None, 'path': '/home/a.jajodia.229/acoustic/local_data/coral/Paola/Non_Degraded_Reef/February_March 2024/20240229_225000.WAV'}",
         "{'array': '/home/a.jajodia.229/acoustic/local_data/coral/Paola/Non_Degraded_Reef/February_March 2024/20240229_225000.WAV', 'sampling_rate': 48000}",
         "Non_Degraded_Reef",
         "Williams_et_al_2024"
        ],
        [
         "22",
         "48000",
         "[0 1]",
         "/home/a.jajodia.229/acoustic/local_data/coral/Paola/Non_Degraded_Reef/June 2025/20250621_162520.WAV",
         "{'bytes': None, 'path': '/home/a.jajodia.229/acoustic/local_data/coral/Paola/Non_Degraded_Reef/June 2025/20250621_162520.WAV'}",
         "{'array': '/home/a.jajodia.229/acoustic/local_data/coral/Paola/Non_Degraded_Reef/June 2025/20250621_162520.WAV', 'sampling_rate': 48000}",
         "Non_Degraded_Reef",
         "Williams_et_al_2024"
        ],
        [
         "23",
         "48000",
         "[1 0]",
         "/home/a.jajodia.229/acoustic/local_data/coral/Paola/Degraded_Reef/May 2025/20250321_144300.WAV",
         "{'bytes': None, 'path': '/home/a.jajodia.229/acoustic/local_data/coral/Paola/Degraded_Reef/May 2025/20250321_144300.WAV'}",
         "{'array': '/home/a.jajodia.229/acoustic/local_data/coral/Paola/Degraded_Reef/May 2025/20250321_144300.WAV', 'sampling_rate': 48000}",
         "Degraded_Reef",
         "Williams_et_al_2024"
        ],
        [
         "24",
         "48000",
         "[0 1]",
         "/home/a.jajodia.229/acoustic/local_data/coral/Paola/Non_Degraded_Reef/June 2025/20250620_191118.WAV",
         "{'bytes': None, 'path': '/home/a.jajodia.229/acoustic/local_data/coral/Paola/Non_Degraded_Reef/June 2025/20250620_191118.WAV'}",
         "{'array': '/home/a.jajodia.229/acoustic/local_data/coral/Paola/Non_Degraded_Reef/June 2025/20250620_191118.WAV', 'sampling_rate': 48000}",
         "Non_Degraded_Reef",
         "Williams_et_al_2024"
        ],
        [
         "25",
         "48000",
         "[0 1]",
         "/home/a.jajodia.229/acoustic/local_data/coral/Paola/Non_Degraded_Reef/April 2024/20240306_175700.WAV",
         "{'bytes': None, 'path': '/home/a.jajodia.229/acoustic/local_data/coral/Paola/Non_Degraded_Reef/April 2024/20240306_175700.WAV'}",
         "{'array': '/home/a.jajodia.229/acoustic/local_data/coral/Paola/Non_Degraded_Reef/April 2024/20240306_175700.WAV', 'sampling_rate': 48000}",
         "Non_Degraded_Reef",
         "Williams_et_al_2024"
        ],
        [
         "26",
         "48000",
         "[1 0]",
         "/home/a.jajodia.229/acoustic/local_data/coral/Paola/Degraded_Reef/July 2024/20240722_183400.WAV",
         "{'bytes': None, 'path': '/home/a.jajodia.229/acoustic/local_data/coral/Paola/Degraded_Reef/July 2024/20240722_183400.WAV'}",
         "{'array': '/home/a.jajodia.229/acoustic/local_data/coral/Paola/Degraded_Reef/July 2024/20240722_183400.WAV', 'sampling_rate': 48000}",
         "Degraded_Reef",
         "Williams_et_al_2024"
        ],
        [
         "27",
         "48000",
         "[0 1]",
         "/home/a.jajodia.229/acoustic/local_data/coral/Paola/Non_Degraded_Reef/February_March 2024/20240228_024400.WAV",
         "{'bytes': None, 'path': '/home/a.jajodia.229/acoustic/local_data/coral/Paola/Non_Degraded_Reef/February_March 2024/20240228_024400.WAV'}",
         "{'array': '/home/a.jajodia.229/acoustic/local_data/coral/Paola/Non_Degraded_Reef/February_March 2024/20240228_024400.WAV', 'sampling_rate': 48000}",
         "Non_Degraded_Reef",
         "Williams_et_al_2024"
        ],
        [
         "28",
         "48000",
         "[0 1]",
         "/home/a.jajodia.229/acoustic/local_data/coral/Paola/Non_Degraded_Reef/February_March 2024/20240228_080700.WAV",
         "{'bytes': None, 'path': '/home/a.jajodia.229/acoustic/local_data/coral/Paola/Non_Degraded_Reef/February_March 2024/20240228_080700.WAV'}",
         "{'array': '/home/a.jajodia.229/acoustic/local_data/coral/Paola/Non_Degraded_Reef/February_March 2024/20240228_080700.WAV', 'sampling_rate': 48000}",
         "Non_Degraded_Reef",
         "Williams_et_al_2024"
        ],
        [
         "29",
         "48000",
         "[1 0]",
         "/home/a.jajodia.229/acoustic/local_data/coral/Paola/Degraded_Reef/May 2025/20250320_234000.WAV",
         "{'bytes': None, 'path': '/home/a.jajodia.229/acoustic/local_data/coral/Paola/Degraded_Reef/May 2025/20250320_234000.WAV'}",
         "{'array': '/home/a.jajodia.229/acoustic/local_data/coral/Paola/Degraded_Reef/May 2025/20250320_234000.WAV', 'sampling_rate': 48000}",
         "Degraded_Reef",
         "Williams_et_al_2024"
        ],
        [
         "30",
         "48000",
         "[1 0]",
         "/home/a.jajodia.229/acoustic/local_data/coral/Paola/Degraded_Reef/May 2025/20250318_100400.WAV",
         "{'bytes': None, 'path': '/home/a.jajodia.229/acoustic/local_data/coral/Paola/Degraded_Reef/May 2025/20250318_100400.WAV'}",
         "{'array': '/home/a.jajodia.229/acoustic/local_data/coral/Paola/Degraded_Reef/May 2025/20250318_100400.WAV', 'sampling_rate': 48000}",
         "Degraded_Reef",
         "Williams_et_al_2024"
        ],
        [
         "31",
         "48000",
         "[0 1]",
         "/home/a.jajodia.229/acoustic/local_data/coral/Paola/Non_Degraded_Reef/June 2025/20250620_075918.WAV",
         "{'bytes': None, 'path': '/home/a.jajodia.229/acoustic/local_data/coral/Paola/Non_Degraded_Reef/June 2025/20250620_075918.WAV'}",
         "{'array': '/home/a.jajodia.229/acoustic/local_data/coral/Paola/Non_Degraded_Reef/June 2025/20250620_075918.WAV', 'sampling_rate': 48000}",
         "Non_Degraded_Reef",
         "Williams_et_al_2024"
        ],
        [
         "32",
         "48000",
         "[1 0]",
         "/home/a.jajodia.229/acoustic/local_data/coral/Paola/Degraded_Reef/May 2025/20250320_061500.WAV",
         "{'bytes': None, 'path': '/home/a.jajodia.229/acoustic/local_data/coral/Paola/Degraded_Reef/May 2025/20250320_061500.WAV'}",
         "{'array': '/home/a.jajodia.229/acoustic/local_data/coral/Paola/Degraded_Reef/May 2025/20250320_061500.WAV', 'sampling_rate': 48000}",
         "Degraded_Reef",
         "Williams_et_al_2024"
        ],
        [
         "33",
         "48000",
         "[1 0]",
         "/home/a.jajodia.229/acoustic/local_data/coral/Paola/Degraded_Reef/May 2025/20250321_175305.WAV",
         "{'bytes': None, 'path': '/home/a.jajodia.229/acoustic/local_data/coral/Paola/Degraded_Reef/May 2025/20250321_175305.WAV'}",
         "{'array': '/home/a.jajodia.229/acoustic/local_data/coral/Paola/Degraded_Reef/May 2025/20250321_175305.WAV', 'sampling_rate': 48000}",
         "Degraded_Reef",
         "Williams_et_al_2024"
        ],
        [
         "34",
         "48000",
         "[1 0]",
         "/home/a.jajodia.229/acoustic/local_data/coral/Paola/Degraded_Reef/July 2024/20240723_080400.WAV",
         "{'bytes': None, 'path': '/home/a.jajodia.229/acoustic/local_data/coral/Paola/Degraded_Reef/July 2024/20240723_080400.WAV'}",
         "{'array': '/home/a.jajodia.229/acoustic/local_data/coral/Paola/Degraded_Reef/July 2024/20240723_080400.WAV', 'sampling_rate': 48000}",
         "Degraded_Reef",
         "Williams_et_al_2024"
        ],
        [
         "35",
         "48000",
         "[1 0]",
         "/home/a.jajodia.229/acoustic/local_data/coral/Paola/Degraded_Reef/May 2025/20250316_145100.WAV",
         "{'bytes': None, 'path': '/home/a.jajodia.229/acoustic/local_data/coral/Paola/Degraded_Reef/May 2025/20250316_145100.WAV'}",
         "{'array': '/home/a.jajodia.229/acoustic/local_data/coral/Paola/Degraded_Reef/May 2025/20250316_145100.WAV', 'sampling_rate': 48000}",
         "Degraded_Reef",
         "Williams_et_al_2024"
        ],
        [
         "36",
         "48000",
         "[0 1]",
         "/home/a.jajodia.229/acoustic/local_data/coral/Paola/Non_Degraded_Reef/June 2025/20250624_154820.WAV",
         "{'bytes': None, 'path': '/home/a.jajodia.229/acoustic/local_data/coral/Paola/Non_Degraded_Reef/June 2025/20250624_154820.WAV'}",
         "{'array': '/home/a.jajodia.229/acoustic/local_data/coral/Paola/Non_Degraded_Reef/June 2025/20250624_154820.WAV', 'sampling_rate': 48000}",
         "Non_Degraded_Reef",
         "Williams_et_al_2024"
        ],
        [
         "37",
         "48000",
         "[0 1]",
         "/home/a.jajodia.229/acoustic/local_data/coral/Paola/Non_Degraded_Reef/April 2024/20240306_074600.WAV",
         "{'bytes': None, 'path': '/home/a.jajodia.229/acoustic/local_data/coral/Paola/Non_Degraded_Reef/April 2024/20240306_074600.WAV'}",
         "{'array': '/home/a.jajodia.229/acoustic/local_data/coral/Paola/Non_Degraded_Reef/April 2024/20240306_074600.WAV', 'sampling_rate': 48000}",
         "Non_Degraded_Reef",
         "Williams_et_al_2024"
        ],
        [
         "38",
         "48000",
         "[0 1]",
         "/home/a.jajodia.229/acoustic/local_data/coral/Paola/Non_Degraded_Reef/June 2025/20250624_114620.WAV",
         "{'bytes': None, 'path': '/home/a.jajodia.229/acoustic/local_data/coral/Paola/Non_Degraded_Reef/June 2025/20250624_114620.WAV'}",
         "{'array': '/home/a.jajodia.229/acoustic/local_data/coral/Paola/Non_Degraded_Reef/June 2025/20250624_114620.WAV', 'sampling_rate': 48000}",
         "Non_Degraded_Reef",
         "Williams_et_al_2024"
        ],
        [
         "39",
         "48000",
         "[1 0]",
         "/home/a.jajodia.229/acoustic/local_data/coral/Paola/Degraded_Reef/May 2025/20250321_151000.WAV",
         "{'bytes': None, 'path': '/home/a.jajodia.229/acoustic/local_data/coral/Paola/Degraded_Reef/May 2025/20250321_151000.WAV'}",
         "{'array': '/home/a.jajodia.229/acoustic/local_data/coral/Paola/Degraded_Reef/May 2025/20250321_151000.WAV', 'sampling_rate': 48000}",
         "Degraded_Reef",
         "Williams_et_al_2024"
        ],
        [
         "40",
         "48000",
         "[0 1]",
         "/home/a.jajodia.229/acoustic/local_data/coral/Williams_et_al_2024/Non_Degraded_Reef/BoN10.1731H.1678278701.180905.NT1732.wav",
         "{'bytes': None, 'path': '/home/a.jajodia.229/acoustic/local_data/coral/Williams_et_al_2024/Non_Degraded_Reef/BoN10.1731H.1678278701.180905.NT1732.wav'}",
         "{'array': '/home/a.jajodia.229/acoustic/local_data/coral/Williams_et_al_2024/Non_Degraded_Reef/BoN10.1731H.1678278701.180905.NT1732.wav', 'sampling_rate': 48000}",
         "Non_Degraded_Reef",
         "Williams_et_al_2024"
        ],
        [
         "41",
         "48000",
         "[0 1]",
         "/home/a.jajodia.229/acoustic/local_data/coral/Paola/Non_Degraded_Reef/April 2024/20240307_081800.WAV",
         "{'bytes': None, 'path': '/home/a.jajodia.229/acoustic/local_data/coral/Paola/Non_Degraded_Reef/April 2024/20240307_081800.WAV'}",
         "{'array': '/home/a.jajodia.229/acoustic/local_data/coral/Paola/Non_Degraded_Reef/April 2024/20240307_081800.WAV', 'sampling_rate': 48000}",
         "Non_Degraded_Reef",
         "Williams_et_al_2024"
        ],
        [
         "42",
         "48000",
         "[0 1]",
         "/home/a.jajodia.229/acoustic/local_data/coral/Paola/Non_Degraded_Reef/June 2025/20250622_130420.WAV",
         "{'bytes': None, 'path': '/home/a.jajodia.229/acoustic/local_data/coral/Paola/Non_Degraded_Reef/June 2025/20250622_130420.WAV'}",
         "{'array': '/home/a.jajodia.229/acoustic/local_data/coral/Paola/Non_Degraded_Reef/June 2025/20250622_130420.WAV', 'sampling_rate': 48000}",
         "Non_Degraded_Reef",
         "Williams_et_al_2024"
        ],
        [
         "43",
         "48000",
         "[0 1]",
         "/home/a.jajodia.229/acoustic/local_data/coral/Paola/Non_Degraded_Reef/June 2025/20250627_063824.WAV",
         "{'bytes': None, 'path': '/home/a.jajodia.229/acoustic/local_data/coral/Paola/Non_Degraded_Reef/June 2025/20250627_063824.WAV'}",
         "{'array': '/home/a.jajodia.229/acoustic/local_data/coral/Paola/Non_Degraded_Reef/June 2025/20250627_063824.WAV', 'sampling_rate': 48000}",
         "Non_Degraded_Reef",
         "Williams_et_al_2024"
        ],
        [
         "44",
         "48000",
         "[0 1]",
         "/home/a.jajodia.229/acoustic/local_data/coral/Paola/Non_Degraded_Reef/June 2025/20250624_200520.WAV",
         "{'bytes': None, 'path': '/home/a.jajodia.229/acoustic/local_data/coral/Paola/Non_Degraded_Reef/June 2025/20250624_200520.WAV'}",
         "{'array': '/home/a.jajodia.229/acoustic/local_data/coral/Paola/Non_Degraded_Reef/June 2025/20250624_200520.WAV', 'sampling_rate': 48000}",
         "Non_Degraded_Reef",
         "Williams_et_al_2024"
        ],
        [
         "45",
         "48000",
         "[0 1]",
         "/home/a.jajodia.229/acoustic/local_data/coral/Paola/Non_Degraded_Reef/June 2025/20250625_072720.WAV",
         "{'bytes': None, 'path': '/home/a.jajodia.229/acoustic/local_data/coral/Paola/Non_Degraded_Reef/June 2025/20250625_072720.WAV'}",
         "{'array': '/home/a.jajodia.229/acoustic/local_data/coral/Paola/Non_Degraded_Reef/June 2025/20250625_072720.WAV', 'sampling_rate': 48000}",
         "Non_Degraded_Reef",
         "Williams_et_al_2024"
        ],
        [
         "46",
         "48000",
         "[0 1]",
         "/home/a.jajodia.229/acoustic/local_data/coral/Paola/Non_Degraded_Reef/June 2025/20250621_102218.WAV",
         "{'bytes': None, 'path': '/home/a.jajodia.229/acoustic/local_data/coral/Paola/Non_Degraded_Reef/June 2025/20250621_102218.WAV'}",
         "{'array': '/home/a.jajodia.229/acoustic/local_data/coral/Paola/Non_Degraded_Reef/June 2025/20250621_102218.WAV', 'sampling_rate': 48000}",
         "Non_Degraded_Reef",
         "Williams_et_al_2024"
        ],
        [
         "47",
         "48000",
         "[0 1]",
         "/home/a.jajodia.229/acoustic/local_data/coral/Paola/Non_Degraded_Reef/April 2024/20240309_200700.WAV",
         "{'bytes': None, 'path': '/home/a.jajodia.229/acoustic/local_data/coral/Paola/Non_Degraded_Reef/April 2024/20240309_200700.WAV'}",
         "{'array': '/home/a.jajodia.229/acoustic/local_data/coral/Paola/Non_Degraded_Reef/April 2024/20240309_200700.WAV', 'sampling_rate': 48000}",
         "Non_Degraded_Reef",
         "Williams_et_al_2024"
        ],
        [
         "48",
         "48000",
         "[1 0]",
         "/home/a.jajodia.229/acoustic/local_data/coral/Paola/Degraded_Reef/July 2024/20240718_130600.WAV",
         "{'bytes': None, 'path': '/home/a.jajodia.229/acoustic/local_data/coral/Paola/Degraded_Reef/July 2024/20240718_130600.WAV'}",
         "{'array': '/home/a.jajodia.229/acoustic/local_data/coral/Paola/Degraded_Reef/July 2024/20240718_130600.WAV', 'sampling_rate': 48000}",
         "Degraded_Reef",
         "Williams_et_al_2024"
        ],
        [
         "49",
         "48000",
         "[1 0]",
         "/home/a.jajodia.229/acoustic/local_data/coral/Paola/Degraded_Reef/May 2025/20250316_234201.WAV",
         "{'bytes': None, 'path': '/home/a.jajodia.229/acoustic/local_data/coral/Paola/Degraded_Reef/May 2025/20250316_234201.WAV'}",
         "{'array': '/home/a.jajodia.229/acoustic/local_data/coral/Paola/Degraded_Reef/May 2025/20250316_234201.WAV', 'sampling_rate': 48000}",
         "Degraded_Reef",
         "Williams_et_al_2024"
        ]
       ],
       "shape": {
        "columns": 7,
        "rows": 7070
       }
      },
      "text/html": [
       "<div>\n",
       "<style scoped>\n",
       "    .dataframe tbody tr th:only-of-type {\n",
       "        vertical-align: middle;\n",
       "    }\n",
       "\n",
       "    .dataframe tbody tr th {\n",
       "        vertical-align: top;\n",
       "    }\n",
       "\n",
       "    .dataframe thead th {\n",
       "        text-align: right;\n",
       "    }\n",
       "</style>\n",
       "<table border=\"1\" class=\"dataframe\">\n",
       "  <thead>\n",
       "    <tr style=\"text-align: right;\">\n",
       "      <th></th>\n",
       "      <th>sample_rate</th>\n",
       "      <th>labels</th>\n",
       "      <th>filepath</th>\n",
       "      <th>audio</th>\n",
       "      <th>audio_in</th>\n",
       "      <th>site</th>\n",
       "      <th>dataset</th>\n",
       "    </tr>\n",
       "  </thead>\n",
       "  <tbody>\n",
       "    <tr>\n",
       "      <th>0</th>\n",
       "      <td>48000</td>\n",
       "      <td>[1, 0]</td>\n",
       "      <td>/home/a.jajodia.229/acoustic/local_data/coral/...</td>\n",
       "      <td>{'bytes': None, 'path': '/home/a.jajodia.229/a...</td>\n",
       "      <td>{'array': '/home/a.jajodia.229/acoustic/local_...</td>\n",
       "      <td>Degraded_Reef</td>\n",
       "      <td>Williams_et_al_2024</td>\n",
       "    </tr>\n",
       "    <tr>\n",
       "      <th>1</th>\n",
       "      <td>48000</td>\n",
       "      <td>[0, 1]</td>\n",
       "      <td>/home/a.jajodia.229/acoustic/local_data/coral/...</td>\n",
       "      <td>{'bytes': None, 'path': '/home/a.jajodia.229/a...</td>\n",
       "      <td>{'array': '/home/a.jajodia.229/acoustic/local_...</td>\n",
       "      <td>Non_Degraded_Reef</td>\n",
       "      <td>Williams_et_al_2024</td>\n",
       "    </tr>\n",
       "    <tr>\n",
       "      <th>2</th>\n",
       "      <td>48000</td>\n",
       "      <td>[1, 0]</td>\n",
       "      <td>/home/a.jajodia.229/acoustic/local_data/coral/...</td>\n",
       "      <td>{'bytes': None, 'path': '/home/a.jajodia.229/a...</td>\n",
       "      <td>{'array': '/home/a.jajodia.229/acoustic/local_...</td>\n",
       "      <td>Degraded_Reef</td>\n",
       "      <td>Williams_et_al_2024</td>\n",
       "    </tr>\n",
       "    <tr>\n",
       "      <th>3</th>\n",
       "      <td>48000</td>\n",
       "      <td>[0, 1]</td>\n",
       "      <td>/home/a.jajodia.229/acoustic/local_data/coral/...</td>\n",
       "      <td>{'bytes': None, 'path': '/home/a.jajodia.229/a...</td>\n",
       "      <td>{'array': '/home/a.jajodia.229/acoustic/local_...</td>\n",
       "      <td>Non_Degraded_Reef</td>\n",
       "      <td>Williams_et_al_2024</td>\n",
       "    </tr>\n",
       "    <tr>\n",
       "      <th>4</th>\n",
       "      <td>48000</td>\n",
       "      <td>[1, 0]</td>\n",
       "      <td>/home/a.jajodia.229/acoustic/local_data/coral/...</td>\n",
       "      <td>{'bytes': None, 'path': '/home/a.jajodia.229/a...</td>\n",
       "      <td>{'array': '/home/a.jajodia.229/acoustic/local_...</td>\n",
       "      <td>Degraded_Reef</td>\n",
       "      <td>Williams_et_al_2024</td>\n",
       "    </tr>\n",
       "    <tr>\n",
       "      <th>...</th>\n",
       "      <td>...</td>\n",
       "      <td>...</td>\n",
       "      <td>...</td>\n",
       "      <td>...</td>\n",
       "      <td>...</td>\n",
       "      <td>...</td>\n",
       "      <td>...</td>\n",
       "    </tr>\n",
       "    <tr>\n",
       "      <th>7065</th>\n",
       "      <td>48000</td>\n",
       "      <td>[1, 0]</td>\n",
       "      <td>/home/a.jajodia.229/acoustic/local_data/coral/...</td>\n",
       "      <td>{'bytes': None, 'path': '/home/a.jajodia.229/a...</td>\n",
       "      <td>{'array': '/home/a.jajodia.229/acoustic/local_...</td>\n",
       "      <td>Degraded_Reef</td>\n",
       "      <td>Williams_et_al_2024</td>\n",
       "    </tr>\n",
       "    <tr>\n",
       "      <th>7066</th>\n",
       "      <td>48000</td>\n",
       "      <td>[0, 1]</td>\n",
       "      <td>/home/a.jajodia.229/acoustic/local_data/coral/...</td>\n",
       "      <td>{'bytes': None, 'path': '/home/a.jajodia.229/a...</td>\n",
       "      <td>{'array': '/home/a.jajodia.229/acoustic/local_...</td>\n",
       "      <td>Non_Degraded_Reef</td>\n",
       "      <td>Williams_et_al_2024</td>\n",
       "    </tr>\n",
       "    <tr>\n",
       "      <th>7067</th>\n",
       "      <td>48000</td>\n",
       "      <td>[1, 0]</td>\n",
       "      <td>/home/a.jajodia.229/acoustic/local_data/coral/...</td>\n",
       "      <td>{'bytes': None, 'path': '/home/a.jajodia.229/a...</td>\n",
       "      <td>{'array': '/home/a.jajodia.229/acoustic/local_...</td>\n",
       "      <td>Degraded_Reef</td>\n",
       "      <td>Williams_et_al_2024</td>\n",
       "    </tr>\n",
       "    <tr>\n",
       "      <th>7068</th>\n",
       "      <td>48000</td>\n",
       "      <td>[1, 0]</td>\n",
       "      <td>/home/a.jajodia.229/acoustic/local_data/coral/...</td>\n",
       "      <td>{'bytes': None, 'path': '/home/a.jajodia.229/a...</td>\n",
       "      <td>{'array': '/home/a.jajodia.229/acoustic/local_...</td>\n",
       "      <td>Degraded_Reef</td>\n",
       "      <td>Williams_et_al_2024</td>\n",
       "    </tr>\n",
       "    <tr>\n",
       "      <th>7069</th>\n",
       "      <td>48000</td>\n",
       "      <td>[1, 0]</td>\n",
       "      <td>/home/a.jajodia.229/acoustic/local_data/coral/...</td>\n",
       "      <td>{'bytes': None, 'path': '/home/a.jajodia.229/a...</td>\n",
       "      <td>{'array': '/home/a.jajodia.229/acoustic/local_...</td>\n",
       "      <td>Degraded_Reef</td>\n",
       "      <td>Williams_et_al_2024</td>\n",
       "    </tr>\n",
       "  </tbody>\n",
       "</table>\n",
       "<p>7070 rows × 7 columns</p>\n",
       "</div>"
      ],
      "text/plain": [
       "      sample_rate  labels                                           filepath  \\\n",
       "0           48000  [1, 0]  /home/a.jajodia.229/acoustic/local_data/coral/...   \n",
       "1           48000  [0, 1]  /home/a.jajodia.229/acoustic/local_data/coral/...   \n",
       "2           48000  [1, 0]  /home/a.jajodia.229/acoustic/local_data/coral/...   \n",
       "3           48000  [0, 1]  /home/a.jajodia.229/acoustic/local_data/coral/...   \n",
       "4           48000  [1, 0]  /home/a.jajodia.229/acoustic/local_data/coral/...   \n",
       "...           ...     ...                                                ...   \n",
       "7065        48000  [1, 0]  /home/a.jajodia.229/acoustic/local_data/coral/...   \n",
       "7066        48000  [0, 1]  /home/a.jajodia.229/acoustic/local_data/coral/...   \n",
       "7067        48000  [1, 0]  /home/a.jajodia.229/acoustic/local_data/coral/...   \n",
       "7068        48000  [1, 0]  /home/a.jajodia.229/acoustic/local_data/coral/...   \n",
       "7069        48000  [1, 0]  /home/a.jajodia.229/acoustic/local_data/coral/...   \n",
       "\n",
       "                                                  audio  \\\n",
       "0     {'bytes': None, 'path': '/home/a.jajodia.229/a...   \n",
       "1     {'bytes': None, 'path': '/home/a.jajodia.229/a...   \n",
       "2     {'bytes': None, 'path': '/home/a.jajodia.229/a...   \n",
       "3     {'bytes': None, 'path': '/home/a.jajodia.229/a...   \n",
       "4     {'bytes': None, 'path': '/home/a.jajodia.229/a...   \n",
       "...                                                 ...   \n",
       "7065  {'bytes': None, 'path': '/home/a.jajodia.229/a...   \n",
       "7066  {'bytes': None, 'path': '/home/a.jajodia.229/a...   \n",
       "7067  {'bytes': None, 'path': '/home/a.jajodia.229/a...   \n",
       "7068  {'bytes': None, 'path': '/home/a.jajodia.229/a...   \n",
       "7069  {'bytes': None, 'path': '/home/a.jajodia.229/a...   \n",
       "\n",
       "                                               audio_in               site  \\\n",
       "0     {'array': '/home/a.jajodia.229/acoustic/local_...      Degraded_Reef   \n",
       "1     {'array': '/home/a.jajodia.229/acoustic/local_...  Non_Degraded_Reef   \n",
       "2     {'array': '/home/a.jajodia.229/acoustic/local_...      Degraded_Reef   \n",
       "3     {'array': '/home/a.jajodia.229/acoustic/local_...  Non_Degraded_Reef   \n",
       "4     {'array': '/home/a.jajodia.229/acoustic/local_...      Degraded_Reef   \n",
       "...                                                 ...                ...   \n",
       "7065  {'array': '/home/a.jajodia.229/acoustic/local_...      Degraded_Reef   \n",
       "7066  {'array': '/home/a.jajodia.229/acoustic/local_...  Non_Degraded_Reef   \n",
       "7067  {'array': '/home/a.jajodia.229/acoustic/local_...      Degraded_Reef   \n",
       "7068  {'array': '/home/a.jajodia.229/acoustic/local_...      Degraded_Reef   \n",
       "7069  {'array': '/home/a.jajodia.229/acoustic/local_...      Degraded_Reef   \n",
       "\n",
       "                  dataset  \n",
       "0     Williams_et_al_2024  \n",
       "1     Williams_et_al_2024  \n",
       "2     Williams_et_al_2024  \n",
       "3     Williams_et_al_2024  \n",
       "4     Williams_et_al_2024  \n",
       "...                   ...  \n",
       "7065  Williams_et_al_2024  \n",
       "7066  Williams_et_al_2024  \n",
       "7067  Williams_et_al_2024  \n",
       "7068  Williams_et_al_2024  \n",
       "7069  Williams_et_al_2024  \n",
       "\n",
       "[7070 rows x 7 columns]"
      ]
     },
     "execution_count": 5,
     "metadata": {},
     "output_type": "execute_result"
    }
   ],
   "source": [
    "data"
   ]
  },
  {
   "cell_type": "code",
   "execution_count": 6,
   "id": "8d80971d",
   "metadata": {},
   "outputs": [
    {
     "data": {
      "application/vnd.microsoft.datawrangler.viewer.v0+json": {
       "columns": [
        {
         "name": "labels",
         "rawType": "object",
         "type": "unknown"
        },
        {
         "name": "count",
         "rawType": "int64",
         "type": "integer"
        }
       ],
       "ref": "072efcc1-c62f-49f3-8d90-82223e5afe3f",
       "rows": [
        [
         "[1 0]",
         "1"
        ],
        [
         "[1 0]",
         "1"
        ],
        [
         "[0 1]",
         "1"
        ],
        [
         "[1 0]",
         "1"
        ],
        [
         "[0 1]",
         "1"
        ],
        [
         "[1 0]",
         "1"
        ],
        [
         "[0 1]",
         "1"
        ],
        [
         "[1 0]",
         "1"
        ],
        [
         "[1 0]",
         "1"
        ],
        [
         "[1 0]",
         "1"
        ],
        [
         "[1 0]",
         "1"
        ],
        [
         "[0 1]",
         "1"
        ],
        [
         "[0 1]",
         "1"
        ],
        [
         "[1 0]",
         "1"
        ],
        [
         "[1 0]",
         "1"
        ],
        [
         "[1 0]",
         "1"
        ],
        [
         "[0 1]",
         "1"
        ],
        [
         "[0 1]",
         "1"
        ],
        [
         "[0 1]",
         "1"
        ],
        [
         "[1 0]",
         "1"
        ],
        [
         "[1 0]",
         "1"
        ],
        [
         "[1 0]",
         "1"
        ],
        [
         "[0 1]",
         "1"
        ],
        [
         "[1 0]",
         "1"
        ],
        [
         "[0 1]",
         "1"
        ],
        [
         "[1 0]",
         "1"
        ],
        [
         "[0 1]",
         "1"
        ],
        [
         "[0 1]",
         "1"
        ],
        [
         "[1 0]",
         "1"
        ],
        [
         "[1 0]",
         "1"
        ],
        [
         "[0 1]",
         "1"
        ],
        [
         "[0 1]",
         "1"
        ],
        [
         "[0 1]",
         "1"
        ],
        [
         "[0 1]",
         "1"
        ],
        [
         "[0 1]",
         "1"
        ],
        [
         "[0 1]",
         "1"
        ],
        [
         "[1 0]",
         "1"
        ],
        [
         "[0 1]",
         "1"
        ],
        [
         "[0 1]",
         "1"
        ],
        [
         "[0 1]",
         "1"
        ],
        [
         "[1 0]",
         "1"
        ],
        [
         "[1 0]",
         "1"
        ],
        [
         "[1 0]",
         "1"
        ],
        [
         "[1 0]",
         "1"
        ],
        [
         "[0 1]",
         "1"
        ],
        [
         "[1 0]",
         "1"
        ],
        [
         "[0 1]",
         "1"
        ],
        [
         "[1 0]",
         "1"
        ],
        [
         "[0 1]",
         "1"
        ],
        [
         "[0 1]",
         "1"
        ]
       ],
       "shape": {
        "columns": 1,
        "rows": 7070
       }
      },
      "text/plain": [
       "labels\n",
       "[1, 0]    1\n",
       "[1, 0]    1\n",
       "[0, 1]    1\n",
       "[1, 0]    1\n",
       "[0, 1]    1\n",
       "         ..\n",
       "[0, 1]    1\n",
       "[0, 1]    1\n",
       "[1, 0]    1\n",
       "[0, 1]    1\n",
       "[0, 1]    1\n",
       "Name: count, Length: 7070, dtype: int64"
      ]
     },
     "execution_count": 6,
     "metadata": {},
     "output_type": "execute_result"
    }
   ],
   "source": [
    "data['labels'].value_counts()"
   ]
  }
 ],
 "metadata": {
  "kernelspec": {
   "display_name": "acoustic-knowledge-discovery (3.11.13)",
   "language": "python",
   "name": "python3"
  },
  "language_info": {
   "codemirror_mode": {
    "name": "ipython",
    "version": 3
   },
   "file_extension": ".py",
   "mimetype": "text/x-python",
   "name": "python",
   "nbconvert_exporter": "python",
   "pygments_lexer": "ipython3",
   "version": "3.11.13"
  }
 },
 "nbformat": 4,
 "nbformat_minor": 5
}
