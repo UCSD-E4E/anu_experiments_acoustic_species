{
 "cells": [
  {
   "cell_type": "code",
   "execution_count": 1,
   "id": "c5942a29",
   "metadata": {},
   "outputs": [],
   "source": [
    "from pyha_analyzer import extractors\n",
    "import pandas as pd"
   ]
  },
  {
   "cell_type": "code",
   "execution_count": 2,
   "id": "a19e7b44",
   "metadata": {},
   "outputs": [
    {
     "name": "stdout",
     "output_type": "stream",
     "text": [
      "19524 22597 15538\n",
      "Loaded: 34330 samples\n",
      "  Paola Non-Degraded: 15538\n",
      "  Paola Degraded:     15538\n",
      "  Williams Non-Degraded: 1627\n",
      "  Williams Degraded:     1627\n",
      "\n",
      "  Paola Total: 31076\n",
      "  Williams Total: 3254\n",
      "  Non-degraded total: 17165\n",
      "  Degraded total: 17165\n"
     ]
    },
    {
     "data": {
      "application/vnd.jupyter.widget-view+json": {
       "model_id": "fa9fb7def3b74179bf7b7d3471d121fc",
       "version_major": 2,
       "version_minor": 0
      },
      "text/plain": [
       "Casting to class labels:   0%|          | 0/34330 [00:00<?, ? examples/s]"
      ]
     },
     "metadata": {},
     "output_type": "display_data"
    },
    {
     "data": {
      "application/vnd.jupyter.widget-view+json": {
       "model_id": "f25e79780739420c89b82d40788c2d7a",
       "version_major": 2,
       "version_minor": 0
      },
      "text/plain": [
       "Casting the dataset:   0%|          | 0/24031 [00:00<?, ? examples/s]"
      ]
     },
     "metadata": {},
     "output_type": "display_data"
    },
    {
     "data": {
      "application/vnd.jupyter.widget-view+json": {
       "model_id": "8a825c817dba4ffab406b9be2c32971c",
       "version_major": 2,
       "version_minor": 0
      },
      "text/plain": [
       "Casting the dataset:   0%|          | 0/3089 [00:00<?, ? examples/s]"
      ]
     },
     "metadata": {},
     "output_type": "display_data"
    },
    {
     "data": {
      "application/vnd.jupyter.widget-view+json": {
       "model_id": "b1818fa6305e4850a9d975831b5907e9",
       "version_major": 2,
       "version_minor": 0
      },
      "text/plain": [
       "Casting the dataset:   0%|          | 0/7210 [00:00<?, ? examples/s]"
      ]
     },
     "metadata": {},
     "output_type": "display_data"
    }
   ],
   "source": [
    "# extract our data\n",
    "coralreef_extractor = extractors.MultiCoralReef()\n",
    "coral_ads = coralreef_extractor('/home/a.jajodia.229/acoustic/local_data/coral')\n",
    "\n",
    "data = coral_ads['test'].to_pandas()"
   ]
  },
  {
   "cell_type": "code",
   "execution_count": 3,
   "id": "6f603d56",
   "metadata": {},
   "outputs": [
    {
     "data": {
      "text/plain": [
       "19524"
      ]
     },
     "execution_count": 3,
     "metadata": {},
     "output_type": "execute_result"
    }
   ],
   "source": [
    "1627*12"
   ]
  },
  {
   "cell_type": "code",
   "execution_count": 4,
   "id": "146e9191",
   "metadata": {},
   "outputs": [
    {
     "data": {
      "text/plain": [
       "39048"
      ]
     },
     "execution_count": 4,
     "metadata": {},
     "output_type": "execute_result"
    }
   ],
   "source": [
    "3254*12"
   ]
  },
  {
   "cell_type": "code",
   "execution_count": 5,
   "id": "5875fb6f",
   "metadata": {},
   "outputs": [],
   "source": [
    "data.to_csv('/home/a.jajodia.229/acoustic/acoustic_knowledge_discovery/perch_testing/paola.csv', index=False)"
   ]
  },
  {
   "cell_type": "code",
   "execution_count": 6,
   "id": "b061d2b5",
   "metadata": {},
   "outputs": [
    {
     "data": {
      "application/vnd.microsoft.datawrangler.viewer.v0+json": {
       "columns": [
        {
         "name": "index",
         "rawType": "int64",
         "type": "integer"
        },
        {
         "name": "sample_rate",
         "rawType": "int64",
         "type": "integer"
        },
        {
         "name": "labels",
         "rawType": "object",
         "type": "unknown"
        },
        {
         "name": "filepath",
         "rawType": "object",
         "type": "string"
        },
        {
         "name": "audio",
         "rawType": "object",
         "type": "unknown"
        },
        {
         "name": "audio_in",
         "rawType": "object",
         "type": "unknown"
        },
        {
         "name": "site",
         "rawType": "int64",
         "type": "integer"
        },
        {
         "name": "dataset",
         "rawType": "object",
         "type": "string"
        }
       ],
       "ref": "056d1297-7228-4726-9040-f62f99d41dce",
       "rows": [
        [
         "0",
         "48000",
         "[0 1]",
         "/home/a.jajodia.229/acoustic/local_data/coral/Paola/Non_Degraded_Reef/June 2025/20250620_083618.WAV",
         "{'bytes': None, 'path': '/home/a.jajodia.229/acoustic/local_data/coral/Paola/Non_Degraded_Reef/June 2025/20250620_083618.WAV'}",
         "{'array': '/home/a.jajodia.229/acoustic/local_data/coral/Paola/Non_Degraded_Reef/June 2025/20250620_083618.WAV', 'sampling_rate': 48000}",
         "1",
         "Williams_et_al_2024"
        ],
        [
         "1",
         "48000",
         "[1 0]",
         "/home/a.jajodia.229/acoustic/local_data/coral/Paola/Degraded_Reef/May 2025/20250317_115500.WAV",
         "{'bytes': None, 'path': '/home/a.jajodia.229/acoustic/local_data/coral/Paola/Degraded_Reef/May 2025/20250317_115500.WAV'}",
         "{'array': '/home/a.jajodia.229/acoustic/local_data/coral/Paola/Degraded_Reef/May 2025/20250317_115500.WAV', 'sampling_rate': 48000}",
         "0",
         "Williams_et_al_2024"
        ],
        [
         "2",
         "48000",
         "[1 0]",
         "/home/a.jajodia.229/acoustic/local_data/coral/Paola/Degraded_Reef/July 2024/20240721_120000.WAV",
         "{'bytes': None, 'path': '/home/a.jajodia.229/acoustic/local_data/coral/Paola/Degraded_Reef/July 2024/20240721_120000.WAV'}",
         "{'array': '/home/a.jajodia.229/acoustic/local_data/coral/Paola/Degraded_Reef/July 2024/20240721_120000.WAV', 'sampling_rate': 48000}",
         "0",
         "Williams_et_al_2024"
        ],
        [
         "3",
         "48000",
         "[0 1]",
         "/home/a.jajodia.229/acoustic/local_data/coral/Paola/Non_Degraded_Reef/April 2024/20240309_132900.WAV",
         "{'bytes': None, 'path': '/home/a.jajodia.229/acoustic/local_data/coral/Paola/Non_Degraded_Reef/April 2024/20240309_132900.WAV'}",
         "{'array': '/home/a.jajodia.229/acoustic/local_data/coral/Paola/Non_Degraded_Reef/April 2024/20240309_132900.WAV', 'sampling_rate': 48000}",
         "1",
         "Williams_et_al_2024"
        ],
        [
         "4",
         "48000",
         "[1 0]",
         "/home/a.jajodia.229/acoustic/local_data/coral/Paola/Degraded_Reef/May 2025/20250321_221300.WAV",
         "{'bytes': None, 'path': '/home/a.jajodia.229/acoustic/local_data/coral/Paola/Degraded_Reef/May 2025/20250321_221300.WAV'}",
         "{'array': '/home/a.jajodia.229/acoustic/local_data/coral/Paola/Degraded_Reef/May 2025/20250321_221300.WAV', 'sampling_rate': 48000}",
         "0",
         "Williams_et_al_2024"
        ],
        [
         "5",
         "48000",
         "[0 1]",
         "/home/a.jajodia.229/acoustic/local_data/coral/Paola/Non_Degraded_Reef/April 2024/20240307_224500.WAV",
         "{'bytes': None, 'path': '/home/a.jajodia.229/acoustic/local_data/coral/Paola/Non_Degraded_Reef/April 2024/20240307_224500.WAV'}",
         "{'array': '/home/a.jajodia.229/acoustic/local_data/coral/Paola/Non_Degraded_Reef/April 2024/20240307_224500.WAV', 'sampling_rate': 48000}",
         "1",
         "Williams_et_al_2024"
        ],
        [
         "6",
         "48000",
         "[1 0]",
         "/home/a.jajodia.229/acoustic/local_data/coral/Paola/Degraded_Reef/July 2024/20240717_083600.WAV",
         "{'bytes': None, 'path': '/home/a.jajodia.229/acoustic/local_data/coral/Paola/Degraded_Reef/July 2024/20240717_083600.WAV'}",
         "{'array': '/home/a.jajodia.229/acoustic/local_data/coral/Paola/Degraded_Reef/July 2024/20240717_083600.WAV', 'sampling_rate': 48000}",
         "0",
         "Williams_et_al_2024"
        ],
        [
         "7",
         "48000",
         "[1 0]",
         "/home/a.jajodia.229/acoustic/local_data/coral/Paola/Degraded_Reef/May 2025/20250314_113000.WAV",
         "{'bytes': None, 'path': '/home/a.jajodia.229/acoustic/local_data/coral/Paola/Degraded_Reef/May 2025/20250314_113000.WAV'}",
         "{'array': '/home/a.jajodia.229/acoustic/local_data/coral/Paola/Degraded_Reef/May 2025/20250314_113000.WAV', 'sampling_rate': 48000}",
         "0",
         "Williams_et_al_2024"
        ],
        [
         "8",
         "48000",
         "[1 0]",
         "/home/a.jajodia.229/acoustic/local_data/coral/Williams_et_al_2024/Degraded_Reef/SaF2.1112D.1678278701.180828.NT1121.wav",
         "{'bytes': None, 'path': '/home/a.jajodia.229/acoustic/local_data/coral/Williams_et_al_2024/Degraded_Reef/SaF2.1112D.1678278701.180828.NT1121.wav'}",
         "{'array': '/home/a.jajodia.229/acoustic/local_data/coral/Williams_et_al_2024/Degraded_Reef/SaF2.1112D.1678278701.180828.NT1121.wav', 'sampling_rate': 48000}",
         "0",
         "Williams_et_al_2024"
        ],
        [
         "9",
         "48000",
         "[1 0]",
         "/home/a.jajodia.229/acoustic/local_data/coral/Paola/Degraded_Reef/May 2025/20250314_092900.WAV",
         "{'bytes': None, 'path': '/home/a.jajodia.229/acoustic/local_data/coral/Paola/Degraded_Reef/May 2025/20250314_092900.WAV'}",
         "{'array': '/home/a.jajodia.229/acoustic/local_data/coral/Paola/Degraded_Reef/May 2025/20250314_092900.WAV', 'sampling_rate': 48000}",
         "0",
         "Williams_et_al_2024"
        ],
        [
         "10",
         "48000",
         "[1 0]",
         "/home/a.jajodia.229/acoustic/local_data/coral/Paola/Degraded_Reef/May 2025/20250317_104800.WAV",
         "{'bytes': None, 'path': '/home/a.jajodia.229/acoustic/local_data/coral/Paola/Degraded_Reef/May 2025/20250317_104800.WAV'}",
         "{'array': '/home/a.jajodia.229/acoustic/local_data/coral/Paola/Degraded_Reef/May 2025/20250317_104800.WAV', 'sampling_rate': 48000}",
         "0",
         "Williams_et_al_2024"
        ],
        [
         "11",
         "48000",
         "[1 0]",
         "/home/a.jajodia.229/acoustic/local_data/coral/Paola/Degraded_Reef/July 2024/20240722_135800.WAV",
         "{'bytes': None, 'path': '/home/a.jajodia.229/acoustic/local_data/coral/Paola/Degraded_Reef/July 2024/20240722_135800.WAV'}",
         "{'array': '/home/a.jajodia.229/acoustic/local_data/coral/Paola/Degraded_Reef/July 2024/20240722_135800.WAV', 'sampling_rate': 48000}",
         "0",
         "Williams_et_al_2024"
        ],
        [
         "12",
         "48000",
         "[0 1]",
         "/home/a.jajodia.229/acoustic/local_data/coral/Paola/Non_Degraded_Reef/June 2025/20250624_220520.WAV",
         "{'bytes': None, 'path': '/home/a.jajodia.229/acoustic/local_data/coral/Paola/Non_Degraded_Reef/June 2025/20250624_220520.WAV'}",
         "{'array': '/home/a.jajodia.229/acoustic/local_data/coral/Paola/Non_Degraded_Reef/June 2025/20250624_220520.WAV', 'sampling_rate': 48000}",
         "1",
         "Williams_et_al_2024"
        ],
        [
         "13",
         "48000",
         "[1 0]",
         "/home/a.jajodia.229/acoustic/local_data/coral/Paola/Degraded_Reef/July 2024/20240725_073200.WAV",
         "{'bytes': None, 'path': '/home/a.jajodia.229/acoustic/local_data/coral/Paola/Degraded_Reef/July 2024/20240725_073200.WAV'}",
         "{'array': '/home/a.jajodia.229/acoustic/local_data/coral/Paola/Degraded_Reef/July 2024/20240725_073200.WAV', 'sampling_rate': 48000}",
         "0",
         "Williams_et_al_2024"
        ],
        [
         "14",
         "48000",
         "[1 0]",
         "/home/a.jajodia.229/acoustic/local_data/coral/Paola/Degraded_Reef/July 2024/20240717_054400.WAV",
         "{'bytes': None, 'path': '/home/a.jajodia.229/acoustic/local_data/coral/Paola/Degraded_Reef/July 2024/20240717_054400.WAV'}",
         "{'array': '/home/a.jajodia.229/acoustic/local_data/coral/Paola/Degraded_Reef/July 2024/20240717_054400.WAV', 'sampling_rate': 48000}",
         "0",
         "Williams_et_al_2024"
        ],
        [
         "15",
         "48000",
         "[1 0]",
         "/home/a.jajodia.229/acoustic/local_data/coral/Paola/Degraded_Reef/May 2025/20250316_193100.WAV",
         "{'bytes': None, 'path': '/home/a.jajodia.229/acoustic/local_data/coral/Paola/Degraded_Reef/May 2025/20250316_193100.WAV'}",
         "{'array': '/home/a.jajodia.229/acoustic/local_data/coral/Paola/Degraded_Reef/May 2025/20250316_193100.WAV', 'sampling_rate': 48000}",
         "0",
         "Williams_et_al_2024"
        ],
        [
         "16",
         "48000",
         "[0 1]",
         "/home/a.jajodia.229/acoustic/local_data/coral/Paola/Non_Degraded_Reef/June 2025/20250621_163019.WAV",
         "{'bytes': None, 'path': '/home/a.jajodia.229/acoustic/local_data/coral/Paola/Non_Degraded_Reef/June 2025/20250621_163019.WAV'}",
         "{'array': '/home/a.jajodia.229/acoustic/local_data/coral/Paola/Non_Degraded_Reef/June 2025/20250621_163019.WAV', 'sampling_rate': 48000}",
         "1",
         "Williams_et_al_2024"
        ],
        [
         "17",
         "48000",
         "[1 0]",
         "/home/a.jajodia.229/acoustic/local_data/coral/Paola/Degraded_Reef/May 2025/20250316_072400.WAV",
         "{'bytes': None, 'path': '/home/a.jajodia.229/acoustic/local_data/coral/Paola/Degraded_Reef/May 2025/20250316_072400.WAV'}",
         "{'array': '/home/a.jajodia.229/acoustic/local_data/coral/Paola/Degraded_Reef/May 2025/20250316_072400.WAV', 'sampling_rate': 48000}",
         "0",
         "Williams_et_al_2024"
        ],
        [
         "18",
         "48000",
         "[1 0]",
         "/home/a.jajodia.229/acoustic/local_data/coral/Paola/Degraded_Reef/July 2024/20240722_182600.WAV",
         "{'bytes': None, 'path': '/home/a.jajodia.229/acoustic/local_data/coral/Paola/Degraded_Reef/July 2024/20240722_182600.WAV'}",
         "{'array': '/home/a.jajodia.229/acoustic/local_data/coral/Paola/Degraded_Reef/July 2024/20240722_182600.WAV', 'sampling_rate': 48000}",
         "0",
         "Williams_et_al_2024"
        ],
        [
         "19",
         "48000",
         "[0 1]",
         "/home/a.jajodia.229/acoustic/local_data/coral/Paola/Non_Degraded_Reef/June 2025/20250624_203521.WAV",
         "{'bytes': None, 'path': '/home/a.jajodia.229/acoustic/local_data/coral/Paola/Non_Degraded_Reef/June 2025/20250624_203521.WAV'}",
         "{'array': '/home/a.jajodia.229/acoustic/local_data/coral/Paola/Non_Degraded_Reef/June 2025/20250624_203521.WAV', 'sampling_rate': 48000}",
         "1",
         "Williams_et_al_2024"
        ],
        [
         "20",
         "48000",
         "[1 0]",
         "/home/a.jajodia.229/acoustic/local_data/coral/Paola/Degraded_Reef/May 2025/20250318_223100.WAV",
         "{'bytes': None, 'path': '/home/a.jajodia.229/acoustic/local_data/coral/Paola/Degraded_Reef/May 2025/20250318_223100.WAV'}",
         "{'array': '/home/a.jajodia.229/acoustic/local_data/coral/Paola/Degraded_Reef/May 2025/20250318_223100.WAV', 'sampling_rate': 48000}",
         "0",
         "Williams_et_al_2024"
        ],
        [
         "21",
         "48000",
         "[0 1]",
         "/home/a.jajodia.229/acoustic/local_data/coral/Paola/Non_Degraded_Reef/June 2025/20250625_153516.WAV",
         "{'bytes': None, 'path': '/home/a.jajodia.229/acoustic/local_data/coral/Paola/Non_Degraded_Reef/June 2025/20250625_153516.WAV'}",
         "{'array': '/home/a.jajodia.229/acoustic/local_data/coral/Paola/Non_Degraded_Reef/June 2025/20250625_153516.WAV', 'sampling_rate': 48000}",
         "1",
         "Williams_et_al_2024"
        ],
        [
         "22",
         "48000",
         "[0 1]",
         "/home/a.jajodia.229/acoustic/local_data/coral/Paola/Non_Degraded_Reef/April 2024/20240310_124000.WAV",
         "{'bytes': None, 'path': '/home/a.jajodia.229/acoustic/local_data/coral/Paola/Non_Degraded_Reef/April 2024/20240310_124000.WAV'}",
         "{'array': '/home/a.jajodia.229/acoustic/local_data/coral/Paola/Non_Degraded_Reef/April 2024/20240310_124000.WAV', 'sampling_rate': 48000}",
         "1",
         "Williams_et_al_2024"
        ],
        [
         "23",
         "48000",
         "[1 0]",
         "/home/a.jajodia.229/acoustic/local_data/coral/Paola/Degraded_Reef/May 2025/20250318_090700.WAV",
         "{'bytes': None, 'path': '/home/a.jajodia.229/acoustic/local_data/coral/Paola/Degraded_Reef/May 2025/20250318_090700.WAV'}",
         "{'array': '/home/a.jajodia.229/acoustic/local_data/coral/Paola/Degraded_Reef/May 2025/20250318_090700.WAV', 'sampling_rate': 48000}",
         "0",
         "Williams_et_al_2024"
        ],
        [
         "24",
         "48000",
         "[0 1]",
         "/home/a.jajodia.229/acoustic/local_data/coral/Williams_et_al_2024/Non_Degraded_Reef/BoF1.1328H.1678278701.180827.NT1341.wav",
         "{'bytes': None, 'path': '/home/a.jajodia.229/acoustic/local_data/coral/Williams_et_al_2024/Non_Degraded_Reef/BoF1.1328H.1678278701.180827.NT1341.wav'}",
         "{'array': '/home/a.jajodia.229/acoustic/local_data/coral/Williams_et_al_2024/Non_Degraded_Reef/BoF1.1328H.1678278701.180827.NT1341.wav', 'sampling_rate': 48000}",
         "1",
         "Williams_et_al_2024"
        ],
        [
         "25",
         "48000",
         "[0 1]",
         "/home/a.jajodia.229/acoustic/local_data/coral/Paola/Non_Degraded_Reef/June 2025/20250625_194920.WAV",
         "{'bytes': None, 'path': '/home/a.jajodia.229/acoustic/local_data/coral/Paola/Non_Degraded_Reef/June 2025/20250625_194920.WAV'}",
         "{'array': '/home/a.jajodia.229/acoustic/local_data/coral/Paola/Non_Degraded_Reef/June 2025/20250625_194920.WAV', 'sampling_rate': 48000}",
         "1",
         "Williams_et_al_2024"
        ],
        [
         "26",
         "48000",
         "[1 0]",
         "/home/a.jajodia.229/acoustic/local_data/coral/Paola/Degraded_Reef/July 2024/20240717_085200.WAV",
         "{'bytes': None, 'path': '/home/a.jajodia.229/acoustic/local_data/coral/Paola/Degraded_Reef/July 2024/20240717_085200.WAV'}",
         "{'array': '/home/a.jajodia.229/acoustic/local_data/coral/Paola/Degraded_Reef/July 2024/20240717_085200.WAV', 'sampling_rate': 48000}",
         "0",
         "Williams_et_al_2024"
        ],
        [
         "27",
         "48000",
         "[0 1]",
         "/home/a.jajodia.229/acoustic/local_data/coral/Paola/Non_Degraded_Reef/June 2025/20250626_211520.WAV",
         "{'bytes': None, 'path': '/home/a.jajodia.229/acoustic/local_data/coral/Paola/Non_Degraded_Reef/June 2025/20250626_211520.WAV'}",
         "{'array': '/home/a.jajodia.229/acoustic/local_data/coral/Paola/Non_Degraded_Reef/June 2025/20250626_211520.WAV', 'sampling_rate': 48000}",
         "1",
         "Williams_et_al_2024"
        ],
        [
         "28",
         "48000",
         "[1 0]",
         "/home/a.jajodia.229/acoustic/local_data/coral/Paola/Degraded_Reef/May 2025/20250317_153800.WAV",
         "{'bytes': None, 'path': '/home/a.jajodia.229/acoustic/local_data/coral/Paola/Degraded_Reef/May 2025/20250317_153800.WAV'}",
         "{'array': '/home/a.jajodia.229/acoustic/local_data/coral/Paola/Degraded_Reef/May 2025/20250317_153800.WAV', 'sampling_rate': 48000}",
         "0",
         "Williams_et_al_2024"
        ],
        [
         "29",
         "48000",
         "[1 0]",
         "/home/a.jajodia.229/acoustic/local_data/coral/Paola/Degraded_Reef/May 2025/20250316_132900.WAV",
         "{'bytes': None, 'path': '/home/a.jajodia.229/acoustic/local_data/coral/Paola/Degraded_Reef/May 2025/20250316_132900.WAV'}",
         "{'array': '/home/a.jajodia.229/acoustic/local_data/coral/Paola/Degraded_Reef/May 2025/20250316_132900.WAV', 'sampling_rate': 48000}",
         "0",
         "Williams_et_al_2024"
        ],
        [
         "30",
         "48000",
         "[0 1]",
         "/home/a.jajodia.229/acoustic/local_data/coral/Paola/Non_Degraded_Reef/April 2024/20240309_211600.WAV",
         "{'bytes': None, 'path': '/home/a.jajodia.229/acoustic/local_data/coral/Paola/Non_Degraded_Reef/April 2024/20240309_211600.WAV'}",
         "{'array': '/home/a.jajodia.229/acoustic/local_data/coral/Paola/Non_Degraded_Reef/April 2024/20240309_211600.WAV', 'sampling_rate': 48000}",
         "1",
         "Williams_et_al_2024"
        ],
        [
         "31",
         "48000",
         "[0 1]",
         "/home/a.jajodia.229/acoustic/local_data/coral/Paola/Non_Degraded_Reef/February_March 2024/20240226_202900.WAV",
         "{'bytes': None, 'path': '/home/a.jajodia.229/acoustic/local_data/coral/Paola/Non_Degraded_Reef/February_March 2024/20240226_202900.WAV'}",
         "{'array': '/home/a.jajodia.229/acoustic/local_data/coral/Paola/Non_Degraded_Reef/February_March 2024/20240226_202900.WAV', 'sampling_rate': 48000}",
         "1",
         "Williams_et_al_2024"
        ],
        [
         "32",
         "48000",
         "[1 0]",
         "/home/a.jajodia.229/acoustic/local_data/coral/Paola/Degraded_Reef/May 2025/20250320_070500.WAV",
         "{'bytes': None, 'path': '/home/a.jajodia.229/acoustic/local_data/coral/Paola/Degraded_Reef/May 2025/20250320_070500.WAV'}",
         "{'array': '/home/a.jajodia.229/acoustic/local_data/coral/Paola/Degraded_Reef/May 2025/20250320_070500.WAV', 'sampling_rate': 48000}",
         "0",
         "Williams_et_al_2024"
        ],
        [
         "33",
         "48000",
         "[0 1]",
         "/home/a.jajodia.229/acoustic/local_data/coral/Paola/Non_Degraded_Reef/February_March 2024/20240226_220700.WAV",
         "{'bytes': None, 'path': '/home/a.jajodia.229/acoustic/local_data/coral/Paola/Non_Degraded_Reef/February_March 2024/20240226_220700.WAV'}",
         "{'array': '/home/a.jajodia.229/acoustic/local_data/coral/Paola/Non_Degraded_Reef/February_March 2024/20240226_220700.WAV', 'sampling_rate': 48000}",
         "1",
         "Williams_et_al_2024"
        ],
        [
         "34",
         "48000",
         "[1 0]",
         "/home/a.jajodia.229/acoustic/local_data/coral/Paola/Degraded_Reef/May 2025/20250319_154000.WAV",
         "{'bytes': None, 'path': '/home/a.jajodia.229/acoustic/local_data/coral/Paola/Degraded_Reef/May 2025/20250319_154000.WAV'}",
         "{'array': '/home/a.jajodia.229/acoustic/local_data/coral/Paola/Degraded_Reef/May 2025/20250319_154000.WAV', 'sampling_rate': 48000}",
         "0",
         "Williams_et_al_2024"
        ],
        [
         "35",
         "48000",
         "[0 1]",
         "/home/a.jajodia.229/acoustic/local_data/coral/Paola/Non_Degraded_Reef/June 2025/20250621_204319.WAV",
         "{'bytes': None, 'path': '/home/a.jajodia.229/acoustic/local_data/coral/Paola/Non_Degraded_Reef/June 2025/20250621_204319.WAV'}",
         "{'array': '/home/a.jajodia.229/acoustic/local_data/coral/Paola/Non_Degraded_Reef/June 2025/20250621_204319.WAV', 'sampling_rate': 48000}",
         "1",
         "Williams_et_al_2024"
        ],
        [
         "36",
         "48000",
         "[1 0]",
         "/home/a.jajodia.229/acoustic/local_data/coral/Paola/Degraded_Reef/July 2024/20240720_183400.WAV",
         "{'bytes': None, 'path': '/home/a.jajodia.229/acoustic/local_data/coral/Paola/Degraded_Reef/July 2024/20240720_183400.WAV'}",
         "{'array': '/home/a.jajodia.229/acoustic/local_data/coral/Paola/Degraded_Reef/July 2024/20240720_183400.WAV', 'sampling_rate': 48000}",
         "0",
         "Williams_et_al_2024"
        ],
        [
         "37",
         "48000",
         "[1 0]",
         "/home/a.jajodia.229/acoustic/local_data/coral/Paola/Degraded_Reef/May 2025/20250317_232100.WAV",
         "{'bytes': None, 'path': '/home/a.jajodia.229/acoustic/local_data/coral/Paola/Degraded_Reef/May 2025/20250317_232100.WAV'}",
         "{'array': '/home/a.jajodia.229/acoustic/local_data/coral/Paola/Degraded_Reef/May 2025/20250317_232100.WAV', 'sampling_rate': 48000}",
         "0",
         "Williams_et_al_2024"
        ],
        [
         "38",
         "48000",
         "[1 0]",
         "/home/a.jajodia.229/acoustic/local_data/coral/Paola/Degraded_Reef/May 2025/20250322_171500.WAV",
         "{'bytes': None, 'path': '/home/a.jajodia.229/acoustic/local_data/coral/Paola/Degraded_Reef/May 2025/20250322_171500.WAV'}",
         "{'array': '/home/a.jajodia.229/acoustic/local_data/coral/Paola/Degraded_Reef/May 2025/20250322_171500.WAV', 'sampling_rate': 48000}",
         "0",
         "Williams_et_al_2024"
        ],
        [
         "39",
         "48000",
         "[1 0]",
         "/home/a.jajodia.229/acoustic/local_data/coral/Paola/Degraded_Reef/May 2025/20250320_084900.WAV",
         "{'bytes': None, 'path': '/home/a.jajodia.229/acoustic/local_data/coral/Paola/Degraded_Reef/May 2025/20250320_084900.WAV'}",
         "{'array': '/home/a.jajodia.229/acoustic/local_data/coral/Paola/Degraded_Reef/May 2025/20250320_084900.WAV', 'sampling_rate': 48000}",
         "0",
         "Williams_et_al_2024"
        ],
        [
         "40",
         "48000",
         "[0 1]",
         "/home/a.jajodia.229/acoustic/local_data/coral/Paola/Non_Degraded_Reef/February_March 2024/20240226_230900.WAV",
         "{'bytes': None, 'path': '/home/a.jajodia.229/acoustic/local_data/coral/Paola/Non_Degraded_Reef/February_March 2024/20240226_230900.WAV'}",
         "{'array': '/home/a.jajodia.229/acoustic/local_data/coral/Paola/Non_Degraded_Reef/February_March 2024/20240226_230900.WAV', 'sampling_rate': 48000}",
         "1",
         "Williams_et_al_2024"
        ],
        [
         "41",
         "48000",
         "[0 1]",
         "/home/a.jajodia.229/acoustic/local_data/coral/Paola/Non_Degraded_Reef/June 2025/20250625_111220.WAV",
         "{'bytes': None, 'path': '/home/a.jajodia.229/acoustic/local_data/coral/Paola/Non_Degraded_Reef/June 2025/20250625_111220.WAV'}",
         "{'array': '/home/a.jajodia.229/acoustic/local_data/coral/Paola/Non_Degraded_Reef/June 2025/20250625_111220.WAV', 'sampling_rate': 48000}",
         "1",
         "Williams_et_al_2024"
        ],
        [
         "42",
         "48000",
         "[1 0]",
         "/home/a.jajodia.229/acoustic/local_data/coral/Paola/Degraded_Reef/July 2024/20240722_192200.WAV",
         "{'bytes': None, 'path': '/home/a.jajodia.229/acoustic/local_data/coral/Paola/Degraded_Reef/July 2024/20240722_192200.WAV'}",
         "{'array': '/home/a.jajodia.229/acoustic/local_data/coral/Paola/Degraded_Reef/July 2024/20240722_192200.WAV', 'sampling_rate': 48000}",
         "0",
         "Williams_et_al_2024"
        ],
        [
         "43",
         "48000",
         "[1 0]",
         "/home/a.jajodia.229/acoustic/local_data/coral/Paola/Degraded_Reef/May 2025/20250320_142700.WAV",
         "{'bytes': None, 'path': '/home/a.jajodia.229/acoustic/local_data/coral/Paola/Degraded_Reef/May 2025/20250320_142700.WAV'}",
         "{'array': '/home/a.jajodia.229/acoustic/local_data/coral/Paola/Degraded_Reef/May 2025/20250320_142700.WAV', 'sampling_rate': 48000}",
         "0",
         "Williams_et_al_2024"
        ],
        [
         "44",
         "48000",
         "[0 1]",
         "/home/a.jajodia.229/acoustic/local_data/coral/Paola/Non_Degraded_Reef/February_March 2024/20240228_223000.WAV",
         "{'bytes': None, 'path': '/home/a.jajodia.229/acoustic/local_data/coral/Paola/Non_Degraded_Reef/February_March 2024/20240228_223000.WAV'}",
         "{'array': '/home/a.jajodia.229/acoustic/local_data/coral/Paola/Non_Degraded_Reef/February_March 2024/20240228_223000.WAV', 'sampling_rate': 48000}",
         "1",
         "Williams_et_al_2024"
        ],
        [
         "45",
         "48000",
         "[1 0]",
         "/home/a.jajodia.229/acoustic/local_data/coral/Paola/Degraded_Reef/May 2025/20250320_111900.WAV",
         "{'bytes': None, 'path': '/home/a.jajodia.229/acoustic/local_data/coral/Paola/Degraded_Reef/May 2025/20250320_111900.WAV'}",
         "{'array': '/home/a.jajodia.229/acoustic/local_data/coral/Paola/Degraded_Reef/May 2025/20250320_111900.WAV', 'sampling_rate': 48000}",
         "0",
         "Williams_et_al_2024"
        ],
        [
         "46",
         "48000",
         "[0 1]",
         "/home/a.jajodia.229/acoustic/local_data/coral/Paola/Non_Degraded_Reef/April 2024/20240310_042800.WAV",
         "{'bytes': None, 'path': '/home/a.jajodia.229/acoustic/local_data/coral/Paola/Non_Degraded_Reef/April 2024/20240310_042800.WAV'}",
         "{'array': '/home/a.jajodia.229/acoustic/local_data/coral/Paola/Non_Degraded_Reef/April 2024/20240310_042800.WAV', 'sampling_rate': 48000}",
         "1",
         "Williams_et_al_2024"
        ],
        [
         "47",
         "48000",
         "[1 0]",
         "/home/a.jajodia.229/acoustic/local_data/coral/Paola/Degraded_Reef/May 2025/20250320_231501.WAV",
         "{'bytes': None, 'path': '/home/a.jajodia.229/acoustic/local_data/coral/Paola/Degraded_Reef/May 2025/20250320_231501.WAV'}",
         "{'array': '/home/a.jajodia.229/acoustic/local_data/coral/Paola/Degraded_Reef/May 2025/20250320_231501.WAV', 'sampling_rate': 48000}",
         "0",
         "Williams_et_al_2024"
        ],
        [
         "48",
         "48000",
         "[0 1]",
         "/home/a.jajodia.229/acoustic/local_data/coral/Paola/Non_Degraded_Reef/June 2025/20250626_133321.WAV",
         "{'bytes': None, 'path': '/home/a.jajodia.229/acoustic/local_data/coral/Paola/Non_Degraded_Reef/June 2025/20250626_133321.WAV'}",
         "{'array': '/home/a.jajodia.229/acoustic/local_data/coral/Paola/Non_Degraded_Reef/June 2025/20250626_133321.WAV', 'sampling_rate': 48000}",
         "1",
         "Williams_et_al_2024"
        ],
        [
         "49",
         "48000",
         "[1 0]",
         "/home/a.jajodia.229/acoustic/local_data/coral/Paola/Degraded_Reef/July 2024/20240722_065000.WAV",
         "{'bytes': None, 'path': '/home/a.jajodia.229/acoustic/local_data/coral/Paola/Degraded_Reef/July 2024/20240722_065000.WAV'}",
         "{'array': '/home/a.jajodia.229/acoustic/local_data/coral/Paola/Degraded_Reef/July 2024/20240722_065000.WAV', 'sampling_rate': 48000}",
         "0",
         "Williams_et_al_2024"
        ]
       ],
       "shape": {
        "columns": 7,
        "rows": 7210
       }
      },
      "text/html": [
       "<div>\n",
       "<style scoped>\n",
       "    .dataframe tbody tr th:only-of-type {\n",
       "        vertical-align: middle;\n",
       "    }\n",
       "\n",
       "    .dataframe tbody tr th {\n",
       "        vertical-align: top;\n",
       "    }\n",
       "\n",
       "    .dataframe thead th {\n",
       "        text-align: right;\n",
       "    }\n",
       "</style>\n",
       "<table border=\"1\" class=\"dataframe\">\n",
       "  <thead>\n",
       "    <tr style=\"text-align: right;\">\n",
       "      <th></th>\n",
       "      <th>sample_rate</th>\n",
       "      <th>labels</th>\n",
       "      <th>filepath</th>\n",
       "      <th>audio</th>\n",
       "      <th>audio_in</th>\n",
       "      <th>site</th>\n",
       "      <th>dataset</th>\n",
       "    </tr>\n",
       "  </thead>\n",
       "  <tbody>\n",
       "    <tr>\n",
       "      <th>0</th>\n",
       "      <td>48000</td>\n",
       "      <td>[0, 1]</td>\n",
       "      <td>/home/a.jajodia.229/acoustic/local_data/coral/...</td>\n",
       "      <td>{'bytes': None, 'path': '/home/a.jajodia.229/a...</td>\n",
       "      <td>{'array': '/home/a.jajodia.229/acoustic/local_...</td>\n",
       "      <td>1</td>\n",
       "      <td>Williams_et_al_2024</td>\n",
       "    </tr>\n",
       "    <tr>\n",
       "      <th>1</th>\n",
       "      <td>48000</td>\n",
       "      <td>[1, 0]</td>\n",
       "      <td>/home/a.jajodia.229/acoustic/local_data/coral/...</td>\n",
       "      <td>{'bytes': None, 'path': '/home/a.jajodia.229/a...</td>\n",
       "      <td>{'array': '/home/a.jajodia.229/acoustic/local_...</td>\n",
       "      <td>0</td>\n",
       "      <td>Williams_et_al_2024</td>\n",
       "    </tr>\n",
       "    <tr>\n",
       "      <th>2</th>\n",
       "      <td>48000</td>\n",
       "      <td>[1, 0]</td>\n",
       "      <td>/home/a.jajodia.229/acoustic/local_data/coral/...</td>\n",
       "      <td>{'bytes': None, 'path': '/home/a.jajodia.229/a...</td>\n",
       "      <td>{'array': '/home/a.jajodia.229/acoustic/local_...</td>\n",
       "      <td>0</td>\n",
       "      <td>Williams_et_al_2024</td>\n",
       "    </tr>\n",
       "    <tr>\n",
       "      <th>3</th>\n",
       "      <td>48000</td>\n",
       "      <td>[0, 1]</td>\n",
       "      <td>/home/a.jajodia.229/acoustic/local_data/coral/...</td>\n",
       "      <td>{'bytes': None, 'path': '/home/a.jajodia.229/a...</td>\n",
       "      <td>{'array': '/home/a.jajodia.229/acoustic/local_...</td>\n",
       "      <td>1</td>\n",
       "      <td>Williams_et_al_2024</td>\n",
       "    </tr>\n",
       "    <tr>\n",
       "      <th>4</th>\n",
       "      <td>48000</td>\n",
       "      <td>[1, 0]</td>\n",
       "      <td>/home/a.jajodia.229/acoustic/local_data/coral/...</td>\n",
       "      <td>{'bytes': None, 'path': '/home/a.jajodia.229/a...</td>\n",
       "      <td>{'array': '/home/a.jajodia.229/acoustic/local_...</td>\n",
       "      <td>0</td>\n",
       "      <td>Williams_et_al_2024</td>\n",
       "    </tr>\n",
       "    <tr>\n",
       "      <th>...</th>\n",
       "      <td>...</td>\n",
       "      <td>...</td>\n",
       "      <td>...</td>\n",
       "      <td>...</td>\n",
       "      <td>...</td>\n",
       "      <td>...</td>\n",
       "      <td>...</td>\n",
       "    </tr>\n",
       "    <tr>\n",
       "      <th>7205</th>\n",
       "      <td>48000</td>\n",
       "      <td>[1, 0]</td>\n",
       "      <td>/home/a.jajodia.229/acoustic/local_data/coral/...</td>\n",
       "      <td>{'bytes': None, 'path': '/home/a.jajodia.229/a...</td>\n",
       "      <td>{'array': '/home/a.jajodia.229/acoustic/local_...</td>\n",
       "      <td>0</td>\n",
       "      <td>Williams_et_al_2024</td>\n",
       "    </tr>\n",
       "    <tr>\n",
       "      <th>7206</th>\n",
       "      <td>48000</td>\n",
       "      <td>[1, 0]</td>\n",
       "      <td>/home/a.jajodia.229/acoustic/local_data/coral/...</td>\n",
       "      <td>{'bytes': None, 'path': '/home/a.jajodia.229/a...</td>\n",
       "      <td>{'array': '/home/a.jajodia.229/acoustic/local_...</td>\n",
       "      <td>0</td>\n",
       "      <td>Williams_et_al_2024</td>\n",
       "    </tr>\n",
       "    <tr>\n",
       "      <th>7207</th>\n",
       "      <td>48000</td>\n",
       "      <td>[1, 0]</td>\n",
       "      <td>/home/a.jajodia.229/acoustic/local_data/coral/...</td>\n",
       "      <td>{'bytes': None, 'path': '/home/a.jajodia.229/a...</td>\n",
       "      <td>{'array': '/home/a.jajodia.229/acoustic/local_...</td>\n",
       "      <td>0</td>\n",
       "      <td>Williams_et_al_2024</td>\n",
       "    </tr>\n",
       "    <tr>\n",
       "      <th>7208</th>\n",
       "      <td>48000</td>\n",
       "      <td>[1, 0]</td>\n",
       "      <td>/home/a.jajodia.229/acoustic/local_data/coral/...</td>\n",
       "      <td>{'bytes': None, 'path': '/home/a.jajodia.229/a...</td>\n",
       "      <td>{'array': '/home/a.jajodia.229/acoustic/local_...</td>\n",
       "      <td>0</td>\n",
       "      <td>Williams_et_al_2024</td>\n",
       "    </tr>\n",
       "    <tr>\n",
       "      <th>7209</th>\n",
       "      <td>48000</td>\n",
       "      <td>[1, 0]</td>\n",
       "      <td>/home/a.jajodia.229/acoustic/local_data/coral/...</td>\n",
       "      <td>{'bytes': None, 'path': '/home/a.jajodia.229/a...</td>\n",
       "      <td>{'array': '/home/a.jajodia.229/acoustic/local_...</td>\n",
       "      <td>0</td>\n",
       "      <td>Williams_et_al_2024</td>\n",
       "    </tr>\n",
       "  </tbody>\n",
       "</table>\n",
       "<p>7210 rows × 7 columns</p>\n",
       "</div>"
      ],
      "text/plain": [
       "      sample_rate  labels                                           filepath  \\\n",
       "0           48000  [0, 1]  /home/a.jajodia.229/acoustic/local_data/coral/...   \n",
       "1           48000  [1, 0]  /home/a.jajodia.229/acoustic/local_data/coral/...   \n",
       "2           48000  [1, 0]  /home/a.jajodia.229/acoustic/local_data/coral/...   \n",
       "3           48000  [0, 1]  /home/a.jajodia.229/acoustic/local_data/coral/...   \n",
       "4           48000  [1, 0]  /home/a.jajodia.229/acoustic/local_data/coral/...   \n",
       "...           ...     ...                                                ...   \n",
       "7205        48000  [1, 0]  /home/a.jajodia.229/acoustic/local_data/coral/...   \n",
       "7206        48000  [1, 0]  /home/a.jajodia.229/acoustic/local_data/coral/...   \n",
       "7207        48000  [1, 0]  /home/a.jajodia.229/acoustic/local_data/coral/...   \n",
       "7208        48000  [1, 0]  /home/a.jajodia.229/acoustic/local_data/coral/...   \n",
       "7209        48000  [1, 0]  /home/a.jajodia.229/acoustic/local_data/coral/...   \n",
       "\n",
       "                                                  audio  \\\n",
       "0     {'bytes': None, 'path': '/home/a.jajodia.229/a...   \n",
       "1     {'bytes': None, 'path': '/home/a.jajodia.229/a...   \n",
       "2     {'bytes': None, 'path': '/home/a.jajodia.229/a...   \n",
       "3     {'bytes': None, 'path': '/home/a.jajodia.229/a...   \n",
       "4     {'bytes': None, 'path': '/home/a.jajodia.229/a...   \n",
       "...                                                 ...   \n",
       "7205  {'bytes': None, 'path': '/home/a.jajodia.229/a...   \n",
       "7206  {'bytes': None, 'path': '/home/a.jajodia.229/a...   \n",
       "7207  {'bytes': None, 'path': '/home/a.jajodia.229/a...   \n",
       "7208  {'bytes': None, 'path': '/home/a.jajodia.229/a...   \n",
       "7209  {'bytes': None, 'path': '/home/a.jajodia.229/a...   \n",
       "\n",
       "                                               audio_in  site  \\\n",
       "0     {'array': '/home/a.jajodia.229/acoustic/local_...     1   \n",
       "1     {'array': '/home/a.jajodia.229/acoustic/local_...     0   \n",
       "2     {'array': '/home/a.jajodia.229/acoustic/local_...     0   \n",
       "3     {'array': '/home/a.jajodia.229/acoustic/local_...     1   \n",
       "4     {'array': '/home/a.jajodia.229/acoustic/local_...     0   \n",
       "...                                                 ...   ...   \n",
       "7205  {'array': '/home/a.jajodia.229/acoustic/local_...     0   \n",
       "7206  {'array': '/home/a.jajodia.229/acoustic/local_...     0   \n",
       "7207  {'array': '/home/a.jajodia.229/acoustic/local_...     0   \n",
       "7208  {'array': '/home/a.jajodia.229/acoustic/local_...     0   \n",
       "7209  {'array': '/home/a.jajodia.229/acoustic/local_...     0   \n",
       "\n",
       "                  dataset  \n",
       "0     Williams_et_al_2024  \n",
       "1     Williams_et_al_2024  \n",
       "2     Williams_et_al_2024  \n",
       "3     Williams_et_al_2024  \n",
       "4     Williams_et_al_2024  \n",
       "...                   ...  \n",
       "7205  Williams_et_al_2024  \n",
       "7206  Williams_et_al_2024  \n",
       "7207  Williams_et_al_2024  \n",
       "7208  Williams_et_al_2024  \n",
       "7209  Williams_et_al_2024  \n",
       "\n",
       "[7210 rows x 7 columns]"
      ]
     },
     "execution_count": 6,
     "metadata": {},
     "output_type": "execute_result"
    }
   ],
   "source": [
    "data"
   ]
  },
  {
   "cell_type": "code",
   "execution_count": 7,
   "id": "8d80971d",
   "metadata": {},
   "outputs": [
    {
     "data": {
      "text/plain": [
       "7210"
      ]
     },
     "execution_count": 7,
     "metadata": {},
     "output_type": "execute_result"
    }
   ],
   "source": [
    "data['labels'].value_counts().size"
   ]
  }
 ],
 "metadata": {
  "kernelspec": {
   "display_name": "acoustic-knowledge (3.11.13)",
   "language": "python",
   "name": "python3"
  },
  "language_info": {
   "codemirror_mode": {
    "name": "ipython",
    "version": 3
   },
   "file_extension": ".py",
   "mimetype": "text/x-python",
   "name": "python",
   "nbconvert_exporter": "python",
   "pygments_lexer": "ipython3",
   "version": "3.11.13"
  }
 },
 "nbformat": 4,
 "nbformat_minor": 5
}
