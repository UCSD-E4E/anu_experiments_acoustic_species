{
 "cells": [
  {
   "cell_type": "code",
   "execution_count": 2,
   "id": "875ca9d2",
   "metadata": {},
   "outputs": [],
   "source": [
    "# imports\n",
    "\n",
    "import pandas as pd\n",
    "from scipy.stats import chisquare\n",
    "import numpy as np\n"
   ]
  },
  {
   "cell_type": "code",
   "execution_count": 3,
   "id": "60d91cdf",
   "metadata": {},
   "outputs": [],
   "source": [
    "results = pd.read_csv('surfperch_results.csv')\n",
    "results['dataset'] = np.where(results['filepath'].str.contains('Paola'), 'Paola', 'Williams')"
   ]
  },
  {
   "cell_type": "code",
   "execution_count": 4,
   "id": "8c319db6",
   "metadata": {},
   "outputs": [
    {
     "data": {
      "text/plain": [
       "['20250314_065200.WAV',\n",
       " '20240724_175800.WAV',\n",
       " '20240310_044700.WAV',\n",
       " '20250627_114825.WAV',\n",
       " '20250314_062300.WAV',\n",
       " '20240725_055000.WAV',\n",
       " '20240310_003900.WAV',\n",
       " '20250625_214322.WAV']"
      ]
     },
     "execution_count": 4,
     "metadata": {},
     "output_type": "execute_result"
    }
   ],
   "source": [
    "[i[9] for i in results.query('(sound == \"bioph_grouper_a\") and (dataset == \"Paola\")')['filepath'].str.split(\"/\").to_list()]"
   ]
  },
  {
   "cell_type": "code",
   "execution_count": null,
   "id": "5916e5bd",
   "metadata": {},
   "outputs": [],
   "source": []
  },
  {
   "cell_type": "code",
   "execution_count": 5,
   "id": "6936ed4c",
   "metadata": {},
   "outputs": [
    {
     "data": {
      "application/vnd.microsoft.datawrangler.viewer.v0+json": {
       "columns": [
        {
         "name": "index",
         "rawType": "int64",
         "type": "integer"
        },
        {
         "name": "Unnamed: 0",
         "rawType": "int64",
         "type": "integer"
        },
        {
         "name": "filepath",
         "rawType": "object",
         "type": "string"
        },
        {
         "name": "sound",
         "rawType": "object",
         "type": "string"
        },
        {
         "name": "labels",
         "rawType": "object",
         "type": "string"
        },
        {
         "name": "dataset",
         "rawType": "object",
         "type": "string"
        }
       ],
       "ref": "454f1f63-71cb-4538-8c85-3f97d9e91ecb",
       "rows": [
        [
         "0",
         "0",
         "/home/a.jajodia.229/acoustic/local_data/coral/Paola/Degraded_Reef/July 2024/20240723_191200.WAV",
         "bioph_cascading_saw",
         "[1 0]",
         "Paola"
        ],
        [
         "1",
         "1",
         "/home/a.jajodia.229/acoustic/local_data/coral/Paola/Non_Degraded_Reef/June 2025/20250624_144120.WAV",
         "bioph_cascading_saw",
         "[0 1]",
         "Paola"
        ],
        [
         "2",
         "2",
         "/home/a.jajodia.229/acoustic/local_data/coral/Paola/Degraded_Reef/May 2025/20250322_190300.WAV",
         "bioph_cascading_saw",
         "[1 0]",
         "Paola"
        ],
        [
         "3",
         "3",
         "/home/a.jajodia.229/acoustic/local_data/coral/Paola/Non_Degraded_Reef/June 2025/20250625_145520.WAV",
         "bioph_cascading_saw",
         "[0 1]",
         "Paola"
        ],
        [
         "4",
         "4",
         "/home/a.jajodia.229/acoustic/local_data/coral/Paola/Degraded_Reef/May 2025/20250320_070403.WAV",
         "bioph_cascading_saw",
         "[1 0]",
         "Paola"
        ],
        [
         "5",
         "5",
         "/home/a.jajodia.229/acoustic/local_data/coral/Paola/Degraded_Reef/May 2025/20250319_060000.WAV",
         "bioph_cascading_saw",
         "[1 0]",
         "Paola"
        ],
        [
         "6",
         "6",
         "/home/a.jajodia.229/acoustic/local_data/coral/Paola/Degraded_Reef/May 2025/20250320_192600.WAV",
         "bioph_cascading_saw",
         "[1 0]",
         "Paola"
        ],
        [
         "7",
         "7",
         "/home/a.jajodia.229/acoustic/local_data/coral/Paola/Degraded_Reef/May 2025/20250317_121100.WAV",
         "bioph_cascading_saw",
         "[1 0]",
         "Paola"
        ],
        [
         "8",
         "8",
         "/home/a.jajodia.229/acoustic/local_data/coral/Paola/Degraded_Reef/May 2025/20250319_133600.WAV",
         "bioph_cascading_saw",
         "[1 0]",
         "Paola"
        ],
        [
         "9",
         "9",
         "/home/a.jajodia.229/acoustic/local_data/coral/Paola/Non_Degraded_Reef/April 2024/20240306_001800.WAV",
         "bioph_cascading_saw",
         "[0 1]",
         "Paola"
        ],
        [
         "10",
         "10",
         "/home/a.jajodia.229/acoustic/local_data/coral/Paola/Non_Degraded_Reef/February_March 2024/20240227_180700.WAV",
         "bioph_cascading_saw",
         "[0 1]",
         "Paola"
        ],
        [
         "11",
         "11",
         "/home/a.jajodia.229/acoustic/local_data/coral/Paola/Degraded_Reef/July 2024/20240717_165000.WAV",
         "bioph_cascading_saw",
         "[1 0]",
         "Paola"
        ],
        [
         "12",
         "12",
         "/home/a.jajodia.229/acoustic/local_data/coral/Paola/Non_Degraded_Reef/February_March 2024/20240229_103300.WAV",
         "bioph_cascading_saw",
         "[0 1]",
         "Paola"
        ],
        [
         "13",
         "13",
         "/home/a.jajodia.229/acoustic/local_data/coral/Paola/Non_Degraded_Reef/April 2024/20240307_101900.WAV",
         "bioph_cascading_saw",
         "[0 1]",
         "Paola"
        ],
        [
         "14",
         "14",
         "/home/a.jajodia.229/acoustic/local_data/coral/Williams_et_al_2024/Non_Degraded_Reef/BaF5.1732H.671907872.180831.NT1830.wav",
         "bioph_midshipman",
         "[0 1]",
         "Williams"
        ],
        [
         "15",
         "15",
         "/home/a.jajodia.229/acoustic/local_data/coral/Williams_et_al_2024/Non_Degraded_Reef/BaF5.1732H.671907872.180831.NT1830.wav",
         "bioph_cascading_saw",
         "[0 1]",
         "Williams"
        ],
        [
         "16",
         "16",
         "/home/a.jajodia.229/acoustic/local_data/coral/Williams_et_al_2024/Non_Degraded_Reef/BaF5.1732H.671907872.180831.NT1830.wav",
         "bioph_low_growl",
         "[0 1]",
         "Williams"
        ],
        [
         "17",
         "17",
         "/home/a.jajodia.229/acoustic/local_data/coral/Williams_et_al_2024/Non_Degraded_Reef/BaF5.1732H.671907872.180831.NT1830.wav",
         "bioph",
         "[0 1]",
         "Williams"
        ],
        [
         "18",
         "18",
         "/home/a.jajodia.229/acoustic/local_data/coral/Williams_et_al_2024/Non_Degraded_Reef/BaF5.1732H.671907872.180831.NT1830.wav",
         "bioph_cascading_saw",
         "[0 1]",
         "Williams"
        ],
        [
         "19",
         "19",
         "/home/a.jajodia.229/acoustic/local_data/coral/Williams_et_al_2024/Non_Degraded_Reef/BaF5.1732H.671907872.180831.NT1830.wav",
         "bioph_mycbon",
         "[0 1]",
         "Williams"
        ],
        [
         "20",
         "20",
         "/home/a.jajodia.229/acoustic/local_data/coral/Williams_et_al_2024/Non_Degraded_Reef/BaF5.1732H.671907872.180831.NT1830.wav",
         "bioph_chatter",
         "[0 1]",
         "Williams"
        ],
        [
         "21",
         "21",
         "/home/a.jajodia.229/acoustic/local_data/coral/Williams_et_al_2024/Non_Degraded_Reef/BaF5.1732H.671907872.180831.NT1830.wav",
         "bioph",
         "[0 1]",
         "Williams"
        ],
        [
         "22",
         "22",
         "/home/a.jajodia.229/acoustic/local_data/coral/Williams_et_al_2024/Non_Degraded_Reef/BaF5.1732H.671907872.180831.NT1830.wav",
         "bioph",
         "[0 1]",
         "Williams"
        ],
        [
         "23",
         "23",
         "/home/a.jajodia.229/acoustic/local_data/coral/Williams_et_al_2024/Non_Degraded_Reef/BaF5.1732H.671907872.180831.NT1830.wav",
         "bioph_mycbon",
         "[0 1]",
         "Williams"
        ],
        [
         "24",
         "24",
         "/home/a.jajodia.229/acoustic/local_data/coral/Williams_et_al_2024/Non_Degraded_Reef/BaF5.1732H.671907872.180831.NT1830.wav",
         "bioph_mycbon",
         "[0 1]",
         "Williams"
        ],
        [
         "25",
         "25",
         "/home/a.jajodia.229/acoustic/local_data/coral/Williams_et_al_2024/Non_Degraded_Reef/BaF5.1732H.671907872.180831.NT1830.wav",
         "bioph",
         "[0 1]",
         "Williams"
        ],
        [
         "26",
         "26",
         "/home/a.jajodia.229/acoustic/local_data/coral/Paola/Degraded_Reef/May 2025/20250316_125600.WAV",
         "bioph_cascading_saw",
         "[1 0]",
         "Paola"
        ],
        [
         "27",
         "27",
         "/home/a.jajodia.229/acoustic/local_data/coral/Paola/Non_Degraded_Reef/June 2025/20250623_095119.WAV",
         "bioph_cascading_saw",
         "[0 1]",
         "Paola"
        ],
        [
         "28",
         "28",
         "/home/a.jajodia.229/acoustic/local_data/coral/Paola/Non_Degraded_Reef/June 2025/20250619_230018.WAV",
         "bioph_cascading_saw",
         "[0 1]",
         "Paola"
        ],
        [
         "29",
         "29",
         "/home/a.jajodia.229/acoustic/local_data/coral/Paola/Degraded_Reef/July 2024/20240722_194200.WAV",
         "bioph_cascading_saw",
         "[1 0]",
         "Paola"
        ],
        [
         "30",
         "30",
         "/home/a.jajodia.229/acoustic/local_data/coral/Paola/Non_Degraded_Reef/June 2025/20250627_213533.WAV",
         "bioph_cascading_saw",
         "[0 1]",
         "Paola"
        ],
        [
         "31",
         "31",
         "/home/a.jajodia.229/acoustic/local_data/coral/Paola/Non_Degraded_Reef/June 2025/20250621_162520.WAV",
         "bioph_cascading_saw",
         "[0 1]",
         "Paola"
        ],
        [
         "32",
         "32",
         "/home/a.jajodia.229/acoustic/local_data/coral/Paola/Degraded_Reef/May 2025/20250321_144300.WAV",
         "bioph_cascading_saw",
         "[1 0]",
         "Paola"
        ],
        [
         "33",
         "33",
         "/home/a.jajodia.229/acoustic/local_data/coral/Paola/Non_Degraded_Reef/June 2025/20250620_191118.WAV",
         "bioph_cascading_saw",
         "[0 1]",
         "Paola"
        ],
        [
         "34",
         "34",
         "/home/a.jajodia.229/acoustic/local_data/coral/Paola/Non_Degraded_Reef/April 2024/20240306_175700.WAV",
         "bioph_cascading_saw",
         "[0 1]",
         "Paola"
        ],
        [
         "35",
         "35",
         "/home/a.jajodia.229/acoustic/local_data/coral/Paola/Degraded_Reef/July 2024/20240722_183400.WAV",
         "bioph_cascading_saw",
         "[1 0]",
         "Paola"
        ],
        [
         "36",
         "36",
         "/home/a.jajodia.229/acoustic/local_data/coral/Paola/Non_Degraded_Reef/February_March 2024/20240228_024400.WAV",
         "bioph_cascading_saw",
         "[0 1]",
         "Paola"
        ],
        [
         "37",
         "37",
         "/home/a.jajodia.229/acoustic/local_data/coral/Paola/Non_Degraded_Reef/February_March 2024/20240228_080700.WAV",
         "bioph_cascading_saw",
         "[0 1]",
         "Paola"
        ],
        [
         "38",
         "38",
         "/home/a.jajodia.229/acoustic/local_data/coral/Paola/Degraded_Reef/May 2025/20250320_234000.WAV",
         "bioph_cascading_saw",
         "[1 0]",
         "Paola"
        ],
        [
         "39",
         "39",
         "/home/a.jajodia.229/acoustic/local_data/coral/Paola/Degraded_Reef/May 2025/20250318_100400.WAV",
         "bioph_cascading_saw",
         "[1 0]",
         "Paola"
        ],
        [
         "40",
         "40",
         "/home/a.jajodia.229/acoustic/local_data/coral/Paola/Non_Degraded_Reef/June 2025/20250620_075918.WAV",
         "bioph_cascading_saw",
         "[0 1]",
         "Paola"
        ],
        [
         "41",
         "41",
         "/home/a.jajodia.229/acoustic/local_data/coral/Paola/Degraded_Reef/May 2025/20250320_061500.WAV",
         "bioph_cascading_saw",
         "[1 0]",
         "Paola"
        ],
        [
         "42",
         "42",
         "/home/a.jajodia.229/acoustic/local_data/coral/Paola/Degraded_Reef/May 2025/20250321_175305.WAV",
         "bioph_cascading_saw",
         "[1 0]",
         "Paola"
        ],
        [
         "43",
         "43",
         "/home/a.jajodia.229/acoustic/local_data/coral/Paola/Degraded_Reef/July 2024/20240723_080400.WAV",
         "bioph_cascading_saw",
         "[1 0]",
         "Paola"
        ],
        [
         "44",
         "44",
         "/home/a.jajodia.229/acoustic/local_data/coral/Paola/Degraded_Reef/May 2025/20250316_145100.WAV",
         "bioph_cascading_saw",
         "[1 0]",
         "Paola"
        ],
        [
         "45",
         "45",
         "/home/a.jajodia.229/acoustic/local_data/coral/Paola/Non_Degraded_Reef/June 2025/20250624_154820.WAV",
         "bioph_cascading_saw",
         "[0 1]",
         "Paola"
        ],
        [
         "46",
         "46",
         "/home/a.jajodia.229/acoustic/local_data/coral/Paola/Non_Degraded_Reef/April 2024/20240306_074600.WAV",
         "bioph_damselfish",
         "[0 1]",
         "Paola"
        ],
        [
         "47",
         "47",
         "/home/a.jajodia.229/acoustic/local_data/coral/Paola/Non_Degraded_Reef/June 2025/20250624_114620.WAV",
         "bioph_cascading_saw",
         "[0 1]",
         "Paola"
        ],
        [
         "48",
         "48",
         "/home/a.jajodia.229/acoustic/local_data/coral/Paola/Degraded_Reef/May 2025/20250321_151000.WAV",
         "bioph_cascading_saw",
         "[1 0]",
         "Paola"
        ],
        [
         "49",
         "49",
         "/home/a.jajodia.229/acoustic/local_data/coral/Williams_et_al_2024/Non_Degraded_Reef/BoN10.1731H.1678278701.180905.NT1732.wav",
         "bioph",
         "[0 1]",
         "Williams"
        ]
       ],
       "shape": {
        "columns": 5,
        "rows": 12824
       }
      },
      "text/html": [
       "<div>\n",
       "<style scoped>\n",
       "    .dataframe tbody tr th:only-of-type {\n",
       "        vertical-align: middle;\n",
       "    }\n",
       "\n",
       "    .dataframe tbody tr th {\n",
       "        vertical-align: top;\n",
       "    }\n",
       "\n",
       "    .dataframe thead th {\n",
       "        text-align: right;\n",
       "    }\n",
       "</style>\n",
       "<table border=\"1\" class=\"dataframe\">\n",
       "  <thead>\n",
       "    <tr style=\"text-align: right;\">\n",
       "      <th></th>\n",
       "      <th>Unnamed: 0</th>\n",
       "      <th>filepath</th>\n",
       "      <th>sound</th>\n",
       "      <th>labels</th>\n",
       "      <th>dataset</th>\n",
       "    </tr>\n",
       "  </thead>\n",
       "  <tbody>\n",
       "    <tr>\n",
       "      <th>0</th>\n",
       "      <td>0</td>\n",
       "      <td>/home/a.jajodia.229/acoustic/local_data/coral/...</td>\n",
       "      <td>bioph_cascading_saw</td>\n",
       "      <td>[1 0]</td>\n",
       "      <td>Paola</td>\n",
       "    </tr>\n",
       "    <tr>\n",
       "      <th>1</th>\n",
       "      <td>1</td>\n",
       "      <td>/home/a.jajodia.229/acoustic/local_data/coral/...</td>\n",
       "      <td>bioph_cascading_saw</td>\n",
       "      <td>[0 1]</td>\n",
       "      <td>Paola</td>\n",
       "    </tr>\n",
       "    <tr>\n",
       "      <th>2</th>\n",
       "      <td>2</td>\n",
       "      <td>/home/a.jajodia.229/acoustic/local_data/coral/...</td>\n",
       "      <td>bioph_cascading_saw</td>\n",
       "      <td>[1 0]</td>\n",
       "      <td>Paola</td>\n",
       "    </tr>\n",
       "    <tr>\n",
       "      <th>3</th>\n",
       "      <td>3</td>\n",
       "      <td>/home/a.jajodia.229/acoustic/local_data/coral/...</td>\n",
       "      <td>bioph_cascading_saw</td>\n",
       "      <td>[0 1]</td>\n",
       "      <td>Paola</td>\n",
       "    </tr>\n",
       "    <tr>\n",
       "      <th>4</th>\n",
       "      <td>4</td>\n",
       "      <td>/home/a.jajodia.229/acoustic/local_data/coral/...</td>\n",
       "      <td>bioph_cascading_saw</td>\n",
       "      <td>[1 0]</td>\n",
       "      <td>Paola</td>\n",
       "    </tr>\n",
       "    <tr>\n",
       "      <th>...</th>\n",
       "      <td>...</td>\n",
       "      <td>...</td>\n",
       "      <td>...</td>\n",
       "      <td>...</td>\n",
       "      <td>...</td>\n",
       "    </tr>\n",
       "    <tr>\n",
       "      <th>12819</th>\n",
       "      <td>12819</td>\n",
       "      <td>/home/a.jajodia.229/acoustic/local_data/coral/...</td>\n",
       "      <td>bioph_cascading_saw</td>\n",
       "      <td>[1 0]</td>\n",
       "      <td>Paola</td>\n",
       "    </tr>\n",
       "    <tr>\n",
       "      <th>12820</th>\n",
       "      <td>12820</td>\n",
       "      <td>/home/a.jajodia.229/acoustic/local_data/coral/...</td>\n",
       "      <td>bioph_cascading_saw</td>\n",
       "      <td>[0 1]</td>\n",
       "      <td>Paola</td>\n",
       "    </tr>\n",
       "    <tr>\n",
       "      <th>12821</th>\n",
       "      <td>12821</td>\n",
       "      <td>/home/a.jajodia.229/acoustic/local_data/coral/...</td>\n",
       "      <td>bioph_cascading_saw</td>\n",
       "      <td>[1 0]</td>\n",
       "      <td>Paola</td>\n",
       "    </tr>\n",
       "    <tr>\n",
       "      <th>12822</th>\n",
       "      <td>12822</td>\n",
       "      <td>/home/a.jajodia.229/acoustic/local_data/coral/...</td>\n",
       "      <td>bioph_cascading_saw</td>\n",
       "      <td>[1 0]</td>\n",
       "      <td>Paola</td>\n",
       "    </tr>\n",
       "    <tr>\n",
       "      <th>12823</th>\n",
       "      <td>12823</td>\n",
       "      <td>/home/a.jajodia.229/acoustic/local_data/coral/...</td>\n",
       "      <td>bioph_cascading_saw</td>\n",
       "      <td>[1 0]</td>\n",
       "      <td>Paola</td>\n",
       "    </tr>\n",
       "  </tbody>\n",
       "</table>\n",
       "<p>12824 rows × 5 columns</p>\n",
       "</div>"
      ],
      "text/plain": [
       "       Unnamed: 0                                           filepath  \\\n",
       "0               0  /home/a.jajodia.229/acoustic/local_data/coral/...   \n",
       "1               1  /home/a.jajodia.229/acoustic/local_data/coral/...   \n",
       "2               2  /home/a.jajodia.229/acoustic/local_data/coral/...   \n",
       "3               3  /home/a.jajodia.229/acoustic/local_data/coral/...   \n",
       "4               4  /home/a.jajodia.229/acoustic/local_data/coral/...   \n",
       "...           ...                                                ...   \n",
       "12819       12819  /home/a.jajodia.229/acoustic/local_data/coral/...   \n",
       "12820       12820  /home/a.jajodia.229/acoustic/local_data/coral/...   \n",
       "12821       12821  /home/a.jajodia.229/acoustic/local_data/coral/...   \n",
       "12822       12822  /home/a.jajodia.229/acoustic/local_data/coral/...   \n",
       "12823       12823  /home/a.jajodia.229/acoustic/local_data/coral/...   \n",
       "\n",
       "                     sound labels dataset  \n",
       "0      bioph_cascading_saw  [1 0]   Paola  \n",
       "1      bioph_cascading_saw  [0 1]   Paola  \n",
       "2      bioph_cascading_saw  [1 0]   Paola  \n",
       "3      bioph_cascading_saw  [0 1]   Paola  \n",
       "4      bioph_cascading_saw  [1 0]   Paola  \n",
       "...                    ...    ...     ...  \n",
       "12819  bioph_cascading_saw  [1 0]   Paola  \n",
       "12820  bioph_cascading_saw  [0 1]   Paola  \n",
       "12821  bioph_cascading_saw  [1 0]   Paola  \n",
       "12822  bioph_cascading_saw  [1 0]   Paola  \n",
       "12823  bioph_cascading_saw  [1 0]   Paola  \n",
       "\n",
       "[12824 rows x 5 columns]"
      ]
     },
     "execution_count": 5,
     "metadata": {},
     "output_type": "execute_result"
    }
   ],
   "source": [
    "results"
   ]
  },
  {
   "cell_type": "code",
   "execution_count": 6,
   "id": "08696333",
   "metadata": {},
   "outputs": [],
   "source": [
    "def cs(n, y):\n",
    "    return chisquare(n, np.sum(n)/np.sum(y) * y)"
   ]
  },
  {
   "cell_type": "code",
   "execution_count": 26,
   "id": "ba36634a",
   "metadata": {},
   "outputs": [
    {
     "data": {
      "text/plain": [
       "Power_divergenceResult(statistic=np.float64(198.197040353692), pvalue=np.float64(6.903685659371124e-41))"
      ]
     },
     "execution_count": 26,
     "metadata": {},
     "output_type": "execute_result"
    }
   ],
   "source": [
    "contingency = pd.crosstab(index=results['sound'], columns=results['labels'], normalize=False)\n",
    "contingency = contingency.loc[(contingency[\"[1 0]\"] > 30) | (contingency[\"[0 1]\"] > 30)].reset_index()\n",
    "\n",
    "contingency = contingency.rename(columns={'[1 0]': 'Degraded', '[0 1]': 'Non Degraded'})\n",
    "\n",
    "cs(contingency['Degraded'], contingency['Non Degraded'])\n",
    "# cs(contingency['Paola'], contingency['Williams'])"
   ]
  },
  {
   "cell_type": "code",
   "execution_count": 27,
   "id": "fd0b83f9",
   "metadata": {},
   "outputs": [
    {
     "data": {
      "application/vnd.microsoft.datawrangler.viewer.v0+json": {
       "columns": [
        {
         "name": "index",
         "rawType": "int64",
         "type": "integer"
        },
        {
         "name": "index",
         "rawType": "int64",
         "type": "integer"
        },
        {
         "name": "sound",
         "rawType": "object",
         "type": "string"
        },
        {
         "name": "Non Degraded",
         "rawType": "int64",
         "type": "integer"
        },
        {
         "name": "Degraded",
         "rawType": "int64",
         "type": "integer"
        }
       ],
       "ref": "df395b6b-1bb1-4ed5-bad1-26fff7140997",
       "rows": [
        [
         "0",
         "0",
         "anthrop",
         "15",
         "35"
        ],
        [
         "1",
         "1",
         "bioph",
         "2652",
         "2175"
        ],
        [
         "2",
         "2",
         "bioph_cascading_saw",
         "3670",
         "3791"
        ],
        [
         "3",
         "3",
         "bioph_damselfish",
         "65",
         "22"
        ],
        [
         "4",
         "4",
         "bioph_low_growl",
         "109",
         "20"
        ],
        [
         "5",
         "5",
         "bioph_mycbon",
         "48",
         "44"
        ]
       ],
       "shape": {
        "columns": 4,
        "rows": 6
       }
      },
      "text/html": [
       "<div>\n",
       "<style scoped>\n",
       "    .dataframe tbody tr th:only-of-type {\n",
       "        vertical-align: middle;\n",
       "    }\n",
       "\n",
       "    .dataframe tbody tr th {\n",
       "        vertical-align: top;\n",
       "    }\n",
       "\n",
       "    .dataframe thead th {\n",
       "        text-align: right;\n",
       "    }\n",
       "</style>\n",
       "<table border=\"1\" class=\"dataframe\">\n",
       "  <thead>\n",
       "    <tr style=\"text-align: right;\">\n",
       "      <th>labels</th>\n",
       "      <th>index</th>\n",
       "      <th>sound</th>\n",
       "      <th>Non Degraded</th>\n",
       "      <th>Degraded</th>\n",
       "    </tr>\n",
       "  </thead>\n",
       "  <tbody>\n",
       "    <tr>\n",
       "      <th>0</th>\n",
       "      <td>0</td>\n",
       "      <td>anthrop</td>\n",
       "      <td>15</td>\n",
       "      <td>35</td>\n",
       "    </tr>\n",
       "    <tr>\n",
       "      <th>1</th>\n",
       "      <td>1</td>\n",
       "      <td>bioph</td>\n",
       "      <td>2652</td>\n",
       "      <td>2175</td>\n",
       "    </tr>\n",
       "    <tr>\n",
       "      <th>2</th>\n",
       "      <td>2</td>\n",
       "      <td>bioph_cascading_saw</td>\n",
       "      <td>3670</td>\n",
       "      <td>3791</td>\n",
       "    </tr>\n",
       "    <tr>\n",
       "      <th>3</th>\n",
       "      <td>3</td>\n",
       "      <td>bioph_damselfish</td>\n",
       "      <td>65</td>\n",
       "      <td>22</td>\n",
       "    </tr>\n",
       "    <tr>\n",
       "      <th>4</th>\n",
       "      <td>4</td>\n",
       "      <td>bioph_low_growl</td>\n",
       "      <td>109</td>\n",
       "      <td>20</td>\n",
       "    </tr>\n",
       "    <tr>\n",
       "      <th>5</th>\n",
       "      <td>5</td>\n",
       "      <td>bioph_mycbon</td>\n",
       "      <td>48</td>\n",
       "      <td>44</td>\n",
       "    </tr>\n",
       "  </tbody>\n",
       "</table>\n",
       "</div>"
      ],
      "text/plain": [
       "labels  index                sound  Non Degraded  Degraded\n",
       "0           0              anthrop            15        35\n",
       "1           1                bioph          2652      2175\n",
       "2           2  bioph_cascading_saw          3670      3791\n",
       "3           3     bioph_damselfish            65        22\n",
       "4           4      bioph_low_growl           109        20\n",
       "5           5         bioph_mycbon            48        44"
      ]
     },
     "execution_count": 27,
     "metadata": {},
     "output_type": "execute_result"
    }
   ],
   "source": [
    "contingency.reset_index()"
   ]
  },
  {
   "cell_type": "code",
   "execution_count": 9,
   "id": "9e06c0b1",
   "metadata": {},
   "outputs": [],
   "source": [
    "df = contingency.melt(\n",
    "    id_vars=\"sound\",\n",
    "    value_vars=['Non Degraded', 'Degraded']\n",
    ")"
   ]
  },
  {
   "cell_type": "code",
   "execution_count": 10,
   "id": "8aaea3e9",
   "metadata": {},
   "outputs": [
    {
     "name": "stderr",
     "output_type": "stream",
     "text": [
      "/tmp/ipykernel_1848164/3147706692.py:7: UserWarning: set_ticklabels() should only be used with a fixed number of ticks, i.e. after set_ticks() or using a FixedLocator.\n",
      "  fig.set_xticklabels(fig.get_xticklabels(), rotation=45, ha=\"right\")\n"
     ]
    },
    {
     "data": {
      "text/plain": [
       "Text(0, 0.5, 'count')"
      ]
     },
     "execution_count": 10,
     "metadata": {},
     "output_type": "execute_result"
    },
    {
     "data": {
      "image/png": "[encoded data removed]",
      "text/plain": [
       "<Figure size 640x480 with 1 Axes>"
      ]
     },
     "metadata": {},
     "output_type": "display_data"
    }
   ],
   "source": [
    "import seaborn as sns\n",
    "\n",
    "import matplotlib.pyplot as plt\n",
    "\n",
    "fig = sns.barplot(data=df, x='sound', y='value', hue='labels')\n",
    "\n",
    "fig.set_xticklabels(fig.get_xticklabels(), rotation=45, ha=\"right\")\n",
    "\n",
    "fig.set_ylabel('count')"
   ]
  }
 ],
 "metadata": {
  "kernelspec": {
   "display_name": "acoustic-knowledge-discovery (3.11.13)",
   "language": "python",
   "name": "python3"
  },
  "language_info": {
   "codemirror_mode": {
    "name": "ipython",
    "version": 3
   },
   "file_extension": ".py",
   "mimetype": "text/x-python",
   "name": "python",
   "nbconvert_exporter": "python",
   "pygments_lexer": "ipython3",
   "version": "3.11.13"
  }
 },
 "nbformat": 4,
 "nbformat_minor": 5
}
