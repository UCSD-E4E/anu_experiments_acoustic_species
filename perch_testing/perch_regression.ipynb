{
 "cells": [
  {
   "cell_type": "code",
   "execution_count": 1,
   "id": "875ca9d2",
   "metadata": {},
   "outputs": [],
   "source": [
    "# imports\n",
    "\n",
    "import pandas as pd\n",
    "from scipy.stats import chisquare\n",
    "import numpy as np\n"
   ]
  },
  {
   "cell_type": "code",
   "execution_count": 2,
   "id": "60d91cdf",
   "metadata": {},
   "outputs": [],
   "source": [
    "results = pd.read_csv('surfperch_results.csv')\n",
    "\n",
    "paola = pd.read_csv('paola.csv')"
   ]
  },
  {
   "cell_type": "code",
   "execution_count": 9,
   "id": "d6259a2c",
   "metadata": {},
   "outputs": [
    {
     "name": "stderr",
     "output_type": "stream",
     "text": [
      "/tmp/ipykernel_3172002/2956950399.py:1: FutureWarning: pandas.value_counts is deprecated and will be removed in a future version. Use pd.Series(obj).value_counts() instead.\n",
      "  pd.value_counts(paola['labels'])\n"
     ]
    },
    {
     "data": {
      "application/vnd.microsoft.datawrangler.viewer.v0+json": {
       "columns": [
        {
         "name": "labels",
         "rawType": "object",
         "type": "string"
        },
        {
         "name": "count",
         "rawType": "int64",
         "type": "integer"
        }
       ],
       "ref": "b706cb1a-4cc8-43bf-8ae6-c82b5fc12030",
       "rows": [
        [
         "[0 1]",
         "4673"
        ],
        [
         "[1 0]",
         "211"
        ]
       ],
       "shape": {
        "columns": 1,
        "rows": 2
       }
      },
      "text/plain": [
       "labels\n",
       "[0 1]    4673\n",
       "[1 0]     211\n",
       "Name: count, dtype: int64"
      ]
     },
     "execution_count": 9,
     "metadata": {},
     "output_type": "execute_result"
    }
   ],
   "source": [
    "pd.value_counts(paola['labels'])"
   ]
  },
  {
   "cell_type": "code",
   "execution_count": 3,
   "id": "2ffe783f",
   "metadata": {},
   "outputs": [],
   "source": [
    "combined = results.merge(paola, on='filepath', how='left')"
   ]
  },
  {
   "cell_type": "code",
   "execution_count": 4,
   "id": "ae6b8e1a",
   "metadata": {},
   "outputs": [],
   "source": [
    "contingency = pd.crosstab(combined['sound'], combined['labels'])"
   ]
  },
  {
   "cell_type": "code",
   "execution_count": 5,
   "id": "08696333",
   "metadata": {},
   "outputs": [],
   "source": [
    "def cs(n, y):\n",
    "    return chisquare(n, np.sum(n)/np.sum(y) * y)"
   ]
  },
  {
   "cell_type": "code",
   "execution_count": 6,
   "id": "ba36634a",
   "metadata": {},
   "outputs": [
    {
     "name": "stderr",
     "output_type": "stream",
     "text": [
      "/home/a.jajodia.229/acoustic/acoustic_knowledge_discovery/.venv/lib/python3.11/site-packages/scipy/stats/_stats_py.py:7335: RuntimeWarning: divide by zero encountered in divide\n",
      "  terms = (f_obs - f_exp)**2 / f_exp\n"
     ]
    },
    {
     "data": {
      "text/plain": [
       "Power_divergenceResult(statistic=inf, pvalue=0.0)"
      ]
     },
     "execution_count": 6,
     "metadata": {},
     "output_type": "execute_result"
    }
   ],
   "source": [
    "cs(contingency['[0 1]'], contingency['[1 0]'])"
   ]
  },
  {
   "cell_type": "code",
   "execution_count": 7,
   "id": "98432233",
   "metadata": {},
   "outputs": [
    {
     "data": {
      "application/vnd.microsoft.datawrangler.viewer.v0+json": {
       "columns": [
        {
         "name": "sound",
         "rawType": "object",
         "type": "string"
        },
        {
         "name": "[0 1]",
         "rawType": "int64",
         "type": "integer"
        },
        {
         "name": "[1 0]",
         "rawType": "int64",
         "type": "integer"
        }
       ],
       "ref": "d28a2025-2fd4-4742-93a3-a3730bb420eb",
       "rows": [
        [
         "anthrop",
         "30",
         "1"
        ],
        [
         "anthrop_bomb",
         "464",
         "14"
        ],
        [
         "bioph",
         "750",
         "12"
        ],
        [
         "bioph_cascading_saw",
         "4384",
         "206"
        ],
        [
         "bioph_chatter",
         "69",
         "3"
        ],
        [
         "bioph_chorus",
         "33",
         "0"
        ],
        [
         "bioph_croak",
         "737",
         "18"
        ],
        [
         "bioph_damselfish",
         "1464",
         "54"
        ],
        [
         "bioph_dolphin",
         "64",
         "6"
        ],
        [
         "bioph_double_pulse",
         "112",
         "10"
        ],
        [
         "bioph_epigut",
         "27",
         "2"
        ],
        [
         "bioph_grazing",
         "40",
         "1"
        ],
        [
         "bioph_grouper_a",
         "833",
         "63"
        ],
        [
         "bioph_grouper_groan",
         "1",
         "0"
        ],
        [
         "bioph_growl",
         "18",
         "1"
        ],
        [
         "bioph_holocentrus",
         "945",
         "33"
        ],
        [
         "bioph_knock_croak_b",
         "395",
         "39"
        ],
        [
         "bioph_knock_croak_c",
         "17",
         "0"
        ],
        [
         "bioph_low_growl",
         "1849",
         "36"
        ],
        [
         "bioph_megnov",
         "10",
         "1"
        ],
        [
         "bioph_midshipman",
         "836",
         "7"
        ],
        [
         "bioph_mycbon",
         "800",
         "2"
        ],
        [
         "bioph_pomamb",
         "3",
         "0"
        ],
        [
         "bioph_pulse",
         "303",
         "3"
        ],
        [
         "bioph_rattle",
         "9",
         "3"
        ],
        [
         "bioph_rattle_response",
         "7",
         "1"
        ],
        [
         "bioph_series_a",
         "1",
         "0"
        ],
        [
         "bioph_series_b",
         "2",
         "6"
        ],
        [
         "bioph_stridulation",
         "0",
         "7"
        ],
        [
         "bioph_whup",
         "8",
         "0"
        ],
        [
         "geoph",
         "72",
         "2"
        ]
       ],
       "shape": {
        "columns": 2,
        "rows": 31
       }
      },
      "text/html": [
       "<div>\n",
       "<style scoped>\n",
       "    .dataframe tbody tr th:only-of-type {\n",
       "        vertical-align: middle;\n",
       "    }\n",
       "\n",
       "    .dataframe tbody tr th {\n",
       "        vertical-align: top;\n",
       "    }\n",
       "\n",
       "    .dataframe thead th {\n",
       "        text-align: right;\n",
       "    }\n",
       "</style>\n",
       "<table border=\"1\" class=\"dataframe\">\n",
       "  <thead>\n",
       "    <tr style=\"text-align: right;\">\n",
       "      <th>labels</th>\n",
       "      <th>[0 1]</th>\n",
       "      <th>[1 0]</th>\n",
       "    </tr>\n",
       "    <tr>\n",
       "      <th>sound</th>\n",
       "      <th></th>\n",
       "      <th></th>\n",
       "    </tr>\n",
       "  </thead>\n",
       "  <tbody>\n",
       "    <tr>\n",
       "      <th>anthrop</th>\n",
       "      <td>30</td>\n",
       "      <td>1</td>\n",
       "    </tr>\n",
       "    <tr>\n",
       "      <th>anthrop_bomb</th>\n",
       "      <td>464</td>\n",
       "      <td>14</td>\n",
       "    </tr>\n",
       "    <tr>\n",
       "      <th>bioph</th>\n",
       "      <td>750</td>\n",
       "      <td>12</td>\n",
       "    </tr>\n",
       "    <tr>\n",
       "      <th>bioph_cascading_saw</th>\n",
       "      <td>4384</td>\n",
       "      <td>206</td>\n",
       "    </tr>\n",
       "    <tr>\n",
       "      <th>bioph_chatter</th>\n",
       "      <td>69</td>\n",
       "      <td>3</td>\n",
       "    </tr>\n",
       "    <tr>\n",
       "      <th>bioph_chorus</th>\n",
       "      <td>33</td>\n",
       "      <td>0</td>\n",
       "    </tr>\n",
       "    <tr>\n",
       "      <th>bioph_croak</th>\n",
       "      <td>737</td>\n",
       "      <td>18</td>\n",
       "    </tr>\n",
       "    <tr>\n",
       "      <th>bioph_damselfish</th>\n",
       "      <td>1464</td>\n",
       "      <td>54</td>\n",
       "    </tr>\n",
       "    <tr>\n",
       "      <th>bioph_dolphin</th>\n",
       "      <td>64</td>\n",
       "      <td>6</td>\n",
       "    </tr>\n",
       "    <tr>\n",
       "      <th>bioph_double_pulse</th>\n",
       "      <td>112</td>\n",
       "      <td>10</td>\n",
       "    </tr>\n",
       "    <tr>\n",
       "      <th>bioph_epigut</th>\n",
       "      <td>27</td>\n",
       "      <td>2</td>\n",
       "    </tr>\n",
       "    <tr>\n",
       "      <th>bioph_grazing</th>\n",
       "      <td>40</td>\n",
       "      <td>1</td>\n",
       "    </tr>\n",
       "    <tr>\n",
       "      <th>bioph_grouper_a</th>\n",
       "      <td>833</td>\n",
       "      <td>63</td>\n",
       "    </tr>\n",
       "    <tr>\n",
       "      <th>bioph_grouper_groan</th>\n",
       "      <td>1</td>\n",
       "      <td>0</td>\n",
       "    </tr>\n",
       "    <tr>\n",
       "      <th>bioph_growl</th>\n",
       "      <td>18</td>\n",
       "      <td>1</td>\n",
       "    </tr>\n",
       "    <tr>\n",
       "      <th>bioph_holocentrus</th>\n",
       "      <td>945</td>\n",
       "      <td>33</td>\n",
       "    </tr>\n",
       "    <tr>\n",
       "      <th>bioph_knock_croak_b</th>\n",
       "      <td>395</td>\n",
       "      <td>39</td>\n",
       "    </tr>\n",
       "    <tr>\n",
       "      <th>bioph_knock_croak_c</th>\n",
       "      <td>17</td>\n",
       "      <td>0</td>\n",
       "    </tr>\n",
       "    <tr>\n",
       "      <th>bioph_low_growl</th>\n",
       "      <td>1849</td>\n",
       "      <td>36</td>\n",
       "    </tr>\n",
       "    <tr>\n",
       "      <th>bioph_megnov</th>\n",
       "      <td>10</td>\n",
       "      <td>1</td>\n",
       "    </tr>\n",
       "    <tr>\n",
       "      <th>bioph_midshipman</th>\n",
       "      <td>836</td>\n",
       "      <td>7</td>\n",
       "    </tr>\n",
       "    <tr>\n",
       "      <th>bioph_mycbon</th>\n",
       "      <td>800</td>\n",
       "      <td>2</td>\n",
       "    </tr>\n",
       "    <tr>\n",
       "      <th>bioph_pomamb</th>\n",
       "      <td>3</td>\n",
       "      <td>0</td>\n",
       "    </tr>\n",
       "    <tr>\n",
       "      <th>bioph_pulse</th>\n",
       "      <td>303</td>\n",
       "      <td>3</td>\n",
       "    </tr>\n",
       "    <tr>\n",
       "      <th>bioph_rattle</th>\n",
       "      <td>9</td>\n",
       "      <td>3</td>\n",
       "    </tr>\n",
       "    <tr>\n",
       "      <th>bioph_rattle_response</th>\n",
       "      <td>7</td>\n",
       "      <td>1</td>\n",
       "    </tr>\n",
       "    <tr>\n",
       "      <th>bioph_series_a</th>\n",
       "      <td>1</td>\n",
       "      <td>0</td>\n",
       "    </tr>\n",
       "    <tr>\n",
       "      <th>bioph_series_b</th>\n",
       "      <td>2</td>\n",
       "      <td>6</td>\n",
       "    </tr>\n",
       "    <tr>\n",
       "      <th>bioph_stridulation</th>\n",
       "      <td>0</td>\n",
       "      <td>7</td>\n",
       "    </tr>\n",
       "    <tr>\n",
       "      <th>bioph_whup</th>\n",
       "      <td>8</td>\n",
       "      <td>0</td>\n",
       "    </tr>\n",
       "    <tr>\n",
       "      <th>geoph</th>\n",
       "      <td>72</td>\n",
       "      <td>2</td>\n",
       "    </tr>\n",
       "  </tbody>\n",
       "</table>\n",
       "</div>"
      ],
      "text/plain": [
       "labels                 [0 1]  [1 0]\n",
       "sound                              \n",
       "anthrop                   30      1\n",
       "anthrop_bomb             464     14\n",
       "bioph                    750     12\n",
       "bioph_cascading_saw     4384    206\n",
       "bioph_chatter             69      3\n",
       "bioph_chorus              33      0\n",
       "bioph_croak              737     18\n",
       "bioph_damselfish        1464     54\n",
       "bioph_dolphin             64      6\n",
       "bioph_double_pulse       112     10\n",
       "bioph_epigut              27      2\n",
       "bioph_grazing             40      1\n",
       "bioph_grouper_a          833     63\n",
       "bioph_grouper_groan        1      0\n",
       "bioph_growl               18      1\n",
       "bioph_holocentrus        945     33\n",
       "bioph_knock_croak_b      395     39\n",
       "bioph_knock_croak_c       17      0\n",
       "bioph_low_growl         1849     36\n",
       "bioph_megnov              10      1\n",
       "bioph_midshipman         836      7\n",
       "bioph_mycbon             800      2\n",
       "bioph_pomamb               3      0\n",
       "bioph_pulse              303      3\n",
       "bioph_rattle               9      3\n",
       "bioph_rattle_response      7      1\n",
       "bioph_series_a             1      0\n",
       "bioph_series_b             2      6\n",
       "bioph_stridulation         0      7\n",
       "bioph_whup                 8      0\n",
       "geoph                     72      2"
      ]
     },
     "execution_count": 7,
     "metadata": {},
     "output_type": "execute_result"
    }
   ],
   "source": [
    "contingency"
   ]
  }
 ],
 "metadata": {
  "kernelspec": {
   "display_name": "acoustic-knowledge (3.11.13)",
   "language": "python",
   "name": "python3"
  },
  "language_info": {
   "codemirror_mode": {
    "name": "ipython",
    "version": 3
   },
   "file_extension": ".py",
   "mimetype": "text/x-python",
   "name": "python",
   "nbconvert_exporter": "python",
   "pygments_lexer": "ipython3",
   "version": "3.11.13"
  }
 },
 "nbformat": 4,
 "nbformat_minor": 5
}
