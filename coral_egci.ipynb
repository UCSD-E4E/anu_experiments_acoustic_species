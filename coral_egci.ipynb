{
 "cells": [
  {
   "cell_type": "code",
   "execution_count": 44,
   "id": "8e1078ce",
   "metadata": {},
   "outputs": [],
   "source": [
    "# imports\n",
    "import librosa, os\n",
    "from scipy.linalg import svd, toeplitz\n",
    "from scipy.stats import zscore\n",
    "import numpy as np\n",
    "from scipy.stats import entropy\n",
    "from statsmodels.tsa.stattools import acf\n",
    "\n",
    "from tqdm.notebook import tqdm\n",
    "from random import sample\n",
    "import seaborn as sns\n",
    "import pandas as pd\n",
    "import matplotlib.pyplot as plt\n",
    "from multiprocessing import Pool\n",
    "from sklearn import svm, neighbors, model_selection\n",
    "from statistics import mean\n",
    "from sklearn.metrics import classification_report\n",
    "\n",
    "from pyha_analyzer import PyhaTrainer, PyhaTrainingArguments, extractors\n"
   ]
  },
  {
   "cell_type": "code",
   "execution_count": 45,
   "id": "86ca85f5",
   "metadata": {},
   "outputs": [],
   "source": [
    "lag = 512\n",
    "\n",
    "# juan colonna entropy\n",
    "\n",
    "def Entropy(p1):\n",
    "    p1 = p1/np.sum(p1)\n",
    "    return entropy(p1)/np.log(len(p1))\n",
    "# EGCI calculation from https://github.com/juancolonna/EGCI/blob/master/Example_of_EGCI_calculation.ipynb\n",
    "\n",
    "def JSD(p):\n",
    "    n = len(p)\n",
    "    q = np.ones(n)/n # Uniform reference\n",
    "    p = np.asarray(p)\n",
    "    q = np.asarray(q)\n",
    "    p = p/p.sum() # normalize\n",
    "    m = (p + q) / 2\n",
    "    jensen0 = -2*((((n+1)/n)*np.log(n+1)-2*np.log(2*n) + np.log(n))**(-1))\n",
    "    return jensen0*(entropy(p, m) + entropy(q, m)) / 2\n",
    "\n",
    "def EGCI(x):\n",
    "    x = zscore(x)\n",
    "    \n",
    "    # Algorithm steps \n",
    "    rxx = acf(x, nlags=lag, adjusted=True, fft=True) #https://github.com/blue-yonder/tsfresh/issues/902\n",
    "    Sxx = toeplitz(rxx)\n",
    "    U, s, Vt = np.linalg.svd(Sxx) #svd(Sxx)\n",
    "    \n",
    "    return Entropy(s), Entropy(s)*JSD(s) \n",
    "\n",
    "def process_data(data):\n",
    "    path = data[\"filepath\"]\n",
    "    \n",
    "    if (\".WAV\" not in path) and (\".wav\" not in path):\n",
    "        print(\"directory found\")\n",
    "        return None\n",
    "    \n",
    "    i = 0\n",
    "    audio, sr = librosa.load(path, sr=data['sample_rate'], duration=5, offset=i)\n",
    "\n",
    "    \n",
    "    if librosa.get_duration(y = audio, sr = sr) == 0:\n",
    "        return None\n",
    "    \n",
    "    h, c = EGCI(audio)\n",
    "\n",
    "    \n",
    "    \n",
    "    output_data = {\n",
    "            \"path\": path,\n",
    "            \"offset_s\": 0,\n",
    "            \"sr\": sr,\n",
    "            \"gt\": data['labels'],\n",
    "            \"site\": data['site_name'],\n",
    "            \"entropy\": h,\n",
    "            \"complexity\": c\n",
    "        }\n",
    "    return output_data"
   ]
  },
  {
   "cell_type": "code",
   "execution_count": 46,
   "id": "6858db6f",
   "metadata": {},
   "outputs": [
    {
     "name": "stdout",
     "output_type": "stream",
     "text": [
      "Site_A\n",
      "Site_B\n",
      "Site_C\n",
      "A_Degraded_Reef\n",
      "A_Non\n",
      "Australia\n",
      "French_Polynesia\n",
      "Indonesia\n",
      "count: 44558\n"
     ]
    },
    {
     "data": {
      "application/vnd.jupyter.widget-view+json": {
       "model_id": "067f4920d9cd4039a842973be0b65a9c",
       "version_major": 2,
       "version_minor": 0
      },
      "text/plain": [
       "Casting to class labels:   0%|          | 0/44558 [00:00<?, ? examples/s]"
      ]
     },
     "metadata": {},
     "output_type": "display_data"
    },
    {
     "data": {
      "application/vnd.jupyter.widget-view+json": {
       "model_id": "e1a5978b87d740418c7aa59b209aefab",
       "version_major": 2,
       "version_minor": 0
      },
      "text/plain": [
       "Filter:   0%|          | 0/44558 [00:00<?, ? examples/s]"
      ]
     },
     "metadata": {},
     "output_type": "display_data"
    },
    {
     "data": {
      "application/vnd.jupyter.widget-view+json": {
       "model_id": "2773eaa0abda40bf8f87b666f9f9f431",
       "version_major": 2,
       "version_minor": 0
      },
      "text/plain": [
       "Filter:   0%|          | 0/44558 [00:00<?, ? examples/s]"
      ]
     },
     "metadata": {},
     "output_type": "display_data"
    },
    {
     "data": {
      "application/vnd.jupyter.widget-view+json": {
       "model_id": "72c1d75fdfef409097f2383478987a31",
       "version_major": 2,
       "version_minor": 0
      },
      "text/plain": [
       "Filter:   0%|          | 0/44558 [00:00<?, ? examples/s]"
      ]
     },
     "metadata": {},
     "output_type": "display_data"
    },
    {
     "data": {
      "application/vnd.jupyter.widget-view+json": {
       "model_id": "9625be1e9894494598694be7eec391fe",
       "version_major": 2,
       "version_minor": 0
      },
      "text/plain": [
       "Filter:   0%|          | 0/44558 [00:00<?, ? examples/s]"
      ]
     },
     "metadata": {},
     "output_type": "display_data"
    },
    {
     "data": {
      "application/vnd.jupyter.widget-view+json": {
       "model_id": "4aa9f7976d764d3785440ae2a75343ce",
       "version_major": 2,
       "version_minor": 0
      },
      "text/plain": [
       "Filter:   0%|          | 0/44558 [00:00<?, ? examples/s]"
      ]
     },
     "metadata": {},
     "output_type": "display_data"
    },
    {
     "data": {
      "application/vnd.jupyter.widget-view+json": {
       "model_id": "3ec2bf20fd504f09bc339aedb452bd46",
       "version_major": 2,
       "version_minor": 0
      },
      "text/plain": [
       "Filter:   0%|          | 0/44558 [00:00<?, ? examples/s]"
      ]
     },
     "metadata": {},
     "output_type": "display_data"
    },
    {
     "data": {
      "application/vnd.jupyter.widget-view+json": {
       "model_id": "89ca026bea44415b84627bef3c53fef5",
       "version_major": 2,
       "version_minor": 0
      },
      "text/plain": [
       "Filter:   0%|          | 0/44558 [00:00<?, ? examples/s]"
      ]
     },
     "metadata": {},
     "output_type": "display_data"
    },
    {
     "data": {
      "application/vnd.jupyter.widget-view+json": {
       "model_id": "798ec54e220c4a70a5b912d9c212203a",
       "version_major": 2,
       "version_minor": 0
      },
      "text/plain": [
       "Filter:   0%|          | 0/44558 [00:00<?, ? examples/s]"
      ]
     },
     "metadata": {},
     "output_type": "display_data"
    },
    {
     "data": {
      "application/vnd.jupyter.widget-view+json": {
       "model_id": "e6af16a4f92642bb8174e0829d08d1e3",
       "version_major": 2,
       "version_minor": 0
      },
      "text/plain": [
       "Casting the dataset:   0%|          | 0/140 [00:00<?, ? examples/s]"
      ]
     },
     "metadata": {},
     "output_type": "display_data"
    },
    {
     "data": {
      "application/vnd.jupyter.widget-view+json": {
       "model_id": "b4a0bd86a4a44a13bea2df54734739ae",
       "version_major": 2,
       "version_minor": 0
      },
      "text/plain": [
       "Casting the dataset:   0%|          | 0/18 [00:00<?, ? examples/s]"
      ]
     },
     "metadata": {},
     "output_type": "display_data"
    },
    {
     "data": {
      "application/vnd.jupyter.widget-view+json": {
       "model_id": "adc7e240f0344365991f81e194eeeed1",
       "version_major": 2,
       "version_minor": 0
      },
      "text/plain": [
       "Casting the dataset:   0%|          | 0/42 [00:00<?, ? examples/s]"
      ]
     },
     "metadata": {},
     "output_type": "display_data"
    }
   ],
   "source": [
    "# getting all the wavs\n",
    "\n",
    "audio_path = \"/home/a.jajodia.229/acoustic/local_data/coral\"\n",
    "\n",
    "coralreef_extractor = extractors.MultiCoralReef()\n",
    "coral_ads = coralreef_extractor(\"/home/a.jajodia.229/acoustic/local_data/coral\", sampling = True)"
   ]
  },
  {
   "cell_type": "code",
   "execution_count": 47,
   "id": "43586517",
   "metadata": {},
   "outputs": [],
   "source": [
    "df = coral_ads['train'][0:100]"
   ]
  },
  {
   "cell_type": "code",
   "execution_count": 48,
   "id": "46b8d07b",
   "metadata": {},
   "outputs": [],
   "source": [
    "df = pd.DataFrame.from_records(df)\n",
    "df['site_name'] = df.apply(lambda row: coral_ads['train'].features['site'].names[row['site']], axis = 1)"
   ]
  },
  {
   "cell_type": "code",
   "execution_count": 49,
   "id": "073eb3ae",
   "metadata": {},
   "outputs": [],
   "source": [
    "def process_data_multiprocess(paths, process_data_func=process_data,  processes=8, sample=1000):\n",
    "    # sample = paths.sample(sample)\n",
    "    sample = paths\n",
    "    \n",
    "    samples = list(sample.T.to_dict().values())\n",
    "    \n",
    "    with Pool(processes) as p:\n",
    "        data = list(tqdm(p.imap(process_data_func, samples)))\n",
    "    return data"
   ]
  },
  {
   "cell_type": "code",
   "execution_count": 50,
   "id": "e9c6bb00",
   "metadata": {},
   "outputs": [
    {
     "data": {
      "text/html": [
       "<div>\n",
       "<style scoped>\n",
       "    .dataframe tbody tr th:only-of-type {\n",
       "        vertical-align: middle;\n",
       "    }\n",
       "\n",
       "    .dataframe tbody tr th {\n",
       "        vertical-align: top;\n",
       "    }\n",
       "\n",
       "    .dataframe thead th {\n",
       "        text-align: right;\n",
       "    }\n",
       "</style>\n",
       "<table border=\"1\" class=\"dataframe\">\n",
       "  <thead>\n",
       "    <tr style=\"text-align: right;\">\n",
       "      <th></th>\n",
       "      <th>audio</th>\n",
       "      <th>audio_in</th>\n",
       "      <th>filepath</th>\n",
       "      <th>labels</th>\n",
       "      <th>sample_rate</th>\n",
       "      <th>site</th>\n",
       "      <th>site_name</th>\n",
       "    </tr>\n",
       "  </thead>\n",
       "  <tbody>\n",
       "    <tr>\n",
       "      <th>0</th>\n",
       "      <td>{'path': '/home/a.jajodia.229/acoustic/local_d...</td>\n",
       "      <td>{'array': '/home/a.jajodia.229/acoustic/local_...</td>\n",
       "      <td>/home/a.jajodia.229/acoustic/local_data/coral/...</td>\n",
       "      <td>[0, 1]</td>\n",
       "      <td>44100</td>\n",
       "      <td>5</td>\n",
       "      <td>Site_A</td>\n",
       "    </tr>\n",
       "    <tr>\n",
       "      <th>1</th>\n",
       "      <td>{'path': '/home/a.jajodia.229/acoustic/local_d...</td>\n",
       "      <td>{'array': '/home/a.jajodia.229/acoustic/local_...</td>\n",
       "      <td>/home/a.jajodia.229/acoustic/local_data/coral/...</td>\n",
       "      <td>[0, 1]</td>\n",
       "      <td>44100</td>\n",
       "      <td>7</td>\n",
       "      <td>Site_C</td>\n",
       "    </tr>\n",
       "    <tr>\n",
       "      <th>2</th>\n",
       "      <td>{'path': '/home/a.jajodia.229/acoustic/local_d...</td>\n",
       "      <td>{'array': '/home/a.jajodia.229/acoustic/local_...</td>\n",
       "      <td>/home/a.jajodia.229/acoustic/local_data/coral/...</td>\n",
       "      <td>[0, 1]</td>\n",
       "      <td>48000</td>\n",
       "      <td>2</td>\n",
       "      <td>Australia</td>\n",
       "    </tr>\n",
       "    <tr>\n",
       "      <th>3</th>\n",
       "      <td>{'path': '/home/a.jajodia.229/acoustic/local_d...</td>\n",
       "      <td>{'array': '/home/a.jajodia.229/acoustic/local_...</td>\n",
       "      <td>/home/a.jajodia.229/acoustic/local_data/coral/...</td>\n",
       "      <td>[0, 1]</td>\n",
       "      <td>44100</td>\n",
       "      <td>7</td>\n",
       "      <td>Site_C</td>\n",
       "    </tr>\n",
       "    <tr>\n",
       "      <th>4</th>\n",
       "      <td>{'path': '/home/a.jajodia.229/acoustic/local_d...</td>\n",
       "      <td>{'array': '/home/a.jajodia.229/acoustic/local_...</td>\n",
       "      <td>/home/a.jajodia.229/acoustic/local_data/coral/...</td>\n",
       "      <td>[0, 1]</td>\n",
       "      <td>48000</td>\n",
       "      <td>4</td>\n",
       "      <td>Indonesia</td>\n",
       "    </tr>\n",
       "    <tr>\n",
       "      <th>...</th>\n",
       "      <td>...</td>\n",
       "      <td>...</td>\n",
       "      <td>...</td>\n",
       "      <td>...</td>\n",
       "      <td>...</td>\n",
       "      <td>...</td>\n",
       "      <td>...</td>\n",
       "    </tr>\n",
       "    <tr>\n",
       "      <th>95</th>\n",
       "      <td>{'path': '/home/a.jajodia.229/acoustic/local_d...</td>\n",
       "      <td>{'array': '/home/a.jajodia.229/acoustic/local_...</td>\n",
       "      <td>/home/a.jajodia.229/acoustic/local_data/coral/...</td>\n",
       "      <td>[0, 1]</td>\n",
       "      <td>44100</td>\n",
       "      <td>7</td>\n",
       "      <td>Site_C</td>\n",
       "    </tr>\n",
       "    <tr>\n",
       "      <th>96</th>\n",
       "      <td>{'path': '/home/a.jajodia.229/acoustic/local_d...</td>\n",
       "      <td>{'array': '/home/a.jajodia.229/acoustic/local_...</td>\n",
       "      <td>/home/a.jajodia.229/acoustic/local_data/coral/...</td>\n",
       "      <td>[0, 1]</td>\n",
       "      <td>48000</td>\n",
       "      <td>1</td>\n",
       "      <td>A_Non</td>\n",
       "    </tr>\n",
       "    <tr>\n",
       "      <th>97</th>\n",
       "      <td>{'path': '/home/a.jajodia.229/acoustic/local_d...</td>\n",
       "      <td>{'array': '/home/a.jajodia.229/acoustic/local_...</td>\n",
       "      <td>/home/a.jajodia.229/acoustic/local_data/coral/...</td>\n",
       "      <td>[0, 1]</td>\n",
       "      <td>48000</td>\n",
       "      <td>3</td>\n",
       "      <td>French_Polynesia</td>\n",
       "    </tr>\n",
       "    <tr>\n",
       "      <th>98</th>\n",
       "      <td>{'path': '/home/a.jajodia.229/acoustic/local_d...</td>\n",
       "      <td>{'array': '/home/a.jajodia.229/acoustic/local_...</td>\n",
       "      <td>/home/a.jajodia.229/acoustic/local_data/coral/...</td>\n",
       "      <td>[0, 1]</td>\n",
       "      <td>48000</td>\n",
       "      <td>4</td>\n",
       "      <td>Indonesia</td>\n",
       "    </tr>\n",
       "    <tr>\n",
       "      <th>99</th>\n",
       "      <td>{'path': '/home/a.jajodia.229/acoustic/local_d...</td>\n",
       "      <td>{'array': '/home/a.jajodia.229/acoustic/local_...</td>\n",
       "      <td>/home/a.jajodia.229/acoustic/local_data/coral/...</td>\n",
       "      <td>[0, 1]</td>\n",
       "      <td>48000</td>\n",
       "      <td>3</td>\n",
       "      <td>French_Polynesia</td>\n",
       "    </tr>\n",
       "  </tbody>\n",
       "</table>\n",
       "<p>100 rows × 7 columns</p>\n",
       "</div>"
      ],
      "text/plain": [
       "                                                audio  \\\n",
       "0   {'path': '/home/a.jajodia.229/acoustic/local_d...   \n",
       "1   {'path': '/home/a.jajodia.229/acoustic/local_d...   \n",
       "2   {'path': '/home/a.jajodia.229/acoustic/local_d...   \n",
       "3   {'path': '/home/a.jajodia.229/acoustic/local_d...   \n",
       "4   {'path': '/home/a.jajodia.229/acoustic/local_d...   \n",
       "..                                                ...   \n",
       "95  {'path': '/home/a.jajodia.229/acoustic/local_d...   \n",
       "96  {'path': '/home/a.jajodia.229/acoustic/local_d...   \n",
       "97  {'path': '/home/a.jajodia.229/acoustic/local_d...   \n",
       "98  {'path': '/home/a.jajodia.229/acoustic/local_d...   \n",
       "99  {'path': '/home/a.jajodia.229/acoustic/local_d...   \n",
       "\n",
       "                                             audio_in  \\\n",
       "0   {'array': '/home/a.jajodia.229/acoustic/local_...   \n",
       "1   {'array': '/home/a.jajodia.229/acoustic/local_...   \n",
       "2   {'array': '/home/a.jajodia.229/acoustic/local_...   \n",
       "3   {'array': '/home/a.jajodia.229/acoustic/local_...   \n",
       "4   {'array': '/home/a.jajodia.229/acoustic/local_...   \n",
       "..                                                ...   \n",
       "95  {'array': '/home/a.jajodia.229/acoustic/local_...   \n",
       "96  {'array': '/home/a.jajodia.229/acoustic/local_...   \n",
       "97  {'array': '/home/a.jajodia.229/acoustic/local_...   \n",
       "98  {'array': '/home/a.jajodia.229/acoustic/local_...   \n",
       "99  {'array': '/home/a.jajodia.229/acoustic/local_...   \n",
       "\n",
       "                                             filepath  labels  sample_rate  \\\n",
       "0   /home/a.jajodia.229/acoustic/local_data/coral/...  [0, 1]        44100   \n",
       "1   /home/a.jajodia.229/acoustic/local_data/coral/...  [0, 1]        44100   \n",
       "2   /home/a.jajodia.229/acoustic/local_data/coral/...  [0, 1]        48000   \n",
       "3   /home/a.jajodia.229/acoustic/local_data/coral/...  [0, 1]        44100   \n",
       "4   /home/a.jajodia.229/acoustic/local_data/coral/...  [0, 1]        48000   \n",
       "..                                                ...     ...          ...   \n",
       "95  /home/a.jajodia.229/acoustic/local_data/coral/...  [0, 1]        44100   \n",
       "96  /home/a.jajodia.229/acoustic/local_data/coral/...  [0, 1]        48000   \n",
       "97  /home/a.jajodia.229/acoustic/local_data/coral/...  [0, 1]        48000   \n",
       "98  /home/a.jajodia.229/acoustic/local_data/coral/...  [0, 1]        48000   \n",
       "99  /home/a.jajodia.229/acoustic/local_data/coral/...  [0, 1]        48000   \n",
       "\n",
       "    site         site_name  \n",
       "0      5            Site_A  \n",
       "1      7            Site_C  \n",
       "2      2         Australia  \n",
       "3      7            Site_C  \n",
       "4      4         Indonesia  \n",
       "..   ...               ...  \n",
       "95     7            Site_C  \n",
       "96     1             A_Non  \n",
       "97     3  French_Polynesia  \n",
       "98     4         Indonesia  \n",
       "99     3  French_Polynesia  \n",
       "\n",
       "[100 rows x 7 columns]"
      ]
     },
     "execution_count": 50,
     "metadata": {},
     "output_type": "execute_result"
    }
   ],
   "source": [
    "df"
   ]
  },
  {
   "cell_type": "code",
   "execution_count": 51,
   "id": "56b297a9",
   "metadata": {},
   "outputs": [
    {
     "data": {
      "application/vnd.jupyter.widget-view+json": {
       "model_id": "3bb6bea31eef41b5a8329c16c73de153",
       "version_major": 2,
       "version_minor": 0
      },
      "text/plain": [
       "0it [00:00, ?it/s]"
      ]
     },
     "metadata": {},
     "output_type": "display_data"
    }
   ],
   "source": [
    "processed_data_no_none = [process_data(row) for index, row in tqdm(df.iterrows())]"
   ]
  },
  {
   "cell_type": "code",
   "execution_count": 52,
   "id": "2dccc8ba",
   "metadata": {},
   "outputs": [
    {
     "data": {
      "text/html": [
       "<div>\n",
       "<style scoped>\n",
       "    .dataframe tbody tr th:only-of-type {\n",
       "        vertical-align: middle;\n",
       "    }\n",
       "\n",
       "    .dataframe tbody tr th {\n",
       "        vertical-align: top;\n",
       "    }\n",
       "\n",
       "    .dataframe thead th {\n",
       "        text-align: right;\n",
       "    }\n",
       "</style>\n",
       "<table border=\"1\" class=\"dataframe\">\n",
       "  <thead>\n",
       "    <tr style=\"text-align: right;\">\n",
       "      <th></th>\n",
       "      <th>audio</th>\n",
       "      <th>audio_in</th>\n",
       "      <th>filepath</th>\n",
       "      <th>labels</th>\n",
       "      <th>sample_rate</th>\n",
       "      <th>site</th>\n",
       "      <th>site_name</th>\n",
       "    </tr>\n",
       "  </thead>\n",
       "  <tbody>\n",
       "    <tr>\n",
       "      <th>0</th>\n",
       "      <td>{'path': '/home/a.jajodia.229/acoustic/local_d...</td>\n",
       "      <td>{'array': '/home/a.jajodia.229/acoustic/local_...</td>\n",
       "      <td>/home/a.jajodia.229/acoustic/local_data/coral/...</td>\n",
       "      <td>[0, 1]</td>\n",
       "      <td>44100</td>\n",
       "      <td>5</td>\n",
       "      <td>Site_A</td>\n",
       "    </tr>\n",
       "    <tr>\n",
       "      <th>1</th>\n",
       "      <td>{'path': '/home/a.jajodia.229/acoustic/local_d...</td>\n",
       "      <td>{'array': '/home/a.jajodia.229/acoustic/local_...</td>\n",
       "      <td>/home/a.jajodia.229/acoustic/local_data/coral/...</td>\n",
       "      <td>[0, 1]</td>\n",
       "      <td>44100</td>\n",
       "      <td>7</td>\n",
       "      <td>Site_C</td>\n",
       "    </tr>\n",
       "    <tr>\n",
       "      <th>2</th>\n",
       "      <td>{'path': '/home/a.jajodia.229/acoustic/local_d...</td>\n",
       "      <td>{'array': '/home/a.jajodia.229/acoustic/local_...</td>\n",
       "      <td>/home/a.jajodia.229/acoustic/local_data/coral/...</td>\n",
       "      <td>[0, 1]</td>\n",
       "      <td>48000</td>\n",
       "      <td>2</td>\n",
       "      <td>Australia</td>\n",
       "    </tr>\n",
       "    <tr>\n",
       "      <th>3</th>\n",
       "      <td>{'path': '/home/a.jajodia.229/acoustic/local_d...</td>\n",
       "      <td>{'array': '/home/a.jajodia.229/acoustic/local_...</td>\n",
       "      <td>/home/a.jajodia.229/acoustic/local_data/coral/...</td>\n",
       "      <td>[0, 1]</td>\n",
       "      <td>44100</td>\n",
       "      <td>7</td>\n",
       "      <td>Site_C</td>\n",
       "    </tr>\n",
       "    <tr>\n",
       "      <th>4</th>\n",
       "      <td>{'path': '/home/a.jajodia.229/acoustic/local_d...</td>\n",
       "      <td>{'array': '/home/a.jajodia.229/acoustic/local_...</td>\n",
       "      <td>/home/a.jajodia.229/acoustic/local_data/coral/...</td>\n",
       "      <td>[0, 1]</td>\n",
       "      <td>48000</td>\n",
       "      <td>4</td>\n",
       "      <td>Indonesia</td>\n",
       "    </tr>\n",
       "    <tr>\n",
       "      <th>...</th>\n",
       "      <td>...</td>\n",
       "      <td>...</td>\n",
       "      <td>...</td>\n",
       "      <td>...</td>\n",
       "      <td>...</td>\n",
       "      <td>...</td>\n",
       "      <td>...</td>\n",
       "    </tr>\n",
       "    <tr>\n",
       "      <th>95</th>\n",
       "      <td>{'path': '/home/a.jajodia.229/acoustic/local_d...</td>\n",
       "      <td>{'array': '/home/a.jajodia.229/acoustic/local_...</td>\n",
       "      <td>/home/a.jajodia.229/acoustic/local_data/coral/...</td>\n",
       "      <td>[0, 1]</td>\n",
       "      <td>44100</td>\n",
       "      <td>7</td>\n",
       "      <td>Site_C</td>\n",
       "    </tr>\n",
       "    <tr>\n",
       "      <th>96</th>\n",
       "      <td>{'path': '/home/a.jajodia.229/acoustic/local_d...</td>\n",
       "      <td>{'array': '/home/a.jajodia.229/acoustic/local_...</td>\n",
       "      <td>/home/a.jajodia.229/acoustic/local_data/coral/...</td>\n",
       "      <td>[0, 1]</td>\n",
       "      <td>48000</td>\n",
       "      <td>1</td>\n",
       "      <td>A_Non</td>\n",
       "    </tr>\n",
       "    <tr>\n",
       "      <th>97</th>\n",
       "      <td>{'path': '/home/a.jajodia.229/acoustic/local_d...</td>\n",
       "      <td>{'array': '/home/a.jajodia.229/acoustic/local_...</td>\n",
       "      <td>/home/a.jajodia.229/acoustic/local_data/coral/...</td>\n",
       "      <td>[0, 1]</td>\n",
       "      <td>48000</td>\n",
       "      <td>3</td>\n",
       "      <td>French_Polynesia</td>\n",
       "    </tr>\n",
       "    <tr>\n",
       "      <th>98</th>\n",
       "      <td>{'path': '/home/a.jajodia.229/acoustic/local_d...</td>\n",
       "      <td>{'array': '/home/a.jajodia.229/acoustic/local_...</td>\n",
       "      <td>/home/a.jajodia.229/acoustic/local_data/coral/...</td>\n",
       "      <td>[0, 1]</td>\n",
       "      <td>48000</td>\n",
       "      <td>4</td>\n",
       "      <td>Indonesia</td>\n",
       "    </tr>\n",
       "    <tr>\n",
       "      <th>99</th>\n",
       "      <td>{'path': '/home/a.jajodia.229/acoustic/local_d...</td>\n",
       "      <td>{'array': '/home/a.jajodia.229/acoustic/local_...</td>\n",
       "      <td>/home/a.jajodia.229/acoustic/local_data/coral/...</td>\n",
       "      <td>[0, 1]</td>\n",
       "      <td>48000</td>\n",
       "      <td>3</td>\n",
       "      <td>French_Polynesia</td>\n",
       "    </tr>\n",
       "  </tbody>\n",
       "</table>\n",
       "<p>100 rows × 7 columns</p>\n",
       "</div>"
      ],
      "text/plain": [
       "                                                audio  \\\n",
       "0   {'path': '/home/a.jajodia.229/acoustic/local_d...   \n",
       "1   {'path': '/home/a.jajodia.229/acoustic/local_d...   \n",
       "2   {'path': '/home/a.jajodia.229/acoustic/local_d...   \n",
       "3   {'path': '/home/a.jajodia.229/acoustic/local_d...   \n",
       "4   {'path': '/home/a.jajodia.229/acoustic/local_d...   \n",
       "..                                                ...   \n",
       "95  {'path': '/home/a.jajodia.229/acoustic/local_d...   \n",
       "96  {'path': '/home/a.jajodia.229/acoustic/local_d...   \n",
       "97  {'path': '/home/a.jajodia.229/acoustic/local_d...   \n",
       "98  {'path': '/home/a.jajodia.229/acoustic/local_d...   \n",
       "99  {'path': '/home/a.jajodia.229/acoustic/local_d...   \n",
       "\n",
       "                                             audio_in  \\\n",
       "0   {'array': '/home/a.jajodia.229/acoustic/local_...   \n",
       "1   {'array': '/home/a.jajodia.229/acoustic/local_...   \n",
       "2   {'array': '/home/a.jajodia.229/acoustic/local_...   \n",
       "3   {'array': '/home/a.jajodia.229/acoustic/local_...   \n",
       "4   {'array': '/home/a.jajodia.229/acoustic/local_...   \n",
       "..                                                ...   \n",
       "95  {'array': '/home/a.jajodia.229/acoustic/local_...   \n",
       "96  {'array': '/home/a.jajodia.229/acoustic/local_...   \n",
       "97  {'array': '/home/a.jajodia.229/acoustic/local_...   \n",
       "98  {'array': '/home/a.jajodia.229/acoustic/local_...   \n",
       "99  {'array': '/home/a.jajodia.229/acoustic/local_...   \n",
       "\n",
       "                                             filepath  labels  sample_rate  \\\n",
       "0   /home/a.jajodia.229/acoustic/local_data/coral/...  [0, 1]        44100   \n",
       "1   /home/a.jajodia.229/acoustic/local_data/coral/...  [0, 1]        44100   \n",
       "2   /home/a.jajodia.229/acoustic/local_data/coral/...  [0, 1]        48000   \n",
       "3   /home/a.jajodia.229/acoustic/local_data/coral/...  [0, 1]        44100   \n",
       "4   /home/a.jajodia.229/acoustic/local_data/coral/...  [0, 1]        48000   \n",
       "..                                                ...     ...          ...   \n",
       "95  /home/a.jajodia.229/acoustic/local_data/coral/...  [0, 1]        44100   \n",
       "96  /home/a.jajodia.229/acoustic/local_data/coral/...  [0, 1]        48000   \n",
       "97  /home/a.jajodia.229/acoustic/local_data/coral/...  [0, 1]        48000   \n",
       "98  /home/a.jajodia.229/acoustic/local_data/coral/...  [0, 1]        48000   \n",
       "99  /home/a.jajodia.229/acoustic/local_data/coral/...  [0, 1]        48000   \n",
       "\n",
       "    site         site_name  \n",
       "0      5            Site_A  \n",
       "1      7            Site_C  \n",
       "2      2         Australia  \n",
       "3      7            Site_C  \n",
       "4      4         Indonesia  \n",
       "..   ...               ...  \n",
       "95     7            Site_C  \n",
       "96     1             A_Non  \n",
       "97     3  French_Polynesia  \n",
       "98     4         Indonesia  \n",
       "99     3  French_Polynesia  \n",
       "\n",
       "[100 rows x 7 columns]"
      ]
     },
     "execution_count": 52,
     "metadata": {},
     "output_type": "execute_result"
    }
   ],
   "source": [
    "df"
   ]
  },
  {
   "cell_type": "code",
   "execution_count": 53,
   "id": "f541422f",
   "metadata": {},
   "outputs": [
    {
     "ename": "AttributeError",
     "evalue": "'NoneType' object has no attribute 'keys'",
     "output_type": "error",
     "traceback": [
      "\u001b[31m---------------------------------------------------------------------------\u001b[39m",
      "\u001b[31mAttributeError\u001b[39m                            Traceback (most recent call last)",
      "\u001b[36mCell\u001b[39m\u001b[36m \u001b[39m\u001b[32mIn[53]\u001b[39m\u001b[32m, line 1\u001b[39m\n\u001b[32m----> \u001b[39m\u001b[32m1\u001b[39m df = \u001b[43mpd\u001b[49m\u001b[43m.\u001b[49m\u001b[43mDataFrame\u001b[49m\u001b[43m.\u001b[49m\u001b[43mfrom_records\u001b[49m\u001b[43m(\u001b[49m\u001b[43mprocessed_data_no_none\u001b[49m\u001b[43m)\u001b[49m\n\u001b[32m      3\u001b[39m df.to_csv(\u001b[33m\"\u001b[39m\u001b[33mcoral_egci.csv\u001b[39m\u001b[33m\"\u001b[39m)\n",
      "\u001b[36mFile \u001b[39m\u001b[32m~/acoustic/acoustic_knowledge_discovery/.venv/lib/python3.11/site-packages/pandas/core/frame.py:2496\u001b[39m, in \u001b[36mDataFrame.from_records\u001b[39m\u001b[34m(cls, data, index, exclude, columns, coerce_float, nrows)\u001b[39m\n\u001b[32m   2494\u001b[39m     arr_columns = columns\n\u001b[32m   2495\u001b[39m \u001b[38;5;28;01melse\u001b[39;00m:\n\u001b[32m-> \u001b[39m\u001b[32m2496\u001b[39m     arrays, arr_columns = \u001b[43mto_arrays\u001b[49m\u001b[43m(\u001b[49m\u001b[43mdata\u001b[49m\u001b[43m,\u001b[49m\u001b[43m \u001b[49m\u001b[43mcolumns\u001b[49m\u001b[43m)\u001b[49m\n\u001b[32m   2497\u001b[39m     \u001b[38;5;28;01mif\u001b[39;00m coerce_float:\n\u001b[32m   2498\u001b[39m         \u001b[38;5;28;01mfor\u001b[39;00m i, arr \u001b[38;5;129;01min\u001b[39;00m \u001b[38;5;28menumerate\u001b[39m(arrays):\n",
      "\u001b[36mFile \u001b[39m\u001b[32m~/acoustic/acoustic_knowledge_discovery/.venv/lib/python3.11/site-packages/pandas/core/internals/construction.py:837\u001b[39m, in \u001b[36mto_arrays\u001b[39m\u001b[34m(data, columns, dtype)\u001b[39m\n\u001b[32m    835\u001b[39m     arr = _list_to_arrays(data)\n\u001b[32m    836\u001b[39m \u001b[38;5;28;01melif\u001b[39;00m \u001b[38;5;28misinstance\u001b[39m(data[\u001b[32m0\u001b[39m], abc.Mapping):\n\u001b[32m--> \u001b[39m\u001b[32m837\u001b[39m     arr, columns = \u001b[43m_list_of_dict_to_arrays\u001b[49m\u001b[43m(\u001b[49m\u001b[43mdata\u001b[49m\u001b[43m,\u001b[49m\u001b[43m \u001b[49m\u001b[43mcolumns\u001b[49m\u001b[43m)\u001b[49m\n\u001b[32m    838\u001b[39m \u001b[38;5;28;01melif\u001b[39;00m \u001b[38;5;28misinstance\u001b[39m(data[\u001b[32m0\u001b[39m], ABCSeries):\n\u001b[32m    839\u001b[39m     arr, columns = _list_of_series_to_arrays(data, columns)\n",
      "\u001b[36mFile \u001b[39m\u001b[32m~/acoustic/acoustic_knowledge_discovery/.venv/lib/python3.11/site-packages/pandas/core/internals/construction.py:917\u001b[39m, in \u001b[36m_list_of_dict_to_arrays\u001b[39m\u001b[34m(data, columns)\u001b[39m\n\u001b[32m    915\u001b[39m     gen = (\u001b[38;5;28mlist\u001b[39m(x.keys()) \u001b[38;5;28;01mfor\u001b[39;00m x \u001b[38;5;129;01min\u001b[39;00m data)\n\u001b[32m    916\u001b[39m     sort = \u001b[38;5;129;01mnot\u001b[39;00m \u001b[38;5;28many\u001b[39m(\u001b[38;5;28misinstance\u001b[39m(d, \u001b[38;5;28mdict\u001b[39m) \u001b[38;5;28;01mfor\u001b[39;00m d \u001b[38;5;129;01min\u001b[39;00m data)\n\u001b[32m--> \u001b[39m\u001b[32m917\u001b[39m     pre_cols = \u001b[43mlib\u001b[49m\u001b[43m.\u001b[49m\u001b[43mfast_unique_multiple_list_gen\u001b[49m\u001b[43m(\u001b[49m\u001b[43mgen\u001b[49m\u001b[43m,\u001b[49m\u001b[43m \u001b[49m\u001b[43msort\u001b[49m\u001b[43m=\u001b[49m\u001b[43msort\u001b[49m\u001b[43m)\u001b[49m\n\u001b[32m    918\u001b[39m     columns = ensure_index(pre_cols)\n\u001b[32m    920\u001b[39m \u001b[38;5;66;03m# assure that they are of the base dict class and not of derived\u001b[39;00m\n\u001b[32m    921\u001b[39m \u001b[38;5;66;03m# classes\u001b[39;00m\n",
      "\u001b[36mFile \u001b[39m\u001b[32mpandas/_libs/lib.pyx:367\u001b[39m, in \u001b[36mpandas._libs.lib.fast_unique_multiple_list_gen\u001b[39m\u001b[34m()\u001b[39m\n",
      "\u001b[36mFile \u001b[39m\u001b[32m~/acoustic/acoustic_knowledge_discovery/.venv/lib/python3.11/site-packages/pandas/core/internals/construction.py:915\u001b[39m, in \u001b[36m<genexpr>\u001b[39m\u001b[34m(.0)\u001b[39m\n\u001b[32m    895\u001b[39m \u001b[38;5;250m\u001b[39m\u001b[33;03m\"\"\"\u001b[39;00m\n\u001b[32m    896\u001b[39m \u001b[33;03mConvert list of dicts to numpy arrays\u001b[39;00m\n\u001b[32m    897\u001b[39m \n\u001b[32m   (...)\u001b[39m\u001b[32m    912\u001b[39m \u001b[33;03mcolumns : Index\u001b[39;00m\n\u001b[32m    913\u001b[39m \u001b[33;03m\"\"\"\u001b[39;00m\n\u001b[32m    914\u001b[39m \u001b[38;5;28;01mif\u001b[39;00m columns \u001b[38;5;129;01mis\u001b[39;00m \u001b[38;5;28;01mNone\u001b[39;00m:\n\u001b[32m--> \u001b[39m\u001b[32m915\u001b[39m     gen = (\u001b[38;5;28mlist\u001b[39m(\u001b[43mx\u001b[49m\u001b[43m.\u001b[49m\u001b[43mkeys\u001b[49m()) \u001b[38;5;28;01mfor\u001b[39;00m x \u001b[38;5;129;01min\u001b[39;00m data)\n\u001b[32m    916\u001b[39m     sort = \u001b[38;5;129;01mnot\u001b[39;00m \u001b[38;5;28many\u001b[39m(\u001b[38;5;28misinstance\u001b[39m(d, \u001b[38;5;28mdict\u001b[39m) \u001b[38;5;28;01mfor\u001b[39;00m d \u001b[38;5;129;01min\u001b[39;00m data)\n\u001b[32m    917\u001b[39m     pre_cols = lib.fast_unique_multiple_list_gen(gen, sort=sort)\n",
      "\u001b[31mAttributeError\u001b[39m: 'NoneType' object has no attribute 'keys'"
     ]
    }
   ],
   "source": [
    "df = pd.DataFrame.from_records(processed_data_no_none)\n",
    "\n",
    "df.to_csv(\"coral_egci.csv\")"
   ]
  },
  {
   "cell_type": "code",
   "execution_count": null,
   "id": "7ec8395c",
   "metadata": {},
   "outputs": [
    {
     "data": {
      "text/html": [
       "<div>\n",
       "<style scoped>\n",
       "    .dataframe tbody tr th:only-of-type {\n",
       "        vertical-align: middle;\n",
       "    }\n",
       "\n",
       "    .dataframe tbody tr th {\n",
       "        vertical-align: top;\n",
       "    }\n",
       "\n",
       "    .dataframe thead th {\n",
       "        text-align: right;\n",
       "    }\n",
       "</style>\n",
       "<table border=\"1\" class=\"dataframe\">\n",
       "  <thead>\n",
       "    <tr style=\"text-align: right;\">\n",
       "      <th></th>\n",
       "      <th>path</th>\n",
       "      <th>offset_s</th>\n",
       "      <th>sr</th>\n",
       "      <th>gt</th>\n",
       "      <th>site</th>\n",
       "      <th>entropy</th>\n",
       "      <th>complexity</th>\n",
       "    </tr>\n",
       "  </thead>\n",
       "  <tbody>\n",
       "    <tr>\n",
       "      <th>0</th>\n",
       "      <td>/home/a.jajodia.229/acoustic/local_data/coral/...</td>\n",
       "      <td>0</td>\n",
       "      <td>48000</td>\n",
       "      <td>[0, 1]</td>\n",
       "      <td>1</td>\n",
       "      <td>0.945829</td>\n",
       "      <td>0.110177</td>\n",
       "    </tr>\n",
       "    <tr>\n",
       "      <th>1</th>\n",
       "      <td>/home/a.jajodia.229/acoustic/local_data/coral/...</td>\n",
       "      <td>0</td>\n",
       "      <td>44100</td>\n",
       "      <td>[0, 1]</td>\n",
       "      <td>7</td>\n",
       "      <td>0.790092</td>\n",
       "      <td>0.264507</td>\n",
       "    </tr>\n",
       "    <tr>\n",
       "      <th>2</th>\n",
       "      <td>/home/a.jajodia.229/acoustic/local_data/coral/...</td>\n",
       "      <td>0</td>\n",
       "      <td>48000</td>\n",
       "      <td>[0, 1]</td>\n",
       "      <td>2</td>\n",
       "      <td>0.948085</td>\n",
       "      <td>0.123941</td>\n",
       "    </tr>\n",
       "    <tr>\n",
       "      <th>3</th>\n",
       "      <td>/home/a.jajodia.229/acoustic/local_data/coral/...</td>\n",
       "      <td>0</td>\n",
       "      <td>48000</td>\n",
       "      <td>[0, 1]</td>\n",
       "      <td>3</td>\n",
       "      <td>0.928456</td>\n",
       "      <td>0.157787</td>\n",
       "    </tr>\n",
       "    <tr>\n",
       "      <th>4</th>\n",
       "      <td>/home/a.jajodia.229/acoustic/local_data/coral/...</td>\n",
       "      <td>0</td>\n",
       "      <td>48000</td>\n",
       "      <td>[0, 1]</td>\n",
       "      <td>2</td>\n",
       "      <td>0.940934</td>\n",
       "      <td>0.135219</td>\n",
       "    </tr>\n",
       "    <tr>\n",
       "      <th>...</th>\n",
       "      <td>...</td>\n",
       "      <td>...</td>\n",
       "      <td>...</td>\n",
       "      <td>...</td>\n",
       "      <td>...</td>\n",
       "      <td>...</td>\n",
       "      <td>...</td>\n",
       "    </tr>\n",
       "    <tr>\n",
       "      <th>95</th>\n",
       "      <td>/home/a.jajodia.229/acoustic/local_data/coral/...</td>\n",
       "      <td>0</td>\n",
       "      <td>44100</td>\n",
       "      <td>[0, 1]</td>\n",
       "      <td>6</td>\n",
       "      <td>0.902646</td>\n",
       "      <td>0.191268</td>\n",
       "    </tr>\n",
       "    <tr>\n",
       "      <th>96</th>\n",
       "      <td>/home/a.jajodia.229/acoustic/local_data/coral/...</td>\n",
       "      <td>0</td>\n",
       "      <td>44100</td>\n",
       "      <td>[0, 1]</td>\n",
       "      <td>7</td>\n",
       "      <td>0.485067</td>\n",
       "      <td>0.362475</td>\n",
       "    </tr>\n",
       "    <tr>\n",
       "      <th>97</th>\n",
       "      <td>/home/a.jajodia.229/acoustic/local_data/coral/...</td>\n",
       "      <td>0</td>\n",
       "      <td>48000</td>\n",
       "      <td>[0, 1]</td>\n",
       "      <td>3</td>\n",
       "      <td>0.943854</td>\n",
       "      <td>0.130543</td>\n",
       "    </tr>\n",
       "    <tr>\n",
       "      <th>98</th>\n",
       "      <td>/home/a.jajodia.229/acoustic/local_data/coral/...</td>\n",
       "      <td>0</td>\n",
       "      <td>44100</td>\n",
       "      <td>[0, 1]</td>\n",
       "      <td>6</td>\n",
       "      <td>0.680992</td>\n",
       "      <td>0.335606</td>\n",
       "    </tr>\n",
       "    <tr>\n",
       "      <th>99</th>\n",
       "      <td>/home/a.jajodia.229/acoustic/local_data/coral/...</td>\n",
       "      <td>0</td>\n",
       "      <td>44100</td>\n",
       "      <td>[0, 1]</td>\n",
       "      <td>7</td>\n",
       "      <td>0.454766</td>\n",
       "      <td>0.365974</td>\n",
       "    </tr>\n",
       "  </tbody>\n",
       "</table>\n",
       "<p>100 rows × 7 columns</p>\n",
       "</div>"
      ],
      "text/plain": [
       "                                                 path  offset_s     sr  \\\n",
       "0   /home/a.jajodia.229/acoustic/local_data/coral/...         0  48000   \n",
       "1   /home/a.jajodia.229/acoustic/local_data/coral/...         0  44100   \n",
       "2   /home/a.jajodia.229/acoustic/local_data/coral/...         0  48000   \n",
       "3   /home/a.jajodia.229/acoustic/local_data/coral/...         0  48000   \n",
       "4   /home/a.jajodia.229/acoustic/local_data/coral/...         0  48000   \n",
       "..                                                ...       ...    ...   \n",
       "95  /home/a.jajodia.229/acoustic/local_data/coral/...         0  44100   \n",
       "96  /home/a.jajodia.229/acoustic/local_data/coral/...         0  44100   \n",
       "97  /home/a.jajodia.229/acoustic/local_data/coral/...         0  48000   \n",
       "98  /home/a.jajodia.229/acoustic/local_data/coral/...         0  44100   \n",
       "99  /home/a.jajodia.229/acoustic/local_data/coral/...         0  44100   \n",
       "\n",
       "        gt  site   entropy  complexity  \n",
       "0   [0, 1]     1  0.945829    0.110177  \n",
       "1   [0, 1]     7  0.790092    0.264507  \n",
       "2   [0, 1]     2  0.948085    0.123941  \n",
       "3   [0, 1]     3  0.928456    0.157787  \n",
       "4   [0, 1]     2  0.940934    0.135219  \n",
       "..     ...   ...       ...         ...  \n",
       "95  [0, 1]     6  0.902646    0.191268  \n",
       "96  [0, 1]     7  0.485067    0.362475  \n",
       "97  [0, 1]     3  0.943854    0.130543  \n",
       "98  [0, 1]     6  0.680992    0.335606  \n",
       "99  [0, 1]     7  0.454766    0.365974  \n",
       "\n",
       "[100 rows x 7 columns]"
      ]
     },
     "execution_count": 43,
     "metadata": {},
     "output_type": "execute_result"
    }
   ],
   "source": [
    "df"
   ]
  },
  {
   "cell_type": "code",
   "execution_count": null,
   "id": "b117251a",
   "metadata": {},
   "outputs": [
    {
     "data": {
      "image/png": "[encoded data removed]",
      "text/plain": [
       "<Figure size 640x480 with 1 Axes>"
      ]
     },
     "metadata": {},
     "output_type": "display_data"
    }
   ],
   "source": [
    "with sns.color_palette(\"Set3\"):\n",
    "    sns.scatterplot(df, x = 'entropy', y = 'complexity', hue = 'site', palette='Set3')"
   ]
  },
  {
   "cell_type": "code",
   "execution_count": null,
   "id": "81ab1e2f",
   "metadata": {},
   "outputs": [
    {
     "ename": "NameError",
     "evalue": "name 'cotas' is not defined",
     "output_type": "error",
     "traceback": [
      "\u001b[31m---------------------------------------------------------------------------\u001b[39m",
      "\u001b[31mNameError\u001b[39m                                 Traceback (most recent call last)",
      "\u001b[36mCell\u001b[39m\u001b[36m \u001b[39m\u001b[32mIn[12]\u001b[39m\u001b[32m, line 2\u001b[39m\n\u001b[32m      1\u001b[39m fig = plt.figure(figsize=(\u001b[32m11\u001b[39m,\u001b[32m9\u001b[39m))\n\u001b[32m----> \u001b[39m\u001b[32m2\u001b[39m plt.plot(\u001b[43mcotas\u001b[49m[\u001b[33m'\u001b[39m\u001b[33mEntropy\u001b[39m\u001b[33m'\u001b[39m],cotas[\u001b[33m'\u001b[39m\u001b[33mComplexity\u001b[39m\u001b[33m'\u001b[39m], \u001b[33m'\u001b[39m\u001b[33m--k\u001b[39m\u001b[33m'\u001b[39m, label = \u001b[33m'\u001b[39m\u001b[33mHxC boundaries\u001b[39m\u001b[33m'\u001b[39m)\n\u001b[32m      3\u001b[39m plt.plot(noise[\u001b[33m'\u001b[39m\u001b[33mEntropy\u001b[39m\u001b[33m'\u001b[39m],noise[\u001b[33m'\u001b[39m\u001b[33mComplexity\u001b[39m\u001b[33m'\u001b[39m], \u001b[33m'\u001b[39m\u001b[33m--b\u001b[39m\u001b[33m'\u001b[39m, label = \u001b[33m'\u001b[39m\u001b[33mColored noises\u001b[39m\u001b[33m'\u001b[39m)\n\u001b[32m      4\u001b[39m \u001b[38;5;66;03m# for i in range(len(H)):\u001b[39;00m\n",
      "\u001b[31mNameError\u001b[39m: name 'cotas' is not defined"
     ]
    },
    {
     "data": {
      "text/plain": [
       "<Figure size 1100x900 with 0 Axes>"
      ]
     },
     "metadata": {},
     "output_type": "display_data"
    }
   ],
   "source": [
    "\n",
    "fig = plt.figure(figsize=(11,9))\n",
    "plt.plot(cotas['Entropy'],cotas['Complexity'], '--k', label = 'HxC boundaries')\n",
    "plt.plot(noise['Entropy'],noise['Complexity'], '--b', label = 'Colored noises')\n",
    "# for i in range(len(H)):\n",
    "plt.scatter(df_degraded[\"entropy\"], df_degraded[\"complexity\"], marker='.', s=5, cmap='viridis', label=\"Degraded\")\n",
    "plt.scatter(df_non_degraded[\"entropy\"], df_non_degraded[\"complexity\"], marker='.', s=5, cmap='viridis', label=\"Non_degraded\")\n",
    "\n",
    "plt.xlim([0, 1])\n",
    "plt.ylim([0, np.max(cotas['Complexity'])+0.01])\n",
    "plt.ylabel('Complexity [Cf]')\n",
    "plt.xlabel('Entropy [Hf]')\n",
    "lgnd = plt.legend(loc = 'best')\n",
    "# set sizes of points in legend to be the same\n",
    "for handle in lgnd.legend_handles:\n",
    "    try:\n",
    "        handle.set_sizes([200.0])\n",
    "    except:\n",
    "        continue\n",
    "fig.axes[0].set_title(f\"Reef Degradation By EGCI\")"
   ]
  },
  {
   "cell_type": "code",
   "execution_count": null,
   "id": "e1a857ee",
   "metadata": {},
   "outputs": [
    {
     "data": {
      "text/plain": [
       "[<matplotlib.lines.Line2D at 0x73b3336ec990>]"
      ]
     },
     "execution_count": 10,
     "metadata": {},
     "output_type": "execute_result"
    },
    {
     "data": {
      "image/png": "[encoded data removed]",
      "text/plain": [
       "<Figure size 640x480 with 1 Axes>"
      ]
     },
     "metadata": {},
     "output_type": "display_data"
    }
   ],
   "source": [
    "accs = []\n",
    "params = [i for i in range(1,50, 1)]\n",
    "\n",
    "\n",
    "for i in range(1, 50, 1):\n",
    "    clf = neighbors.KNeighborsClassifier(n_neighbors = i)\n",
    "\n",
    "\n",
    "    X = df[['entropy', 'complexity']]\n",
    "    y = (df['gt'] == \"Degraded reef\")\n",
    "\n",
    "    X_train, X_test, y_train, y_test = model_selection.train_test_split(\n",
    "        X, y, test_size=0.33, random_state=42)\n",
    "    clf.fit(X_train, y_train)\n",
    "\n",
    "    actual = mean(clf.predict(X_test) == y_test)\n",
    "    \n",
    "    accs.append(actual)\n",
    "\n",
    "plt.plot(params, accs)"
   ]
  },
  {
   "cell_type": "code",
   "execution_count": null,
   "id": "e1b14cec",
   "metadata": {},
   "outputs": [
    {
     "data": {
      "text/plain": [
       "0.8756120307764047"
      ]
     },
     "execution_count": 11,
     "metadata": {},
     "output_type": "execute_result"
    }
   ],
   "source": [
    "actual = sum(clf.predict(X_test) == y_test)/len(y_test)\n",
    "\n",
    "actual"
   ]
  },
  {
   "cell_type": "code",
   "execution_count": null,
   "id": "486e0799",
   "metadata": {},
   "outputs": [],
   "source": [
    "permutations = []\n",
    "# permutation testing\n",
    "for i in range(10**4):\n",
    "    permutations.append(mean(np.random.choice(y_test, len(y_test)) == y_test))\n",
    "\n",
    "num_sig = 0\n",
    "for perm in permutations:\n",
    "    if perm > actual:\n",
    "        num_sig += 1\n",
    "\n",
    "p = num_sig / 10**4"
   ]
  },
  {
   "cell_type": "code",
   "execution_count": null,
   "id": "c648ff99",
   "metadata": {},
   "outputs": [],
   "source": [
    "report = classification_report(y_test, clf.predict(X_test)) "
   ]
  },
  {
   "cell_type": "code",
   "execution_count": null,
   "id": "cc928732",
   "metadata": {},
   "outputs": [
    {
     "name": "stdout",
     "output_type": "stream",
     "text": [
      "              precision    recall  f1-score   support\n",
      "\n",
      "       False       0.93      0.85      0.89      5012\n",
      "        True       0.81      0.91      0.86      3566\n",
      "\n",
      "    accuracy                           0.88      8578\n",
      "   macro avg       0.87      0.88      0.87      8578\n",
      "weighted avg       0.88      0.88      0.88      8578\n",
      "\n"
     ]
    }
   ],
   "source": [
    "print(report)"
   ]
  }
 ],
 "metadata": {
  "kernelspec": {
   "display_name": "acoustic-knowledge",
   "language": "python",
   "name": "python3"
  },
  "language_info": {
   "codemirror_mode": {
    "name": "ipython",
    "version": 3
   },
   "file_extension": ".py",
   "mimetype": "text/x-python",
   "name": "python",
   "nbconvert_exporter": "python",
   "pygments_lexer": "ipython3",
   "version": "3.11.13"
  }
 },
 "nbformat": 4,
 "nbformat_minor": 5
}
