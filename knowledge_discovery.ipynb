{
 "cells": [
  {
   "cell_type": "markdown",
   "id": "eb0c7dbb",
   "metadata": {},
   "source": [
    "### Sean's Idea: use piha analyzer latent space vectors (embeddings) in LanceDB to do knowledge discovery on piha data"
   ]
  },
  {
   "cell_type": "code",
   "execution_count": null,
   "id": "9017e97d",
   "metadata": {},
   "outputs": [],
   "source": [
    "import sys\n",
    "import os\n",
    "\n",
    "# imports\n",
    "from pyha_analyzer import PyhaTrainer, PyhaTrainingArguments, extractors\n",
    "from pyha_analyzer.models.demo_CNN import ResnetConfig, ResnetModel\n",
    "from pyha_analyzer.preprocessors import MelSpectrogramPreprocessors\n",
    "from pyha_analyzer.models import EfficentNet"
   ]
  },
  {
   "cell_type": "code",
   "execution_count": 3,
   "id": "4bc8054a",
   "metadata": {},
   "outputs": [
    {
     "data": {
      "application/vnd.jupyter.widget-view+json": {
       "model_id": "f2db565b2de040a8a084f15443b86991",
       "version_major": 2,
       "version_minor": 0
      },
      "text/plain": [
       "Casting the dataset:   0%|          | 0/178 [00:00<?, ? examples/s]"
      ]
     },
     "metadata": {},
     "output_type": "display_data"
    },
    {
     "data": {
      "application/vnd.jupyter.widget-view+json": {
       "model_id": "8015af89bd0a4c4184739d655b7590e4",
       "version_major": 2,
       "version_minor": 0
      },
      "text/plain": [
       "Casting the dataset:   0%|          | 0/23 [00:00<?, ? examples/s]"
      ]
     },
     "metadata": {},
     "output_type": "display_data"
    },
    {
     "data": {
      "application/vnd.jupyter.widget-view+json": {
       "model_id": "af34a2ad95914f8aae7d94c31d0e0f53",
       "version_major": 2,
       "version_minor": 0
      },
      "text/plain": [
       "Casting the dataset:   0%|          | 0/54 [00:00<?, ? examples/s]"
      ]
     },
     "metadata": {},
     "output_type": "display_data"
    },
    {
     "name": "stdout",
     "output_type": "stream",
     "text": [
      "DatasetDict({\n",
      "    train: Dataset({\n",
      "        features: ['sample_rate', 'labels', 'filepath', 'audio', 'audio_in'],\n",
      "        num_rows: 178\n",
      "    })\n",
      "    valid: Dataset({\n",
      "        features: ['sample_rate', 'labels', 'filepath', 'audio', 'audio_in'],\n",
      "        num_rows: 23\n",
      "    })\n",
      "    test: Dataset({\n",
      "        features: ['sample_rate', 'labels', 'filepath', 'audio', 'audio_in'],\n",
      "        num_rows: 54\n",
      "    })\n",
      "})\n"
     ]
    }
   ],
   "source": [
    "coralreef_extractor = extractors.CoralReef()\n",
    "coral_ads = coralreef_extractor(\"/home/a.jajodia.229/acoustic/local_data/coral\")\n",
    "print(coral_ads)"
   ]
  },
  {
   "cell_type": "code",
   "execution_count": 4,
   "id": "8dd9b848",
   "metadata": {},
   "outputs": [
    {
     "name": "stderr",
     "output_type": "stream",
     "text": [
      "\u001b[34m\u001b[1mwandb\u001b[0m: Currently logged in as: \u001b[33majajodia\u001b[0m (\u001b[33majajodia-uc-san-diego\u001b[0m) to \u001b[32mhttps://api.wandb.ai\u001b[0m. Use \u001b[1m`wandb login --relogin`\u001b[0m to force relogin\n",
      "\u001b[34m\u001b[1mwandb\u001b[0m: \u001b[33mWARNING\u001b[0m The `run_name` is currently set to the same value as `TrainingArguments.output_dir`. If this was not intended, please specify a different run name by setting the `TrainingArguments.run_name` parameter.\n"
     ]
    },
    {
     "data": {
      "text/html": [
       "Changes to your `wandb` environment variables will be ignored because your `wandb` session has already started. For more information on how to modify your settings with `wandb.init()` arguments, please refer to <a href='https://wandb.me/wandb-init' target=\"_blank\">the W&B docs</a>."
      ],
      "text/plain": [
       "<IPython.core.display.HTML object>"
      ]
     },
     "metadata": {},
     "output_type": "display_data"
    },
    {
     "data": {
      "text/html": [
       "Tracking run with wandb version 0.21.0"
      ],
      "text/plain": [
       "<IPython.core.display.HTML object>"
      ]
     },
     "metadata": {},
     "output_type": "display_data"
    },
    {
     "data": {
      "text/html": [
       "Run data is saved locally in <code>/home/a.jajodia.229/acoustic/acoustic_knowledge_discovery/wandb/run-20250703_141117-oy1u9p9t</code>"
      ],
      "text/plain": [
       "<IPython.core.display.HTML object>"
      ]
     },
     "metadata": {},
     "output_type": "display_data"
    },
    {
     "data": {
      "text/html": [
       "Syncing run <strong><a href='https://wandb.ai/ajajodia-uc-san-diego/pa2.0_test/runs/oy1u9p9t' target=\"_blank\">working_dir</a></strong> to <a href='https://wandb.ai/ajajodia-uc-san-diego/pa2.0_test' target=\"_blank\">Weights & Biases</a> (<a href='https://wandb.me/developer-guide' target=\"_blank\">docs</a>)<br>"
      ],
      "text/plain": [
       "<IPython.core.display.HTML object>"
      ]
     },
     "metadata": {},
     "output_type": "display_data"
    },
    {
     "data": {
      "text/html": [
       " View project at <a href='https://wandb.ai/ajajodia-uc-san-diego/pa2.0_test' target=\"_blank\">https://wandb.ai/ajajodia-uc-san-diego/pa2.0_test</a>"
      ],
      "text/plain": [
       "<IPython.core.display.HTML object>"
      ]
     },
     "metadata": {},
     "output_type": "display_data"
    },
    {
     "data": {
      "text/html": [
       " View run at <a href='https://wandb.ai/ajajodia-uc-san-diego/pa2.0_test/runs/oy1u9p9t' target=\"_blank\">https://wandb.ai/ajajodia-uc-san-diego/pa2.0_test/runs/oy1u9p9t</a>"
      ],
      "text/plain": [
       "<IPython.core.display.HTML object>"
      ]
     },
     "metadata": {},
     "output_type": "display_data"
    },
    {
     "data": {
      "text/html": [
       "\n",
       "    <div>\n",
       "      \n",
       "      <progress value='3' max='3' style='width:300px; height:20px; vertical-align: middle;'></progress>\n",
       "      [3/3 00:00, Epoch 1/1]\n",
       "    </div>\n",
       "    <table border=\"1\" class=\"dataframe\">\n",
       "  <thead>\n",
       " <tr style=\"text-align: left;\">\n",
       "      <th>Step</th>\n",
       "      <th>Training Loss</th>\n",
       "      <th>Validation Loss</th>\n",
       "    </tr>\n",
       "  </thead>\n",
       "  <tbody>\n",
       "  </tbody>\n",
       "</table><p>"
      ],
      "text/plain": [
       "<IPython.core.display.HTML object>"
      ]
     },
     "metadata": {},
     "output_type": "display_data"
    },
    {
     "data": {
      "text/plain": [
       "TrainOutput(global_step=3, training_loss=0.6582299868265787, metrics={'train_runtime': 15.9313, 'train_samples_per_second': 11.173, 'train_steps_per_second': 0.188, 'total_flos': 0.0, 'train_loss': 0.6582299868265787, 'epoch': 1.0})"
      ]
     },
     "execution_count": 4,
     "metadata": {},
     "output_type": "execute_result"
    }
   ],
   "source": [
    "preprocessor = MelSpectrogramPreprocessors(duration=5, class_list=coral_ads[\"train\"].features[\"labels\"].feature.names)\n",
    "\n",
    "coral_ads[\"train\"].set_transform(preprocessor)\n",
    "coral_ads[\"valid\"].set_transform(preprocessor)\n",
    "coral_ads[\"test\"].set_transform(preprocessor)\n",
    "\n",
    "resnet50d_config = ResnetConfig(\n",
    "    #num_classes=len(coral_ads[\"train\"].features[\"labels\"].names), input_channels=1\n",
    "    num_classes=2, input_channels=1, problem_type = \"multi_label_classification\"\n",
    ")\n",
    "\n",
    "#model = EfficentNet(num_classes=len(coral_ads[\"train\"].features[\"labels\"].names))\n",
    "model = EfficentNet(num_classes=2)\n",
    "\n",
    "args = PyhaTrainingArguments(\n",
    "    working_dir=\"working_dir\"\n",
    ")\n",
    "args.num_train_epochs = 1\n",
    "args.eval_steps = 5\n",
    "\n",
    "trainer = PyhaTrainer(\n",
    "    model=model,\n",
    "    dataset=coral_ads,\n",
    "    training_args=args\n",
    ")\n",
    "trainer.train()"
   ]
  },
  {
   "cell_type": "code",
   "execution_count": null,
   "id": "8a916b4b",
   "metadata": {},
   "outputs": [
    {
     "ename": "AttributeError",
     "evalue": "'Sequence' object has no attribute 'to_array'",
     "output_type": "error",
     "traceback": [
      "\u001b[31m---------------------------------------------------------------------------\u001b[39m",
      "\u001b[31mAttributeError\u001b[39m                            Traceback (most recent call last)",
      "\u001b[36mCell\u001b[39m\u001b[36m \u001b[39m\u001b[32mIn[10]\u001b[39m\u001b[32m, line 1\u001b[39m\n\u001b[32m----> \u001b[39m\u001b[32m1\u001b[39m \u001b[43mcoral_ads\u001b[49m\u001b[43m[\u001b[49m\u001b[33;43m'\u001b[39;49m\u001b[33;43mtest\u001b[39;49m\u001b[33;43m'\u001b[39;49m\u001b[43m]\u001b[49m\u001b[43m.\u001b[49m\u001b[43mfeatures\u001b[49m\u001b[43m[\u001b[49m\u001b[33;43m'\u001b[39;49m\u001b[33;43mlabels\u001b[39;49m\u001b[33;43m'\u001b[39;49m\u001b[43m]\u001b[49m\u001b[43m.\u001b[49m\u001b[43mto_array\u001b[49m()\n",
      "\u001b[31mAttributeError\u001b[39m: 'Sequence' object has no attribute 'to_array'"
     ]
    }
   ],
   "source": [
    "coral_ads['test'].features['labels']"
   ]
  },
  {
   "cell_type": "code",
   "execution_count": null,
   "id": "669b2590",
   "metadata": {},
   "outputs": [],
   "source": []
  },
  {
   "cell_type": "code",
   "execution_count": 8,
   "id": "89df949a",
   "metadata": {},
   "outputs": [
    {
     "data": {
      "text/html": [],
      "text/plain": [
       "<IPython.core.display.HTML object>"
      ]
     },
     "metadata": {},
     "output_type": "display_data"
    },
    {
     "data": {
      "text/plain": [
       "array([[-0.12662911,  0.10024103],\n",
       "       [-0.12662664,  0.10023966],\n",
       "       [-0.12663135,  0.10023495],\n",
       "       [-0.12662545,  0.10024117],\n",
       "       [-0.12662792,  0.10023893],\n",
       "       [-0.12662844,  0.10024007],\n",
       "       [-0.12662818,  0.10024092],\n",
       "       [-0.12662978,  0.1002412 ],\n",
       "       [-0.12662862,  0.1002413 ],\n",
       "       [-0.12662809,  0.10024048],\n",
       "       [-0.12662748,  0.10023779],\n",
       "       [-0.12662888,  0.10023783],\n",
       "       [-0.12662481,  0.10024059],\n",
       "       [-0.12662601,  0.10024177],\n",
       "       [-0.12662601,  0.1002375 ],\n",
       "       [-0.12663129,  0.10023931],\n",
       "       [-0.1266278 ,  0.1002368 ],\n",
       "       [-0.12662823,  0.10023847],\n",
       "       [-0.12662762,  0.10024036],\n",
       "       [-0.12662719,  0.10023976],\n",
       "       [-0.12663068,  0.1002429 ],\n",
       "       [-0.1266257 ,  0.10023928],\n",
       "       [-0.12662736,  0.10024128],\n",
       "       [-0.1266272 ,  0.10023791],\n",
       "       [-0.12662882,  0.10024078],\n",
       "       [-0.12662627,  0.10023934],\n",
       "       [-0.12662888,  0.10024095],\n",
       "       [-0.12662978,  0.10023864],\n",
       "       [-0.12662902,  0.10024063],\n",
       "       [-0.12662461,  0.10024051],\n",
       "       [-0.12662682,  0.10024057],\n",
       "       [-0.12663142,  0.10024151],\n",
       "       [-0.1266295 ,  0.10024121],\n",
       "       [-0.1266298 ,  0.10023861],\n",
       "       [-0.12662691,  0.10024052],\n",
       "       [-0.12663077,  0.10023804],\n",
       "       [-0.12662663,  0.10023802],\n",
       "       [-0.12662536,  0.10024159],\n",
       "       [-0.12662789,  0.10024258],\n",
       "       [-0.12662771,  0.10024205],\n",
       "       [-0.12662484,  0.10023943],\n",
       "       [-0.12663032,  0.10024086],\n",
       "       [-0.12662826,  0.10024047],\n",
       "       [-0.12662804,  0.1002389 ],\n",
       "       [-0.12662664,  0.10024104],\n",
       "       [-0.12662902,  0.10023941],\n",
       "       [-0.12662603,  0.1002387 ],\n",
       "       [-0.12662902,  0.10024093],\n",
       "       [-0.1266274 ,  0.1002416 ],\n",
       "       [-0.1266312 ,  0.10023727],\n",
       "       [-0.1266265 ,  0.10024025],\n",
       "       [-0.12662679,  0.10024058],\n",
       "       [-0.12662733,  0.10023955],\n",
       "       [-0.12662685,  0.10023926]], dtype=float32)"
      ]
     },
     "execution_count": 8,
     "metadata": {},
     "output_type": "execute_result"
    }
   ],
   "source": [
    "trainer.predict(coral_ads[\"test\"]).predictions[1]"
   ]
  }
 ],
 "metadata": {
  "kernelspec": {
   "display_name": "acoustic-knowledge",
   "language": "python",
   "name": "python3"
  },
  "language_info": {
   "codemirror_mode": {
    "name": "ipython",
    "version": 3
   },
   "file_extension": ".py",
   "mimetype": "text/x-python",
   "name": "python",
   "nbconvert_exporter": "python",
   "pygments_lexer": "ipython3",
   "version": "3.11.13"
  }
 },
 "nbformat": 4,
 "nbformat_minor": 5
}
